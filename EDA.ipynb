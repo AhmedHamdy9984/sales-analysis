{
 "cells": [
  {
   "cell_type": "code",
   "execution_count": 2,
   "id": "0f529277",
   "metadata": {},
   "outputs": [],
   "source": [
    "import pandas as pd \n",
    "import pyodbc"
   ]
  },
  {
   "cell_type": "code",
   "execution_count": 3,
   "id": "c253b21f",
   "metadata": {},
   "outputs": [],
   "source": [
    "conn_str = (\n",
    "    \"DRIVER={SQL Server};\"\n",
    "    'SERVER=localhost\\\\SQLEXPRESS;'\n",
    "    'DATABASE=Sales_trends_DB;'\n",
    "    'Trusted_Connection=yes;'\n",
    ")"
   ]
  },
  {
   "cell_type": "code",
   "execution_count": 4,
   "id": "4671b787",
   "metadata": {},
   "outputs": [],
   "source": [
    "conn = pyodbc.connect(conn_str)"
   ]
  },
  {
   "cell_type": "code",
   "execution_count": 5,
   "id": "a2e5d16e",
   "metadata": {},
   "outputs": [
    {
     "name": "stderr",
     "output_type": "stream",
     "text": [
      "C:\\Users\\Al-Huda\\AppData\\Local\\Temp\\ipykernel_11788\\184325055.py:2: UserWarning: pandas only supports SQLAlchemy connectable (engine/connection) or database string URI or sqlite3 DBAPI2 connection. Other DBAPI2 objects are not tested. Please consider using SQLAlchemy.\n",
      "  df = pd.read_sql(query, conn)\n"
     ]
    },
    {
     "data": {
      "application/vnd.microsoft.datawrangler.viewer.v0+json": {
       "columns": [
        {
         "name": "index",
         "rawType": "int64",
         "type": "integer"
        },
        {
         "name": "Customer_ID",
         "rawType": "int64",
         "type": "integer"
        },
        {
         "name": "Age",
         "rawType": "int64",
         "type": "integer"
        },
        {
         "name": "Gender",
         "rawType": "object",
         "type": "string"
        },
        {
         "name": "Item_Purchased",
         "rawType": "object",
         "type": "string"
        },
        {
         "name": "Category",
         "rawType": "object",
         "type": "string"
        },
        {
         "name": "Purchase_Amount_USD",
         "rawType": "int64",
         "type": "integer"
        },
        {
         "name": "Location",
         "rawType": "object",
         "type": "string"
        },
        {
         "name": "Size",
         "rawType": "object",
         "type": "string"
        },
        {
         "name": "Color",
         "rawType": "object",
         "type": "string"
        },
        {
         "name": "Season",
         "rawType": "object",
         "type": "string"
        },
        {
         "name": "Review_Rating",
         "rawType": "float64",
         "type": "float"
        },
        {
         "name": "Subscription_Status",
         "rawType": "object",
         "type": "string"
        },
        {
         "name": "Payment_Method",
         "rawType": "object",
         "type": "string"
        },
        {
         "name": "Shipping_Type",
         "rawType": "object",
         "type": "string"
        },
        {
         "name": "Discount_Applied",
         "rawType": "object",
         "type": "string"
        },
        {
         "name": "Promo_Code_Used",
         "rawType": "object",
         "type": "string"
        },
        {
         "name": "Previous_Purchases",
         "rawType": "int64",
         "type": "integer"
        },
        {
         "name": "Preferred_Payment_Method",
         "rawType": "object",
         "type": "string"
        },
        {
         "name": "Frequency_of_Purchases",
         "rawType": "object",
         "type": "string"
        }
       ],
       "ref": "95e9053d-b60f-45e3-bd5c-01a8a13e2f7e",
       "rows": [
        [
         "0",
         "1",
         "55",
         "Male",
         "Blouse",
         "Clothing",
         "53",
         "Kentucky",
         "L",
         "Gray",
         "Winter",
         "3.0999999046325684",
         "Yes",
         "Credit Card",
         "Express",
         "Yes",
         "Yes",
         "14",
         "Venmo",
         "Fortnightly"
        ],
        [
         "1",
         "2",
         "19",
         "Male",
         "Sweater",
         "Clothing",
         "64",
         "Maine",
         "L",
         "Maroon",
         "Winter",
         "3.0999999046325684",
         "Yes",
         "Bank Transfer",
         "Express",
         "Yes",
         "Yes",
         "2",
         "Cash",
         "Fortnightly"
        ],
        [
         "2",
         "3",
         "50",
         "Male",
         "Jeans",
         "Clothing",
         "73",
         "Massachusetts",
         "S",
         "Maroon",
         "Spring",
         "3.0999999046325684",
         "Yes",
         "Cash",
         "Free Shipping",
         "Yes",
         "Yes",
         "23",
         "Credit Card",
         "Weekly"
        ],
        [
         "3",
         "4",
         "21",
         "Male",
         "Sandals",
         "Footwear",
         "90",
         "Rhode Island",
         "M",
         "Maroon",
         "Spring",
         "3.5",
         "Yes",
         "PayPal",
         "Next Day Air",
         "Yes",
         "Yes",
         "49",
         "PayPal",
         "Weekly"
        ],
        [
         "4",
         "5",
         "45",
         "Male",
         "Blouse",
         "Clothing",
         "49",
         "Oregon",
         "M",
         "Turquoise",
         "Spring",
         "2.700000047683716",
         "Yes",
         "Cash",
         "Free Shipping",
         "Yes",
         "Yes",
         "31",
         "PayPal",
         "Annually"
        ],
        [
         "5",
         "6",
         "46",
         "Male",
         "Sneakers",
         "Footwear",
         "20",
         "Wyoming",
         "M",
         "White",
         "Summer",
         "2.9000000953674316",
         "Yes",
         "Venmo",
         "Standard",
         "Yes",
         "Yes",
         "14",
         "Venmo",
         "Weekly"
        ],
        [
         "6",
         "7",
         "63",
         "Male",
         "Shirt",
         "Clothing",
         "85",
         "Montana",
         "M",
         "Gray",
         "Fall",
         "3.200000047683716",
         "Yes",
         "Debit Card",
         "Free Shipping",
         "Yes",
         "Yes",
         "49",
         "Cash",
         "Quarterly"
        ],
        [
         "7",
         "8",
         "27",
         "Male",
         "Shorts",
         "Clothing",
         "34",
         "Louisiana",
         "L",
         "Charcoal",
         "Winter",
         "3.200000047683716",
         "Yes",
         "Debit Card",
         "Free Shipping",
         "Yes",
         "Yes",
         "19",
         "Credit Card",
         "Weekly"
        ],
        [
         "8",
         "9",
         "26",
         "Male",
         "Coat",
         "Outerwear",
         "97",
         "West Virginia",
         "L",
         "Silver",
         "Summer",
         "2.5999999046325684",
         "Yes",
         "Venmo",
         "Express",
         "Yes",
         "Yes",
         "8",
         "Venmo",
         "Annually"
        ],
        [
         "9",
         "10",
         "57",
         "Male",
         "Handbag",
         "Accessories",
         "31",
         "Missouri",
         "M",
         "Pink",
         "Spring",
         "4.800000190734863",
         "Yes",
         "PayPal",
         "2-Day Shipping",
         "Yes",
         "Yes",
         "4",
         "Cash",
         "Quarterly"
        ],
        [
         "10",
         "11",
         "53",
         "Male",
         "Shoes",
         "Footwear",
         "34",
         "Arkansas",
         "L",
         "Purple",
         "Fall",
         "4.099999904632568",
         "Yes",
         "Credit Card",
         "Store Pickup",
         "Yes",
         "Yes",
         "26",
         "Bank Transfer",
         "Bi-Weekly"
        ],
        [
         "11",
         "12",
         "30",
         "Male",
         "Shorts",
         "Clothing",
         "68",
         "Hawaii",
         "S",
         "Olive",
         "Winter",
         "4.900000095367432",
         "Yes",
         "PayPal",
         "Store Pickup",
         "Yes",
         "Yes",
         "10",
         "Bank Transfer",
         "Fortnightly"
        ],
        [
         "12",
         "13",
         "61",
         "Male",
         "Coat",
         "Outerwear",
         "72",
         "Delaware",
         "M",
         "Gold",
         "Winter",
         "4.5",
         "Yes",
         "PayPal",
         "Express",
         "Yes",
         "Yes",
         "37",
         "Venmo",
         "Fortnightly"
        ],
        [
         "13",
         "14",
         "65",
         "Male",
         "Dress",
         "Clothing",
         "51",
         "New Hampshire",
         "M",
         "Violet",
         "Spring",
         "4.699999809265137",
         "Yes",
         "Debit Card",
         "Express",
         "Yes",
         "Yes",
         "31",
         "PayPal",
         "Weekly"
        ],
        [
         "14",
         "15",
         "64",
         "Male",
         "Coat",
         "Outerwear",
         "53",
         "New York",
         "L",
         "Teal",
         "Winter",
         "4.699999809265137",
         "Yes",
         "PayPal",
         "Free Shipping",
         "Yes",
         "Yes",
         "34",
         "Debit Card",
         "Weekly"
        ],
        [
         "15",
         "16",
         "64",
         "Male",
         "Skirt",
         "Clothing",
         "81",
         "Rhode Island",
         "M",
         "Teal",
         "Winter",
         "2.799999952316284",
         "Yes",
         "Credit Card",
         "Store Pickup",
         "Yes",
         "Yes",
         "8",
         "PayPal",
         "Monthly"
        ],
        [
         "16",
         "17",
         "25",
         "Male",
         "Sunglasses",
         "Accessories",
         "36",
         "Alabama",
         "S",
         "Gray",
         "Spring",
         "4.099999904632568",
         "Yes",
         "Venmo",
         "Next Day Air",
         "Yes",
         "Yes",
         "44",
         "Debit Card",
         "Bi-Weekly"
        ],
        [
         "17",
         "18",
         "53",
         "Male",
         "Dress",
         "Clothing",
         "38",
         "Mississippi",
         "XL",
         "Lavender",
         "Winter",
         "4.699999809265137",
         "Yes",
         "Debit Card",
         "2-Day Shipping",
         "Yes",
         "Yes",
         "36",
         "Venmo",
         "Quarterly"
        ],
        [
         "18",
         "19",
         "52",
         "Male",
         "Sweater",
         "Clothing",
         "48",
         "Montana",
         "S",
         "Black",
         "Summer",
         "4.599999904632568",
         "Yes",
         "Bank Transfer",
         "Free Shipping",
         "Yes",
         "Yes",
         "17",
         "Cash",
         "Weekly"
        ],
        [
         "19",
         "20",
         "66",
         "Male",
         "Pants",
         "Clothing",
         "90",
         "Rhode Island",
         "M",
         "Green",
         "Summer",
         "3.299999952316284",
         "Yes",
         "Venmo",
         "Standard",
         "Yes",
         "Yes",
         "46",
         "Debit Card",
         "Bi-Weekly"
        ],
        [
         "20",
         "21",
         "21",
         "Male",
         "Pants",
         "Clothing",
         "51",
         "Louisiana",
         "M",
         "Black",
         "Winter",
         "2.799999952316284",
         "Yes",
         "Credit Card",
         "Express",
         "Yes",
         "Yes",
         "50",
         "Cash",
         "Every 3 Months"
        ],
        [
         "21",
         "22",
         "31",
         "Male",
         "Pants",
         "Clothing",
         "62",
         "North Carolina",
         "M",
         "Charcoal",
         "Winter",
         "4.099999904632568",
         "Yes",
         "Credit Card",
         "Store Pickup",
         "Yes",
         "Yes",
         "22",
         "Debit Card",
         "Quarterly"
        ],
        [
         "22",
         "23",
         "56",
         "Male",
         "Pants",
         "Clothing",
         "37",
         "California",
         "M",
         "Peach",
         "Summer",
         "3.200000047683716",
         "Yes",
         "Cash",
         "Store Pickup",
         "Yes",
         "Yes",
         "32",
         "Debit Card",
         "Annually"
        ],
        [
         "23",
         "24",
         "31",
         "Male",
         "Pants",
         "Clothing",
         "88",
         "Oklahoma",
         "XL",
         "White",
         "Winter",
         "4.400000095367432",
         "Yes",
         "Credit Card",
         "Express",
         "Yes",
         "Yes",
         "40",
         "Credit Card",
         "Weekly"
        ],
        [
         "24",
         "25",
         "18",
         "Male",
         "Jacket",
         "Outerwear",
         "22",
         "Florida",
         "M",
         "Green",
         "Fall",
         "2.9000000953674316",
         "Yes",
         "Cash",
         "Store Pickup",
         "Yes",
         "Yes",
         "16",
         "Debit Card",
         "Weekly"
        ],
        [
         "25",
         "26",
         "18",
         "Male",
         "Hoodie",
         "Clothing",
         "25",
         "Texas",
         "M",
         "Silver",
         "Summer",
         "3.5999999046325684",
         "Yes",
         "Bank Transfer",
         "Express",
         "Yes",
         "Yes",
         "14",
         "PayPal",
         "Annually"
        ],
        [
         "26",
         "27",
         "38",
         "Male",
         "Jewelry",
         "Accessories",
         "20",
         "Nevada",
         "M",
         "Red",
         "Spring",
         "3.5999999046325684",
         "Yes",
         "Cash",
         "Next Day Air",
         "Yes",
         "Yes",
         "13",
         "Credit Card",
         "Annually"
        ],
        [
         "27",
         "28",
         "56",
         "Male",
         "Shorts",
         "Clothing",
         "56",
         "Kentucky",
         "L",
         "Cyan",
         "Summer",
         "5.0",
         "Yes",
         "Debit Card",
         "Next Day Air",
         "Yes",
         "Yes",
         "7",
         "Bank Transfer",
         "Every 3 Months"
        ],
        [
         "28",
         "29",
         "54",
         "Male",
         "Handbag",
         "Accessories",
         "94",
         "North Carolina",
         "M",
         "Gray",
         "Fall",
         "4.400000095367432",
         "Yes",
         "Debit Card",
         "Free Shipping",
         "Yes",
         "Yes",
         "41",
         "PayPal",
         "Every 3 Months"
        ],
        [
         "29",
         "30",
         "31",
         "Male",
         "Dress",
         "Clothing",
         "48",
         "Wyoming",
         "S",
         "Black",
         "Fall",
         "4.099999904632568",
         "Yes",
         "Venmo",
         "Store Pickup",
         "Yes",
         "Yes",
         "14",
         "Credit Card",
         "Weekly"
        ],
        [
         "30",
         "31",
         "57",
         "Male",
         "Jewelry",
         "Accessories",
         "31",
         "North Carolina",
         "L",
         "Black",
         "Winter",
         "4.699999809265137",
         "Yes",
         "Bank Transfer",
         "Standard",
         "Yes",
         "Yes",
         "16",
         "Credit Card",
         "Monthly"
        ],
        [
         "31",
         "32",
         "33",
         "Male",
         "Dress",
         "Clothing",
         "79",
         "West Virginia",
         "L",
         "Brown",
         "Winter",
         "4.699999809265137",
         "Yes",
         "Venmo",
         "Store Pickup",
         "Yes",
         "Yes",
         "45",
         "Venmo",
         "Monthly"
        ],
        [
         "32",
         "33",
         "36",
         "Male",
         "Jacket",
         "Outerwear",
         "67",
         "Kansas",
         "M",
         "Silver",
         "Summer",
         "4.900000095367432",
         "Yes",
         "Bank Transfer",
         "Free Shipping",
         "Yes",
         "Yes",
         "37",
         "Venmo",
         "Annually"
        ],
        [
         "33",
         "34",
         "54",
         "Male",
         "Pants",
         "Clothing",
         "38",
         "Colorado",
         "L",
         "Green",
         "Summer",
         "3.299999952316284",
         "Yes",
         "Venmo",
         "Store Pickup",
         "Yes",
         "Yes",
         "45",
         "Cash",
         "Quarterly"
        ],
        [
         "34",
         "35",
         "36",
         "Male",
         "T-shirt",
         "Clothing",
         "91",
         "North Dakota",
         "L",
         "Violet",
         "Spring",
         "4.599999904632568",
         "Yes",
         "Debit Card",
         "2-Day Shipping",
         "Yes",
         "Yes",
         "38",
         "PayPal",
         "Quarterly"
        ],
        [
         "35",
         "36",
         "54",
         "Male",
         "Blouse",
         "Clothing",
         "33",
         "Massachusetts",
         "M",
         "Cyan",
         "Summer",
         "4.0",
         "Yes",
         "Bank Transfer",
         "2-Day Shipping",
         "Yes",
         "Yes",
         "48",
         "Credit Card",
         "Bi-Weekly"
        ],
        [
         "36",
         "37",
         "35",
         "Male",
         "T-shirt",
         "Clothing",
         "69",
         "Illinois",
         "M",
         "Maroon",
         "Winter",
         "4.599999904632568",
         "Yes",
         "Cash",
         "Free Shipping",
         "Yes",
         "Yes",
         "44",
         "PayPal",
         "Fortnightly"
        ],
        [
         "37",
         "38",
         "35",
         "Male",
         "Jeans",
         "Clothing",
         "45",
         "Indiana",
         "S",
         "Cyan",
         "Summer",
         "2.799999952316284",
         "Yes",
         "Debit Card",
         "Store Pickup",
         "Yes",
         "Yes",
         "10",
         "PayPal",
         "Weekly"
        ],
        [
         "38",
         "39",
         "29",
         "Male",
         "Dress",
         "Clothing",
         "37",
         "Florida",
         "M",
         "Red",
         "Winter",
         "3.700000047683716",
         "Yes",
         "Debit Card",
         "2-Day Shipping",
         "Yes",
         "Yes",
         "44",
         "Venmo",
         "Every 3 Months"
        ],
        [
         "39",
         "40",
         "70",
         "Male",
         "Pants",
         "Clothing",
         "60",
         "Arizona",
         "S",
         "Turquoise",
         "Summer",
         "4.199999809265137",
         "Yes",
         "Bank Transfer",
         "Express",
         "Yes",
         "Yes",
         "18",
         "Credit Card",
         "Monthly"
        ],
        [
         "40",
         "41",
         "69",
         "Male",
         "Handbag",
         "Accessories",
         "76",
         "Louisiana",
         "L",
         "Beige",
         "Winter",
         "4.599999904632568",
         "Yes",
         "PayPal",
         "Next Day Air",
         "Yes",
         "Yes",
         "31",
         "Debit Card",
         "Quarterly"
        ],
        [
         "41",
         "42",
         "67",
         "Male",
         "Scarf",
         "Accessories",
         "39",
         "Alaska",
         "M",
         "Orange",
         "Spring",
         "4.5",
         "Yes",
         "Cash",
         "Standard",
         "Yes",
         "Yes",
         "40",
         "Venmo",
         "Annually"
        ],
        [
         "42",
         "43",
         "20",
         "Male",
         "Coat",
         "Outerwear",
         "100",
         "Tennessee",
         "M",
         "Beige",
         "Spring",
         "4.099999904632568",
         "Yes",
         "Bank Transfer",
         "Free Shipping",
         "Yes",
         "Yes",
         "15",
         "PayPal",
         "Annually"
        ],
        [
         "43",
         "44",
         "25",
         "Male",
         "Scarf",
         "Accessories",
         "69",
         "Ohio",
         "L",
         "Lavender",
         "Fall",
         "3.700000047683716",
         "Yes",
         "PayPal",
         "Store Pickup",
         "Yes",
         "Yes",
         "19",
         "PayPal",
         "Fortnightly"
        ],
        [
         "44",
         "45",
         "39",
         "Male",
         "Hat",
         "Accessories",
         "53",
         "Kentucky",
         "S",
         "Silver",
         "Summer",
         "4.599999904632568",
         "Yes",
         "Bank Transfer",
         "Free Shipping",
         "Yes",
         "Yes",
         "45",
         "PayPal",
         "Weekly"
        ],
        [
         "45",
         "46",
         "50",
         "Male",
         "Socks",
         "Clothing",
         "21",
         "Tennessee",
         "XL",
         "Indigo",
         "Fall",
         "2.9000000953674316",
         "Yes",
         "Venmo",
         "2-Day Shipping",
         "Yes",
         "Yes",
         "25",
         "PayPal",
         "Annually"
        ],
        [
         "46",
         "47",
         "57",
         "Male",
         "Shirt",
         "Clothing",
         "43",
         "California",
         "L",
         "White",
         "Summer",
         "2.9000000953674316",
         "Yes",
         "Venmo",
         "Store Pickup",
         "Yes",
         "Yes",
         "45",
         "Cash",
         "Quarterly"
        ],
        [
         "47",
         "48",
         "55",
         "Male",
         "Jewelry",
         "Accessories",
         "54",
         "Montana",
         "M",
         "Charcoal",
         "Winter",
         "4.5",
         "Yes",
         "Debit Card",
         "Free Shipping",
         "Yes",
         "Yes",
         "36",
         "Cash",
         "Weekly"
        ],
        [
         "48",
         "49",
         "42",
         "Male",
         "Shirt",
         "Clothing",
         "55",
         "Nevada",
         "M",
         "Orange",
         "Summer",
         "2.700000047683716",
         "Yes",
         "Debit Card",
         "Store Pickup",
         "Yes",
         "Yes",
         "38",
         "Cash",
         "Monthly"
        ],
        [
         "49",
         "50",
         "68",
         "Male",
         "Hoodie",
         "Clothing",
         "30",
         "New Jersey",
         "S",
         "Indigo",
         "Spring",
         "4.599999904632568",
         "Yes",
         "Bank Transfer",
         "Next Day Air",
         "Yes",
         "Yes",
         "34",
         "Debit Card",
         "Bi-Weekly"
        ]
       ],
       "shape": {
        "columns": 19,
        "rows": 3900
       }
      },
      "text/html": [
       "<div>\n",
       "<style scoped>\n",
       "    .dataframe tbody tr th:only-of-type {\n",
       "        vertical-align: middle;\n",
       "    }\n",
       "\n",
       "    .dataframe tbody tr th {\n",
       "        vertical-align: top;\n",
       "    }\n",
       "\n",
       "    .dataframe thead th {\n",
       "        text-align: right;\n",
       "    }\n",
       "</style>\n",
       "<table border=\"1\" class=\"dataframe\">\n",
       "  <thead>\n",
       "    <tr style=\"text-align: right;\">\n",
       "      <th></th>\n",
       "      <th>Customer_ID</th>\n",
       "      <th>Age</th>\n",
       "      <th>Gender</th>\n",
       "      <th>Item_Purchased</th>\n",
       "      <th>Category</th>\n",
       "      <th>Purchase_Amount_USD</th>\n",
       "      <th>Location</th>\n",
       "      <th>Size</th>\n",
       "      <th>Color</th>\n",
       "      <th>Season</th>\n",
       "      <th>Review_Rating</th>\n",
       "      <th>Subscription_Status</th>\n",
       "      <th>Payment_Method</th>\n",
       "      <th>Shipping_Type</th>\n",
       "      <th>Discount_Applied</th>\n",
       "      <th>Promo_Code_Used</th>\n",
       "      <th>Previous_Purchases</th>\n",
       "      <th>Preferred_Payment_Method</th>\n",
       "      <th>Frequency_of_Purchases</th>\n",
       "    </tr>\n",
       "  </thead>\n",
       "  <tbody>\n",
       "    <tr>\n",
       "      <th>0</th>\n",
       "      <td>1</td>\n",
       "      <td>55</td>\n",
       "      <td>Male</td>\n",
       "      <td>Blouse</td>\n",
       "      <td>Clothing</td>\n",
       "      <td>53</td>\n",
       "      <td>Kentucky</td>\n",
       "      <td>L</td>\n",
       "      <td>Gray</td>\n",
       "      <td>Winter</td>\n",
       "      <td>3.1</td>\n",
       "      <td>Yes</td>\n",
       "      <td>Credit Card</td>\n",
       "      <td>Express</td>\n",
       "      <td>Yes</td>\n",
       "      <td>Yes</td>\n",
       "      <td>14</td>\n",
       "      <td>Venmo</td>\n",
       "      <td>Fortnightly</td>\n",
       "    </tr>\n",
       "    <tr>\n",
       "      <th>1</th>\n",
       "      <td>2</td>\n",
       "      <td>19</td>\n",
       "      <td>Male</td>\n",
       "      <td>Sweater</td>\n",
       "      <td>Clothing</td>\n",
       "      <td>64</td>\n",
       "      <td>Maine</td>\n",
       "      <td>L</td>\n",
       "      <td>Maroon</td>\n",
       "      <td>Winter</td>\n",
       "      <td>3.1</td>\n",
       "      <td>Yes</td>\n",
       "      <td>Bank Transfer</td>\n",
       "      <td>Express</td>\n",
       "      <td>Yes</td>\n",
       "      <td>Yes</td>\n",
       "      <td>2</td>\n",
       "      <td>Cash</td>\n",
       "      <td>Fortnightly</td>\n",
       "    </tr>\n",
       "    <tr>\n",
       "      <th>2</th>\n",
       "      <td>3</td>\n",
       "      <td>50</td>\n",
       "      <td>Male</td>\n",
       "      <td>Jeans</td>\n",
       "      <td>Clothing</td>\n",
       "      <td>73</td>\n",
       "      <td>Massachusetts</td>\n",
       "      <td>S</td>\n",
       "      <td>Maroon</td>\n",
       "      <td>Spring</td>\n",
       "      <td>3.1</td>\n",
       "      <td>Yes</td>\n",
       "      <td>Cash</td>\n",
       "      <td>Free Shipping</td>\n",
       "      <td>Yes</td>\n",
       "      <td>Yes</td>\n",
       "      <td>23</td>\n",
       "      <td>Credit Card</td>\n",
       "      <td>Weekly</td>\n",
       "    </tr>\n",
       "    <tr>\n",
       "      <th>3</th>\n",
       "      <td>4</td>\n",
       "      <td>21</td>\n",
       "      <td>Male</td>\n",
       "      <td>Sandals</td>\n",
       "      <td>Footwear</td>\n",
       "      <td>90</td>\n",
       "      <td>Rhode Island</td>\n",
       "      <td>M</td>\n",
       "      <td>Maroon</td>\n",
       "      <td>Spring</td>\n",
       "      <td>3.5</td>\n",
       "      <td>Yes</td>\n",
       "      <td>PayPal</td>\n",
       "      <td>Next Day Air</td>\n",
       "      <td>Yes</td>\n",
       "      <td>Yes</td>\n",
       "      <td>49</td>\n",
       "      <td>PayPal</td>\n",
       "      <td>Weekly</td>\n",
       "    </tr>\n",
       "    <tr>\n",
       "      <th>4</th>\n",
       "      <td>5</td>\n",
       "      <td>45</td>\n",
       "      <td>Male</td>\n",
       "      <td>Blouse</td>\n",
       "      <td>Clothing</td>\n",
       "      <td>49</td>\n",
       "      <td>Oregon</td>\n",
       "      <td>M</td>\n",
       "      <td>Turquoise</td>\n",
       "      <td>Spring</td>\n",
       "      <td>2.7</td>\n",
       "      <td>Yes</td>\n",
       "      <td>Cash</td>\n",
       "      <td>Free Shipping</td>\n",
       "      <td>Yes</td>\n",
       "      <td>Yes</td>\n",
       "      <td>31</td>\n",
       "      <td>PayPal</td>\n",
       "      <td>Annually</td>\n",
       "    </tr>\n",
       "    <tr>\n",
       "      <th>...</th>\n",
       "      <td>...</td>\n",
       "      <td>...</td>\n",
       "      <td>...</td>\n",
       "      <td>...</td>\n",
       "      <td>...</td>\n",
       "      <td>...</td>\n",
       "      <td>...</td>\n",
       "      <td>...</td>\n",
       "      <td>...</td>\n",
       "      <td>...</td>\n",
       "      <td>...</td>\n",
       "      <td>...</td>\n",
       "      <td>...</td>\n",
       "      <td>...</td>\n",
       "      <td>...</td>\n",
       "      <td>...</td>\n",
       "      <td>...</td>\n",
       "      <td>...</td>\n",
       "      <td>...</td>\n",
       "    </tr>\n",
       "    <tr>\n",
       "      <th>3895</th>\n",
       "      <td>3896</td>\n",
       "      <td>40</td>\n",
       "      <td>Female</td>\n",
       "      <td>Hoodie</td>\n",
       "      <td>Clothing</td>\n",
       "      <td>28</td>\n",
       "      <td>Virginia</td>\n",
       "      <td>L</td>\n",
       "      <td>Turquoise</td>\n",
       "      <td>Summer</td>\n",
       "      <td>4.2</td>\n",
       "      <td>No</td>\n",
       "      <td>Cash</td>\n",
       "      <td>2-Day Shipping</td>\n",
       "      <td>No</td>\n",
       "      <td>No</td>\n",
       "      <td>32</td>\n",
       "      <td>Venmo</td>\n",
       "      <td>Weekly</td>\n",
       "    </tr>\n",
       "    <tr>\n",
       "      <th>3896</th>\n",
       "      <td>3897</td>\n",
       "      <td>52</td>\n",
       "      <td>Female</td>\n",
       "      <td>Backpack</td>\n",
       "      <td>Accessories</td>\n",
       "      <td>49</td>\n",
       "      <td>Iowa</td>\n",
       "      <td>L</td>\n",
       "      <td>White</td>\n",
       "      <td>Spring</td>\n",
       "      <td>4.5</td>\n",
       "      <td>No</td>\n",
       "      <td>PayPal</td>\n",
       "      <td>Store Pickup</td>\n",
       "      <td>No</td>\n",
       "      <td>No</td>\n",
       "      <td>41</td>\n",
       "      <td>Bank Transfer</td>\n",
       "      <td>Bi-Weekly</td>\n",
       "    </tr>\n",
       "    <tr>\n",
       "      <th>3897</th>\n",
       "      <td>3898</td>\n",
       "      <td>46</td>\n",
       "      <td>Female</td>\n",
       "      <td>Belt</td>\n",
       "      <td>Accessories</td>\n",
       "      <td>33</td>\n",
       "      <td>New Jersey</td>\n",
       "      <td>L</td>\n",
       "      <td>Green</td>\n",
       "      <td>Spring</td>\n",
       "      <td>2.9</td>\n",
       "      <td>No</td>\n",
       "      <td>Credit Card</td>\n",
       "      <td>Standard</td>\n",
       "      <td>No</td>\n",
       "      <td>No</td>\n",
       "      <td>24</td>\n",
       "      <td>Venmo</td>\n",
       "      <td>Quarterly</td>\n",
       "    </tr>\n",
       "    <tr>\n",
       "      <th>3898</th>\n",
       "      <td>3899</td>\n",
       "      <td>44</td>\n",
       "      <td>Female</td>\n",
       "      <td>Shoes</td>\n",
       "      <td>Footwear</td>\n",
       "      <td>77</td>\n",
       "      <td>Minnesota</td>\n",
       "      <td>S</td>\n",
       "      <td>Brown</td>\n",
       "      <td>Summer</td>\n",
       "      <td>3.8</td>\n",
       "      <td>No</td>\n",
       "      <td>PayPal</td>\n",
       "      <td>Express</td>\n",
       "      <td>No</td>\n",
       "      <td>No</td>\n",
       "      <td>24</td>\n",
       "      <td>Venmo</td>\n",
       "      <td>Weekly</td>\n",
       "    </tr>\n",
       "    <tr>\n",
       "      <th>3899</th>\n",
       "      <td>3900</td>\n",
       "      <td>52</td>\n",
       "      <td>Female</td>\n",
       "      <td>Handbag</td>\n",
       "      <td>Accessories</td>\n",
       "      <td>81</td>\n",
       "      <td>California</td>\n",
       "      <td>M</td>\n",
       "      <td>Beige</td>\n",
       "      <td>Spring</td>\n",
       "      <td>3.1</td>\n",
       "      <td>No</td>\n",
       "      <td>Bank Transfer</td>\n",
       "      <td>Store Pickup</td>\n",
       "      <td>No</td>\n",
       "      <td>No</td>\n",
       "      <td>33</td>\n",
       "      <td>Venmo</td>\n",
       "      <td>Quarterly</td>\n",
       "    </tr>\n",
       "  </tbody>\n",
       "</table>\n",
       "<p>3900 rows × 19 columns</p>\n",
       "</div>"
      ],
      "text/plain": [
       "      Customer_ID  Age  Gender Item_Purchased     Category  \\\n",
       "0               1   55    Male         Blouse     Clothing   \n",
       "1               2   19    Male        Sweater     Clothing   \n",
       "2               3   50    Male          Jeans     Clothing   \n",
       "3               4   21    Male        Sandals     Footwear   \n",
       "4               5   45    Male         Blouse     Clothing   \n",
       "...           ...  ...     ...            ...          ...   \n",
       "3895         3896   40  Female         Hoodie     Clothing   \n",
       "3896         3897   52  Female       Backpack  Accessories   \n",
       "3897         3898   46  Female           Belt  Accessories   \n",
       "3898         3899   44  Female          Shoes     Footwear   \n",
       "3899         3900   52  Female        Handbag  Accessories   \n",
       "\n",
       "      Purchase_Amount_USD       Location Size      Color  Season  \\\n",
       "0                      53       Kentucky    L       Gray  Winter   \n",
       "1                      64          Maine    L     Maroon  Winter   \n",
       "2                      73  Massachusetts    S     Maroon  Spring   \n",
       "3                      90   Rhode Island    M     Maroon  Spring   \n",
       "4                      49         Oregon    M  Turquoise  Spring   \n",
       "...                   ...            ...  ...        ...     ...   \n",
       "3895                   28       Virginia    L  Turquoise  Summer   \n",
       "3896                   49           Iowa    L      White  Spring   \n",
       "3897                   33     New Jersey    L      Green  Spring   \n",
       "3898                   77      Minnesota    S      Brown  Summer   \n",
       "3899                   81     California    M      Beige  Spring   \n",
       "\n",
       "      Review_Rating Subscription_Status Payment_Method   Shipping_Type  \\\n",
       "0               3.1                 Yes    Credit Card         Express   \n",
       "1               3.1                 Yes  Bank Transfer         Express   \n",
       "2               3.1                 Yes           Cash   Free Shipping   \n",
       "3               3.5                 Yes         PayPal    Next Day Air   \n",
       "4               2.7                 Yes           Cash   Free Shipping   \n",
       "...             ...                 ...            ...             ...   \n",
       "3895            4.2                  No           Cash  2-Day Shipping   \n",
       "3896            4.5                  No         PayPal    Store Pickup   \n",
       "3897            2.9                  No    Credit Card        Standard   \n",
       "3898            3.8                  No         PayPal         Express   \n",
       "3899            3.1                  No  Bank Transfer    Store Pickup   \n",
       "\n",
       "     Discount_Applied Promo_Code_Used  Previous_Purchases  \\\n",
       "0                 Yes             Yes                  14   \n",
       "1                 Yes             Yes                   2   \n",
       "2                 Yes             Yes                  23   \n",
       "3                 Yes             Yes                  49   \n",
       "4                 Yes             Yes                  31   \n",
       "...               ...             ...                 ...   \n",
       "3895               No              No                  32   \n",
       "3896               No              No                  41   \n",
       "3897               No              No                  24   \n",
       "3898               No              No                  24   \n",
       "3899               No              No                  33   \n",
       "\n",
       "     Preferred_Payment_Method Frequency_of_Purchases  \n",
       "0                       Venmo            Fortnightly  \n",
       "1                        Cash            Fortnightly  \n",
       "2                 Credit Card                 Weekly  \n",
       "3                      PayPal                 Weekly  \n",
       "4                      PayPal               Annually  \n",
       "...                       ...                    ...  \n",
       "3895                    Venmo                 Weekly  \n",
       "3896            Bank Transfer              Bi-Weekly  \n",
       "3897                    Venmo              Quarterly  \n",
       "3898                    Venmo                 Weekly  \n",
       "3899                    Venmo              Quarterly  \n",
       "\n",
       "[3900 rows x 19 columns]"
      ]
     },
     "execution_count": 5,
     "metadata": {},
     "output_type": "execute_result"
    }
   ],
   "source": [
    "query = \"SELECT * FROM dbo.shopping_trends\"\n",
    "df = pd.read_sql(query, conn)\n",
    "\n",
    "df "
   ]
  },
  {
   "cell_type": "code",
   "execution_count": 6,
   "id": "e6ec767d",
   "metadata": {},
   "outputs": [
    {
     "name": "stdout",
     "output_type": "stream",
     "text": [
      "<class 'pandas.core.frame.DataFrame'>\n",
      "RangeIndex: 3900 entries, 0 to 3899\n",
      "Data columns (total 19 columns):\n",
      " #   Column                    Non-Null Count  Dtype  \n",
      "---  ------                    --------------  -----  \n",
      " 0   Customer_ID               3900 non-null   int64  \n",
      " 1   Age                       3900 non-null   int64  \n",
      " 2   Gender                    3900 non-null   object \n",
      " 3   Item_Purchased            3900 non-null   object \n",
      " 4   Category                  3900 non-null   object \n",
      " 5   Purchase_Amount_USD       3900 non-null   int64  \n",
      " 6   Location                  3900 non-null   object \n",
      " 7   Size                      3900 non-null   object \n",
      " 8   Color                     3900 non-null   object \n",
      " 9   Season                    3900 non-null   object \n",
      " 10  Review_Rating             3900 non-null   float64\n",
      " 11  Subscription_Status       3900 non-null   object \n",
      " 12  Payment_Method            3900 non-null   object \n",
      " 13  Shipping_Type             3900 non-null   object \n",
      " 14  Discount_Applied          3900 non-null   object \n",
      " 15  Promo_Code_Used           3900 non-null   object \n",
      " 16  Previous_Purchases        3900 non-null   int64  \n",
      " 17  Preferred_Payment_Method  3900 non-null   object \n",
      " 18  Frequency_of_Purchases    3900 non-null   object \n",
      "dtypes: float64(1), int64(4), object(14)\n",
      "memory usage: 579.0+ KB\n"
     ]
    }
   ],
   "source": [
    "df.info()"
   ]
  },
  {
   "cell_type": "code",
   "execution_count": null,
   "id": "29cdae4b",
   "metadata": {},
   "outputs": [],
   "source": []
  },
  {
   "cell_type": "code",
   "execution_count": 7,
   "id": "0ed81649",
   "metadata": {},
   "outputs": [
    {
     "data": {
      "text/plain": [
       "0"
      ]
     },
     "execution_count": 7,
     "metadata": {},
     "output_type": "execute_result"
    }
   ],
   "source": [
    "df.duplicated().sum()"
   ]
  },
  {
   "cell_type": "code",
   "execution_count": 8,
   "id": "30b2df4f",
   "metadata": {},
   "outputs": [
    {
     "data": {
      "text/plain": [
       "3900"
      ]
     },
     "execution_count": 8,
     "metadata": {},
     "output_type": "execute_result"
    }
   ],
   "source": [
    "df.Customer_ID.nunique()"
   ]
  },
  {
   "cell_type": "code",
   "execution_count": 9,
   "id": "0719604e",
   "metadata": {},
   "outputs": [],
   "source": [
    "#df.drop(columns=['Customer_ID'], inplace=True)"
   ]
  },
  {
   "cell_type": "code",
   "execution_count": 10,
   "id": "eae72342",
   "metadata": {},
   "outputs": [
    {
     "data": {
      "application/vnd.microsoft.datawrangler.viewer.v0+json": {
       "columns": [
        {
         "name": "index",
         "rawType": "object",
         "type": "string"
        },
        {
         "name": "Customer_ID",
         "rawType": "float64",
         "type": "float"
        },
        {
         "name": "Age",
         "rawType": "float64",
         "type": "float"
        },
        {
         "name": "Purchase_Amount_USD",
         "rawType": "float64",
         "type": "float"
        },
        {
         "name": "Review_Rating",
         "rawType": "float64",
         "type": "float"
        },
        {
         "name": "Previous_Purchases",
         "rawType": "float64",
         "type": "float"
        }
       ],
       "ref": "97d37b8d-e938-455b-9672-03e78246d2d2",
       "rows": [
        [
         "count",
         "3900.0",
         "3900.0",
         "3900.0",
         "3900.0",
         "3900.0"
        ],
        [
         "mean",
         "1950.5",
         "44.06846153846154",
         "59.76435897435898",
         "3.7499487182421563",
         "25.35153846153846"
        ],
        [
         "std",
         "1125.9773532358456",
         "15.207589127162382",
         "23.685392250875307",
         "0.7162228212770698",
         "14.447125170462309"
        ],
        [
         "min",
         "1.0",
         "18.0",
         "20.0",
         "2.5",
         "1.0"
        ],
        [
         "25%",
         "975.75",
         "31.0",
         "39.0",
         "3.0999999046325684",
         "13.0"
        ],
        [
         "50%",
         "1950.5",
         "44.0",
         "60.0",
         "3.700000047683716",
         "25.0"
        ],
        [
         "75%",
         "2925.25",
         "57.0",
         "81.0",
         "4.400000095367432",
         "38.0"
        ],
        [
         "max",
         "3900.0",
         "70.0",
         "100.0",
         "5.0",
         "50.0"
        ]
       ],
       "shape": {
        "columns": 5,
        "rows": 8
       }
      },
      "text/html": [
       "<div>\n",
       "<style scoped>\n",
       "    .dataframe tbody tr th:only-of-type {\n",
       "        vertical-align: middle;\n",
       "    }\n",
       "\n",
       "    .dataframe tbody tr th {\n",
       "        vertical-align: top;\n",
       "    }\n",
       "\n",
       "    .dataframe thead th {\n",
       "        text-align: right;\n",
       "    }\n",
       "</style>\n",
       "<table border=\"1\" class=\"dataframe\">\n",
       "  <thead>\n",
       "    <tr style=\"text-align: right;\">\n",
       "      <th></th>\n",
       "      <th>Customer_ID</th>\n",
       "      <th>Age</th>\n",
       "      <th>Purchase_Amount_USD</th>\n",
       "      <th>Review_Rating</th>\n",
       "      <th>Previous_Purchases</th>\n",
       "    </tr>\n",
       "  </thead>\n",
       "  <tbody>\n",
       "    <tr>\n",
       "      <th>count</th>\n",
       "      <td>3900.000000</td>\n",
       "      <td>3900.000000</td>\n",
       "      <td>3900.000000</td>\n",
       "      <td>3900.000000</td>\n",
       "      <td>3900.000000</td>\n",
       "    </tr>\n",
       "    <tr>\n",
       "      <th>mean</th>\n",
       "      <td>1950.500000</td>\n",
       "      <td>44.068462</td>\n",
       "      <td>59.764359</td>\n",
       "      <td>3.749949</td>\n",
       "      <td>25.351538</td>\n",
       "    </tr>\n",
       "    <tr>\n",
       "      <th>std</th>\n",
       "      <td>1125.977353</td>\n",
       "      <td>15.207589</td>\n",
       "      <td>23.685392</td>\n",
       "      <td>0.716223</td>\n",
       "      <td>14.447125</td>\n",
       "    </tr>\n",
       "    <tr>\n",
       "      <th>min</th>\n",
       "      <td>1.000000</td>\n",
       "      <td>18.000000</td>\n",
       "      <td>20.000000</td>\n",
       "      <td>2.500000</td>\n",
       "      <td>1.000000</td>\n",
       "    </tr>\n",
       "    <tr>\n",
       "      <th>25%</th>\n",
       "      <td>975.750000</td>\n",
       "      <td>31.000000</td>\n",
       "      <td>39.000000</td>\n",
       "      <td>3.100000</td>\n",
       "      <td>13.000000</td>\n",
       "    </tr>\n",
       "    <tr>\n",
       "      <th>50%</th>\n",
       "      <td>1950.500000</td>\n",
       "      <td>44.000000</td>\n",
       "      <td>60.000000</td>\n",
       "      <td>3.700000</td>\n",
       "      <td>25.000000</td>\n",
       "    </tr>\n",
       "    <tr>\n",
       "      <th>75%</th>\n",
       "      <td>2925.250000</td>\n",
       "      <td>57.000000</td>\n",
       "      <td>81.000000</td>\n",
       "      <td>4.400000</td>\n",
       "      <td>38.000000</td>\n",
       "    </tr>\n",
       "    <tr>\n",
       "      <th>max</th>\n",
       "      <td>3900.000000</td>\n",
       "      <td>70.000000</td>\n",
       "      <td>100.000000</td>\n",
       "      <td>5.000000</td>\n",
       "      <td>50.000000</td>\n",
       "    </tr>\n",
       "  </tbody>\n",
       "</table>\n",
       "</div>"
      ],
      "text/plain": [
       "       Customer_ID          Age  Purchase_Amount_USD  Review_Rating  \\\n",
       "count  3900.000000  3900.000000          3900.000000    3900.000000   \n",
       "mean   1950.500000    44.068462            59.764359       3.749949   \n",
       "std    1125.977353    15.207589            23.685392       0.716223   \n",
       "min       1.000000    18.000000            20.000000       2.500000   \n",
       "25%     975.750000    31.000000            39.000000       3.100000   \n",
       "50%    1950.500000    44.000000            60.000000       3.700000   \n",
       "75%    2925.250000    57.000000            81.000000       4.400000   \n",
       "max    3900.000000    70.000000           100.000000       5.000000   \n",
       "\n",
       "       Previous_Purchases  \n",
       "count         3900.000000  \n",
       "mean            25.351538  \n",
       "std             14.447125  \n",
       "min              1.000000  \n",
       "25%             13.000000  \n",
       "50%             25.000000  \n",
       "75%             38.000000  \n",
       "max             50.000000  "
      ]
     },
     "execution_count": 10,
     "metadata": {},
     "output_type": "execute_result"
    }
   ],
   "source": [
    "df.describe()"
   ]
  },
  {
   "cell_type": "code",
   "execution_count": 11,
   "id": "1ec10b9d",
   "metadata": {},
   "outputs": [
    {
     "data": {
      "text/plain": [
       "130.8205357269849"
      ]
     },
     "execution_count": 11,
     "metadata": {},
     "output_type": "execute_result"
    }
   ],
   "source": [
    "df.Purchase_Amount_USD.mean()+(df.Purchase_Amount_USD.std() * 3)"
   ]
  },
  {
   "cell_type": "code",
   "execution_count": 12,
   "id": "b581e357",
   "metadata": {},
   "outputs": [
    {
     "data": {
      "text/plain": [
       "<Axes: xlabel='Purchase_Amount_USD'>"
      ]
     },
     "execution_count": 12,
     "metadata": {},
     "output_type": "execute_result"
    },
    {
     "data": {
      "image/png": "[encoded data removed]",
      "text/plain": [
       "<Figure size 640x480 with 1 Axes>"
      ]
     },
     "metadata": {},
     "output_type": "display_data"
    }
   ],
   "source": [
    "import seaborn as sns\n",
    "sns.boxplot(x=df['Purchase_Amount_USD'])\n"
   ]
  },
  {
   "cell_type": "code",
   "execution_count": 13,
   "id": "3b861374",
   "metadata": {},
   "outputs": [
    {
     "data": {
      "application/vnd.microsoft.datawrangler.viewer.v0+json": {
       "columns": [
        {
         "name": "index",
         "rawType": "int64",
         "type": "integer"
        },
        {
         "name": "Customer_ID",
         "rawType": "int64",
         "type": "integer"
        },
        {
         "name": "Age",
         "rawType": "int64",
         "type": "integer"
        },
        {
         "name": "Gender",
         "rawType": "object",
         "type": "string"
        },
        {
         "name": "Item_Purchased",
         "rawType": "object",
         "type": "string"
        },
        {
         "name": "Category",
         "rawType": "object",
         "type": "string"
        },
        {
         "name": "Purchase_Amount_USD",
         "rawType": "int64",
         "type": "integer"
        },
        {
         "name": "Location",
         "rawType": "object",
         "type": "string"
        },
        {
         "name": "Size",
         "rawType": "object",
         "type": "string"
        },
        {
         "name": "Color",
         "rawType": "object",
         "type": "string"
        },
        {
         "name": "Season",
         "rawType": "object",
         "type": "string"
        },
        {
         "name": "Review_Rating",
         "rawType": "float64",
         "type": "float"
        },
        {
         "name": "Subscription_Status",
         "rawType": "object",
         "type": "string"
        },
        {
         "name": "Payment_Method",
         "rawType": "object",
         "type": "string"
        },
        {
         "name": "Shipping_Type",
         "rawType": "object",
         "type": "string"
        },
        {
         "name": "Discount_Applied",
         "rawType": "object",
         "type": "string"
        },
        {
         "name": "Promo_Code_Used",
         "rawType": "object",
         "type": "string"
        },
        {
         "name": "Previous_Purchases",
         "rawType": "int64",
         "type": "integer"
        },
        {
         "name": "Preferred_Payment_Method",
         "rawType": "object",
         "type": "string"
        },
        {
         "name": "Frequency_of_Purchases",
         "rawType": "object",
         "type": "string"
        }
       ],
       "ref": "79f53e1a-1036-457e-a6b2-1730d193b529",
       "rows": [
        [
         "0",
         "1",
         "55",
         "Male",
         "Blouse",
         "Clothing",
         "53",
         "Kentucky",
         "L",
         "Gray",
         "Winter",
         "3.0999999046325684",
         "Yes",
         "Credit Card",
         "Express",
         "Yes",
         "Yes",
         "14",
         "Venmo",
         "Fortnightly"
        ],
        [
         "1",
         "2",
         "19",
         "Male",
         "Sweater",
         "Clothing",
         "64",
         "Maine",
         "L",
         "Maroon",
         "Winter",
         "3.0999999046325684",
         "Yes",
         "Bank Transfer",
         "Express",
         "Yes",
         "Yes",
         "2",
         "Cash",
         "Fortnightly"
        ],
        [
         "2",
         "3",
         "50",
         "Male",
         "Jeans",
         "Clothing",
         "73",
         "Massachusetts",
         "S",
         "Maroon",
         "Spring",
         "3.0999999046325684",
         "Yes",
         "Cash",
         "Free Shipping",
         "Yes",
         "Yes",
         "23",
         "Credit Card",
         "Weekly"
        ],
        [
         "3",
         "4",
         "21",
         "Male",
         "Sandals",
         "Footwear",
         "90",
         "Rhode Island",
         "M",
         "Maroon",
         "Spring",
         "3.5",
         "Yes",
         "PayPal",
         "Next Day Air",
         "Yes",
         "Yes",
         "49",
         "PayPal",
         "Weekly"
        ],
        [
         "4",
         "5",
         "45",
         "Male",
         "Blouse",
         "Clothing",
         "49",
         "Oregon",
         "M",
         "Turquoise",
         "Spring",
         "2.700000047683716",
         "Yes",
         "Cash",
         "Free Shipping",
         "Yes",
         "Yes",
         "31",
         "PayPal",
         "Annually"
        ],
        [
         "5",
         "6",
         "46",
         "Male",
         "Sneakers",
         "Footwear",
         "20",
         "Wyoming",
         "M",
         "White",
         "Summer",
         "2.9000000953674316",
         "Yes",
         "Venmo",
         "Standard",
         "Yes",
         "Yes",
         "14",
         "Venmo",
         "Weekly"
        ],
        [
         "6",
         "7",
         "63",
         "Male",
         "Shirt",
         "Clothing",
         "85",
         "Montana",
         "M",
         "Gray",
         "Fall",
         "3.200000047683716",
         "Yes",
         "Debit Card",
         "Free Shipping",
         "Yes",
         "Yes",
         "49",
         "Cash",
         "Quarterly"
        ],
        [
         "7",
         "8",
         "27",
         "Male",
         "Shorts",
         "Clothing",
         "34",
         "Louisiana",
         "L",
         "Charcoal",
         "Winter",
         "3.200000047683716",
         "Yes",
         "Debit Card",
         "Free Shipping",
         "Yes",
         "Yes",
         "19",
         "Credit Card",
         "Weekly"
        ],
        [
         "8",
         "9",
         "26",
         "Male",
         "Coat",
         "Outerwear",
         "97",
         "West Virginia",
         "L",
         "Silver",
         "Summer",
         "2.5999999046325684",
         "Yes",
         "Venmo",
         "Express",
         "Yes",
         "Yes",
         "8",
         "Venmo",
         "Annually"
        ],
        [
         "9",
         "10",
         "57",
         "Male",
         "Handbag",
         "Accessories",
         "31",
         "Missouri",
         "M",
         "Pink",
         "Spring",
         "4.800000190734863",
         "Yes",
         "PayPal",
         "2-Day Shipping",
         "Yes",
         "Yes",
         "4",
         "Cash",
         "Quarterly"
        ],
        [
         "10",
         "11",
         "53",
         "Male",
         "Shoes",
         "Footwear",
         "34",
         "Arkansas",
         "L",
         "Purple",
         "Fall",
         "4.099999904632568",
         "Yes",
         "Credit Card",
         "Store Pickup",
         "Yes",
         "Yes",
         "26",
         "Bank Transfer",
         "Bi-Weekly"
        ],
        [
         "11",
         "12",
         "30",
         "Male",
         "Shorts",
         "Clothing",
         "68",
         "Hawaii",
         "S",
         "Olive",
         "Winter",
         "4.900000095367432",
         "Yes",
         "PayPal",
         "Store Pickup",
         "Yes",
         "Yes",
         "10",
         "Bank Transfer",
         "Fortnightly"
        ],
        [
         "12",
         "13",
         "61",
         "Male",
         "Coat",
         "Outerwear",
         "72",
         "Delaware",
         "M",
         "Gold",
         "Winter",
         "4.5",
         "Yes",
         "PayPal",
         "Express",
         "Yes",
         "Yes",
         "37",
         "Venmo",
         "Fortnightly"
        ],
        [
         "13",
         "14",
         "65",
         "Male",
         "Dress",
         "Clothing",
         "51",
         "New Hampshire",
         "M",
         "Violet",
         "Spring",
         "4.699999809265137",
         "Yes",
         "Debit Card",
         "Express",
         "Yes",
         "Yes",
         "31",
         "PayPal",
         "Weekly"
        ],
        [
         "14",
         "15",
         "64",
         "Male",
         "Coat",
         "Outerwear",
         "53",
         "New York",
         "L",
         "Teal",
         "Winter",
         "4.699999809265137",
         "Yes",
         "PayPal",
         "Free Shipping",
         "Yes",
         "Yes",
         "34",
         "Debit Card",
         "Weekly"
        ],
        [
         "15",
         "16",
         "64",
         "Male",
         "Skirt",
         "Clothing",
         "81",
         "Rhode Island",
         "M",
         "Teal",
         "Winter",
         "2.799999952316284",
         "Yes",
         "Credit Card",
         "Store Pickup",
         "Yes",
         "Yes",
         "8",
         "PayPal",
         "Monthly"
        ],
        [
         "16",
         "17",
         "25",
         "Male",
         "Sunglasses",
         "Accessories",
         "36",
         "Alabama",
         "S",
         "Gray",
         "Spring",
         "4.099999904632568",
         "Yes",
         "Venmo",
         "Next Day Air",
         "Yes",
         "Yes",
         "44",
         "Debit Card",
         "Bi-Weekly"
        ],
        [
         "17",
         "18",
         "53",
         "Male",
         "Dress",
         "Clothing",
         "38",
         "Mississippi",
         "XL",
         "Lavender",
         "Winter",
         "4.699999809265137",
         "Yes",
         "Debit Card",
         "2-Day Shipping",
         "Yes",
         "Yes",
         "36",
         "Venmo",
         "Quarterly"
        ],
        [
         "18",
         "19",
         "52",
         "Male",
         "Sweater",
         "Clothing",
         "48",
         "Montana",
         "S",
         "Black",
         "Summer",
         "4.599999904632568",
         "Yes",
         "Bank Transfer",
         "Free Shipping",
         "Yes",
         "Yes",
         "17",
         "Cash",
         "Weekly"
        ],
        [
         "19",
         "20",
         "66",
         "Male",
         "Pants",
         "Clothing",
         "90",
         "Rhode Island",
         "M",
         "Green",
         "Summer",
         "3.299999952316284",
         "Yes",
         "Venmo",
         "Standard",
         "Yes",
         "Yes",
         "46",
         "Debit Card",
         "Bi-Weekly"
        ],
        [
         "20",
         "21",
         "21",
         "Male",
         "Pants",
         "Clothing",
         "51",
         "Louisiana",
         "M",
         "Black",
         "Winter",
         "2.799999952316284",
         "Yes",
         "Credit Card",
         "Express",
         "Yes",
         "Yes",
         "50",
         "Cash",
         "Every 3 Months"
        ],
        [
         "21",
         "22",
         "31",
         "Male",
         "Pants",
         "Clothing",
         "62",
         "North Carolina",
         "M",
         "Charcoal",
         "Winter",
         "4.099999904632568",
         "Yes",
         "Credit Card",
         "Store Pickup",
         "Yes",
         "Yes",
         "22",
         "Debit Card",
         "Quarterly"
        ],
        [
         "22",
         "23",
         "56",
         "Male",
         "Pants",
         "Clothing",
         "37",
         "California",
         "M",
         "Peach",
         "Summer",
         "3.200000047683716",
         "Yes",
         "Cash",
         "Store Pickup",
         "Yes",
         "Yes",
         "32",
         "Debit Card",
         "Annually"
        ],
        [
         "23",
         "24",
         "31",
         "Male",
         "Pants",
         "Clothing",
         "88",
         "Oklahoma",
         "XL",
         "White",
         "Winter",
         "4.400000095367432",
         "Yes",
         "Credit Card",
         "Express",
         "Yes",
         "Yes",
         "40",
         "Credit Card",
         "Weekly"
        ],
        [
         "24",
         "25",
         "18",
         "Male",
         "Jacket",
         "Outerwear",
         "22",
         "Florida",
         "M",
         "Green",
         "Fall",
         "2.9000000953674316",
         "Yes",
         "Cash",
         "Store Pickup",
         "Yes",
         "Yes",
         "16",
         "Debit Card",
         "Weekly"
        ],
        [
         "25",
         "26",
         "18",
         "Male",
         "Hoodie",
         "Clothing",
         "25",
         "Texas",
         "M",
         "Silver",
         "Summer",
         "3.5999999046325684",
         "Yes",
         "Bank Transfer",
         "Express",
         "Yes",
         "Yes",
         "14",
         "PayPal",
         "Annually"
        ],
        [
         "26",
         "27",
         "38",
         "Male",
         "Jewelry",
         "Accessories",
         "20",
         "Nevada",
         "M",
         "Red",
         "Spring",
         "3.5999999046325684",
         "Yes",
         "Cash",
         "Next Day Air",
         "Yes",
         "Yes",
         "13",
         "Credit Card",
         "Annually"
        ],
        [
         "27",
         "28",
         "56",
         "Male",
         "Shorts",
         "Clothing",
         "56",
         "Kentucky",
         "L",
         "Cyan",
         "Summer",
         "5.0",
         "Yes",
         "Debit Card",
         "Next Day Air",
         "Yes",
         "Yes",
         "7",
         "Bank Transfer",
         "Every 3 Months"
        ],
        [
         "28",
         "29",
         "54",
         "Male",
         "Handbag",
         "Accessories",
         "94",
         "North Carolina",
         "M",
         "Gray",
         "Fall",
         "4.400000095367432",
         "Yes",
         "Debit Card",
         "Free Shipping",
         "Yes",
         "Yes",
         "41",
         "PayPal",
         "Every 3 Months"
        ],
        [
         "29",
         "30",
         "31",
         "Male",
         "Dress",
         "Clothing",
         "48",
         "Wyoming",
         "S",
         "Black",
         "Fall",
         "4.099999904632568",
         "Yes",
         "Venmo",
         "Store Pickup",
         "Yes",
         "Yes",
         "14",
         "Credit Card",
         "Weekly"
        ],
        [
         "30",
         "31",
         "57",
         "Male",
         "Jewelry",
         "Accessories",
         "31",
         "North Carolina",
         "L",
         "Black",
         "Winter",
         "4.699999809265137",
         "Yes",
         "Bank Transfer",
         "Standard",
         "Yes",
         "Yes",
         "16",
         "Credit Card",
         "Monthly"
        ],
        [
         "31",
         "32",
         "33",
         "Male",
         "Dress",
         "Clothing",
         "79",
         "West Virginia",
         "L",
         "Brown",
         "Winter",
         "4.699999809265137",
         "Yes",
         "Venmo",
         "Store Pickup",
         "Yes",
         "Yes",
         "45",
         "Venmo",
         "Monthly"
        ],
        [
         "32",
         "33",
         "36",
         "Male",
         "Jacket",
         "Outerwear",
         "67",
         "Kansas",
         "M",
         "Silver",
         "Summer",
         "4.900000095367432",
         "Yes",
         "Bank Transfer",
         "Free Shipping",
         "Yes",
         "Yes",
         "37",
         "Venmo",
         "Annually"
        ],
        [
         "33",
         "34",
         "54",
         "Male",
         "Pants",
         "Clothing",
         "38",
         "Colorado",
         "L",
         "Green",
         "Summer",
         "3.299999952316284",
         "Yes",
         "Venmo",
         "Store Pickup",
         "Yes",
         "Yes",
         "45",
         "Cash",
         "Quarterly"
        ],
        [
         "34",
         "35",
         "36",
         "Male",
         "T-shirt",
         "Clothing",
         "91",
         "North Dakota",
         "L",
         "Violet",
         "Spring",
         "4.599999904632568",
         "Yes",
         "Debit Card",
         "2-Day Shipping",
         "Yes",
         "Yes",
         "38",
         "PayPal",
         "Quarterly"
        ],
        [
         "35",
         "36",
         "54",
         "Male",
         "Blouse",
         "Clothing",
         "33",
         "Massachusetts",
         "M",
         "Cyan",
         "Summer",
         "4.0",
         "Yes",
         "Bank Transfer",
         "2-Day Shipping",
         "Yes",
         "Yes",
         "48",
         "Credit Card",
         "Bi-Weekly"
        ],
        [
         "36",
         "37",
         "35",
         "Male",
         "T-shirt",
         "Clothing",
         "69",
         "Illinois",
         "M",
         "Maroon",
         "Winter",
         "4.599999904632568",
         "Yes",
         "Cash",
         "Free Shipping",
         "Yes",
         "Yes",
         "44",
         "PayPal",
         "Fortnightly"
        ],
        [
         "37",
         "38",
         "35",
         "Male",
         "Jeans",
         "Clothing",
         "45",
         "Indiana",
         "S",
         "Cyan",
         "Summer",
         "2.799999952316284",
         "Yes",
         "Debit Card",
         "Store Pickup",
         "Yes",
         "Yes",
         "10",
         "PayPal",
         "Weekly"
        ],
        [
         "38",
         "39",
         "29",
         "Male",
         "Dress",
         "Clothing",
         "37",
         "Florida",
         "M",
         "Red",
         "Winter",
         "3.700000047683716",
         "Yes",
         "Debit Card",
         "2-Day Shipping",
         "Yes",
         "Yes",
         "44",
         "Venmo",
         "Every 3 Months"
        ],
        [
         "39",
         "40",
         "70",
         "Male",
         "Pants",
         "Clothing",
         "60",
         "Arizona",
         "S",
         "Turquoise",
         "Summer",
         "4.199999809265137",
         "Yes",
         "Bank Transfer",
         "Express",
         "Yes",
         "Yes",
         "18",
         "Credit Card",
         "Monthly"
        ],
        [
         "40",
         "41",
         "69",
         "Male",
         "Handbag",
         "Accessories",
         "76",
         "Louisiana",
         "L",
         "Beige",
         "Winter",
         "4.599999904632568",
         "Yes",
         "PayPal",
         "Next Day Air",
         "Yes",
         "Yes",
         "31",
         "Debit Card",
         "Quarterly"
        ],
        [
         "41",
         "42",
         "67",
         "Male",
         "Scarf",
         "Accessories",
         "39",
         "Alaska",
         "M",
         "Orange",
         "Spring",
         "4.5",
         "Yes",
         "Cash",
         "Standard",
         "Yes",
         "Yes",
         "40",
         "Venmo",
         "Annually"
        ],
        [
         "42",
         "43",
         "20",
         "Male",
         "Coat",
         "Outerwear",
         "100",
         "Tennessee",
         "M",
         "Beige",
         "Spring",
         "4.099999904632568",
         "Yes",
         "Bank Transfer",
         "Free Shipping",
         "Yes",
         "Yes",
         "15",
         "PayPal",
         "Annually"
        ],
        [
         "43",
         "44",
         "25",
         "Male",
         "Scarf",
         "Accessories",
         "69",
         "Ohio",
         "L",
         "Lavender",
         "Fall",
         "3.700000047683716",
         "Yes",
         "PayPal",
         "Store Pickup",
         "Yes",
         "Yes",
         "19",
         "PayPal",
         "Fortnightly"
        ],
        [
         "44",
         "45",
         "39",
         "Male",
         "Hat",
         "Accessories",
         "53",
         "Kentucky",
         "S",
         "Silver",
         "Summer",
         "4.599999904632568",
         "Yes",
         "Bank Transfer",
         "Free Shipping",
         "Yes",
         "Yes",
         "45",
         "PayPal",
         "Weekly"
        ],
        [
         "45",
         "46",
         "50",
         "Male",
         "Socks",
         "Clothing",
         "21",
         "Tennessee",
         "XL",
         "Indigo",
         "Fall",
         "2.9000000953674316",
         "Yes",
         "Venmo",
         "2-Day Shipping",
         "Yes",
         "Yes",
         "25",
         "PayPal",
         "Annually"
        ],
        [
         "46",
         "47",
         "57",
         "Male",
         "Shirt",
         "Clothing",
         "43",
         "California",
         "L",
         "White",
         "Summer",
         "2.9000000953674316",
         "Yes",
         "Venmo",
         "Store Pickup",
         "Yes",
         "Yes",
         "45",
         "Cash",
         "Quarterly"
        ],
        [
         "47",
         "48",
         "55",
         "Male",
         "Jewelry",
         "Accessories",
         "54",
         "Montana",
         "M",
         "Charcoal",
         "Winter",
         "4.5",
         "Yes",
         "Debit Card",
         "Free Shipping",
         "Yes",
         "Yes",
         "36",
         "Cash",
         "Weekly"
        ],
        [
         "48",
         "49",
         "42",
         "Male",
         "Shirt",
         "Clothing",
         "55",
         "Nevada",
         "M",
         "Orange",
         "Summer",
         "2.700000047683716",
         "Yes",
         "Debit Card",
         "Store Pickup",
         "Yes",
         "Yes",
         "38",
         "Cash",
         "Monthly"
        ],
        [
         "49",
         "50",
         "68",
         "Male",
         "Hoodie",
         "Clothing",
         "30",
         "New Jersey",
         "S",
         "Indigo",
         "Spring",
         "4.599999904632568",
         "Yes",
         "Bank Transfer",
         "Next Day Air",
         "Yes",
         "Yes",
         "34",
         "Debit Card",
         "Bi-Weekly"
        ]
       ],
       "shape": {
        "columns": 19,
        "rows": 3900
       }
      },
      "text/html": [
       "<div>\n",
       "<style scoped>\n",
       "    .dataframe tbody tr th:only-of-type {\n",
       "        vertical-align: middle;\n",
       "    }\n",
       "\n",
       "    .dataframe tbody tr th {\n",
       "        vertical-align: top;\n",
       "    }\n",
       "\n",
       "    .dataframe thead th {\n",
       "        text-align: right;\n",
       "    }\n",
       "</style>\n",
       "<table border=\"1\" class=\"dataframe\">\n",
       "  <thead>\n",
       "    <tr style=\"text-align: right;\">\n",
       "      <th></th>\n",
       "      <th>Customer_ID</th>\n",
       "      <th>Age</th>\n",
       "      <th>Gender</th>\n",
       "      <th>Item_Purchased</th>\n",
       "      <th>Category</th>\n",
       "      <th>Purchase_Amount_USD</th>\n",
       "      <th>Location</th>\n",
       "      <th>Size</th>\n",
       "      <th>Color</th>\n",
       "      <th>Season</th>\n",
       "      <th>Review_Rating</th>\n",
       "      <th>Subscription_Status</th>\n",
       "      <th>Payment_Method</th>\n",
       "      <th>Shipping_Type</th>\n",
       "      <th>Discount_Applied</th>\n",
       "      <th>Promo_Code_Used</th>\n",
       "      <th>Previous_Purchases</th>\n",
       "      <th>Preferred_Payment_Method</th>\n",
       "      <th>Frequency_of_Purchases</th>\n",
       "    </tr>\n",
       "  </thead>\n",
       "  <tbody>\n",
       "    <tr>\n",
       "      <th>0</th>\n",
       "      <td>1</td>\n",
       "      <td>55</td>\n",
       "      <td>Male</td>\n",
       "      <td>Blouse</td>\n",
       "      <td>Clothing</td>\n",
       "      <td>53</td>\n",
       "      <td>Kentucky</td>\n",
       "      <td>L</td>\n",
       "      <td>Gray</td>\n",
       "      <td>Winter</td>\n",
       "      <td>3.1</td>\n",
       "      <td>Yes</td>\n",
       "      <td>Credit Card</td>\n",
       "      <td>Express</td>\n",
       "      <td>Yes</td>\n",
       "      <td>Yes</td>\n",
       "      <td>14</td>\n",
       "      <td>Venmo</td>\n",
       "      <td>Fortnightly</td>\n",
       "    </tr>\n",
       "    <tr>\n",
       "      <th>1</th>\n",
       "      <td>2</td>\n",
       "      <td>19</td>\n",
       "      <td>Male</td>\n",
       "      <td>Sweater</td>\n",
       "      <td>Clothing</td>\n",
       "      <td>64</td>\n",
       "      <td>Maine</td>\n",
       "      <td>L</td>\n",
       "      <td>Maroon</td>\n",
       "      <td>Winter</td>\n",
       "      <td>3.1</td>\n",
       "      <td>Yes</td>\n",
       "      <td>Bank Transfer</td>\n",
       "      <td>Express</td>\n",
       "      <td>Yes</td>\n",
       "      <td>Yes</td>\n",
       "      <td>2</td>\n",
       "      <td>Cash</td>\n",
       "      <td>Fortnightly</td>\n",
       "    </tr>\n",
       "    <tr>\n",
       "      <th>2</th>\n",
       "      <td>3</td>\n",
       "      <td>50</td>\n",
       "      <td>Male</td>\n",
       "      <td>Jeans</td>\n",
       "      <td>Clothing</td>\n",
       "      <td>73</td>\n",
       "      <td>Massachusetts</td>\n",
       "      <td>S</td>\n",
       "      <td>Maroon</td>\n",
       "      <td>Spring</td>\n",
       "      <td>3.1</td>\n",
       "      <td>Yes</td>\n",
       "      <td>Cash</td>\n",
       "      <td>Free Shipping</td>\n",
       "      <td>Yes</td>\n",
       "      <td>Yes</td>\n",
       "      <td>23</td>\n",
       "      <td>Credit Card</td>\n",
       "      <td>Weekly</td>\n",
       "    </tr>\n",
       "    <tr>\n",
       "      <th>3</th>\n",
       "      <td>4</td>\n",
       "      <td>21</td>\n",
       "      <td>Male</td>\n",
       "      <td>Sandals</td>\n",
       "      <td>Footwear</td>\n",
       "      <td>90</td>\n",
       "      <td>Rhode Island</td>\n",
       "      <td>M</td>\n",
       "      <td>Maroon</td>\n",
       "      <td>Spring</td>\n",
       "      <td>3.5</td>\n",
       "      <td>Yes</td>\n",
       "      <td>PayPal</td>\n",
       "      <td>Next Day Air</td>\n",
       "      <td>Yes</td>\n",
       "      <td>Yes</td>\n",
       "      <td>49</td>\n",
       "      <td>PayPal</td>\n",
       "      <td>Weekly</td>\n",
       "    </tr>\n",
       "    <tr>\n",
       "      <th>4</th>\n",
       "      <td>5</td>\n",
       "      <td>45</td>\n",
       "      <td>Male</td>\n",
       "      <td>Blouse</td>\n",
       "      <td>Clothing</td>\n",
       "      <td>49</td>\n",
       "      <td>Oregon</td>\n",
       "      <td>M</td>\n",
       "      <td>Turquoise</td>\n",
       "      <td>Spring</td>\n",
       "      <td>2.7</td>\n",
       "      <td>Yes</td>\n",
       "      <td>Cash</td>\n",
       "      <td>Free Shipping</td>\n",
       "      <td>Yes</td>\n",
       "      <td>Yes</td>\n",
       "      <td>31</td>\n",
       "      <td>PayPal</td>\n",
       "      <td>Annually</td>\n",
       "    </tr>\n",
       "    <tr>\n",
       "      <th>...</th>\n",
       "      <td>...</td>\n",
       "      <td>...</td>\n",
       "      <td>...</td>\n",
       "      <td>...</td>\n",
       "      <td>...</td>\n",
       "      <td>...</td>\n",
       "      <td>...</td>\n",
       "      <td>...</td>\n",
       "      <td>...</td>\n",
       "      <td>...</td>\n",
       "      <td>...</td>\n",
       "      <td>...</td>\n",
       "      <td>...</td>\n",
       "      <td>...</td>\n",
       "      <td>...</td>\n",
       "      <td>...</td>\n",
       "      <td>...</td>\n",
       "      <td>...</td>\n",
       "      <td>...</td>\n",
       "    </tr>\n",
       "    <tr>\n",
       "      <th>3895</th>\n",
       "      <td>3896</td>\n",
       "      <td>40</td>\n",
       "      <td>Female</td>\n",
       "      <td>Hoodie</td>\n",
       "      <td>Clothing</td>\n",
       "      <td>28</td>\n",
       "      <td>Virginia</td>\n",
       "      <td>L</td>\n",
       "      <td>Turquoise</td>\n",
       "      <td>Summer</td>\n",
       "      <td>4.2</td>\n",
       "      <td>No</td>\n",
       "      <td>Cash</td>\n",
       "      <td>2-Day Shipping</td>\n",
       "      <td>No</td>\n",
       "      <td>No</td>\n",
       "      <td>32</td>\n",
       "      <td>Venmo</td>\n",
       "      <td>Weekly</td>\n",
       "    </tr>\n",
       "    <tr>\n",
       "      <th>3896</th>\n",
       "      <td>3897</td>\n",
       "      <td>52</td>\n",
       "      <td>Female</td>\n",
       "      <td>Backpack</td>\n",
       "      <td>Accessories</td>\n",
       "      <td>49</td>\n",
       "      <td>Iowa</td>\n",
       "      <td>L</td>\n",
       "      <td>White</td>\n",
       "      <td>Spring</td>\n",
       "      <td>4.5</td>\n",
       "      <td>No</td>\n",
       "      <td>PayPal</td>\n",
       "      <td>Store Pickup</td>\n",
       "      <td>No</td>\n",
       "      <td>No</td>\n",
       "      <td>41</td>\n",
       "      <td>Bank Transfer</td>\n",
       "      <td>Bi-Weekly</td>\n",
       "    </tr>\n",
       "    <tr>\n",
       "      <th>3897</th>\n",
       "      <td>3898</td>\n",
       "      <td>46</td>\n",
       "      <td>Female</td>\n",
       "      <td>Belt</td>\n",
       "      <td>Accessories</td>\n",
       "      <td>33</td>\n",
       "      <td>New Jersey</td>\n",
       "      <td>L</td>\n",
       "      <td>Green</td>\n",
       "      <td>Spring</td>\n",
       "      <td>2.9</td>\n",
       "      <td>No</td>\n",
       "      <td>Credit Card</td>\n",
       "      <td>Standard</td>\n",
       "      <td>No</td>\n",
       "      <td>No</td>\n",
       "      <td>24</td>\n",
       "      <td>Venmo</td>\n",
       "      <td>Quarterly</td>\n",
       "    </tr>\n",
       "    <tr>\n",
       "      <th>3898</th>\n",
       "      <td>3899</td>\n",
       "      <td>44</td>\n",
       "      <td>Female</td>\n",
       "      <td>Shoes</td>\n",
       "      <td>Footwear</td>\n",
       "      <td>77</td>\n",
       "      <td>Minnesota</td>\n",
       "      <td>S</td>\n",
       "      <td>Brown</td>\n",
       "      <td>Summer</td>\n",
       "      <td>3.8</td>\n",
       "      <td>No</td>\n",
       "      <td>PayPal</td>\n",
       "      <td>Express</td>\n",
       "      <td>No</td>\n",
       "      <td>No</td>\n",
       "      <td>24</td>\n",
       "      <td>Venmo</td>\n",
       "      <td>Weekly</td>\n",
       "    </tr>\n",
       "    <tr>\n",
       "      <th>3899</th>\n",
       "      <td>3900</td>\n",
       "      <td>52</td>\n",
       "      <td>Female</td>\n",
       "      <td>Handbag</td>\n",
       "      <td>Accessories</td>\n",
       "      <td>81</td>\n",
       "      <td>California</td>\n",
       "      <td>M</td>\n",
       "      <td>Beige</td>\n",
       "      <td>Spring</td>\n",
       "      <td>3.1</td>\n",
       "      <td>No</td>\n",
       "      <td>Bank Transfer</td>\n",
       "      <td>Store Pickup</td>\n",
       "      <td>No</td>\n",
       "      <td>No</td>\n",
       "      <td>33</td>\n",
       "      <td>Venmo</td>\n",
       "      <td>Quarterly</td>\n",
       "    </tr>\n",
       "  </tbody>\n",
       "</table>\n",
       "<p>3900 rows × 19 columns</p>\n",
       "</div>"
      ],
      "text/plain": [
       "      Customer_ID  Age  Gender Item_Purchased     Category  \\\n",
       "0               1   55    Male         Blouse     Clothing   \n",
       "1               2   19    Male        Sweater     Clothing   \n",
       "2               3   50    Male          Jeans     Clothing   \n",
       "3               4   21    Male        Sandals     Footwear   \n",
       "4               5   45    Male         Blouse     Clothing   \n",
       "...           ...  ...     ...            ...          ...   \n",
       "3895         3896   40  Female         Hoodie     Clothing   \n",
       "3896         3897   52  Female       Backpack  Accessories   \n",
       "3897         3898   46  Female           Belt  Accessories   \n",
       "3898         3899   44  Female          Shoes     Footwear   \n",
       "3899         3900   52  Female        Handbag  Accessories   \n",
       "\n",
       "      Purchase_Amount_USD       Location Size      Color  Season  \\\n",
       "0                      53       Kentucky    L       Gray  Winter   \n",
       "1                      64          Maine    L     Maroon  Winter   \n",
       "2                      73  Massachusetts    S     Maroon  Spring   \n",
       "3                      90   Rhode Island    M     Maroon  Spring   \n",
       "4                      49         Oregon    M  Turquoise  Spring   \n",
       "...                   ...            ...  ...        ...     ...   \n",
       "3895                   28       Virginia    L  Turquoise  Summer   \n",
       "3896                   49           Iowa    L      White  Spring   \n",
       "3897                   33     New Jersey    L      Green  Spring   \n",
       "3898                   77      Minnesota    S      Brown  Summer   \n",
       "3899                   81     California    M      Beige  Spring   \n",
       "\n",
       "      Review_Rating Subscription_Status Payment_Method   Shipping_Type  \\\n",
       "0               3.1                 Yes    Credit Card         Express   \n",
       "1               3.1                 Yes  Bank Transfer         Express   \n",
       "2               3.1                 Yes           Cash   Free Shipping   \n",
       "3               3.5                 Yes         PayPal    Next Day Air   \n",
       "4               2.7                 Yes           Cash   Free Shipping   \n",
       "...             ...                 ...            ...             ...   \n",
       "3895            4.2                  No           Cash  2-Day Shipping   \n",
       "3896            4.5                  No         PayPal    Store Pickup   \n",
       "3897            2.9                  No    Credit Card        Standard   \n",
       "3898            3.8                  No         PayPal         Express   \n",
       "3899            3.1                  No  Bank Transfer    Store Pickup   \n",
       "\n",
       "     Discount_Applied Promo_Code_Used  Previous_Purchases  \\\n",
       "0                 Yes             Yes                  14   \n",
       "1                 Yes             Yes                   2   \n",
       "2                 Yes             Yes                  23   \n",
       "3                 Yes             Yes                  49   \n",
       "4                 Yes             Yes                  31   \n",
       "...               ...             ...                 ...   \n",
       "3895               No              No                  32   \n",
       "3896               No              No                  41   \n",
       "3897               No              No                  24   \n",
       "3898               No              No                  24   \n",
       "3899               No              No                  33   \n",
       "\n",
       "     Preferred_Payment_Method Frequency_of_Purchases  \n",
       "0                       Venmo            Fortnightly  \n",
       "1                        Cash            Fortnightly  \n",
       "2                 Credit Card                 Weekly  \n",
       "3                      PayPal                 Weekly  \n",
       "4                      PayPal               Annually  \n",
       "...                       ...                    ...  \n",
       "3895                    Venmo                 Weekly  \n",
       "3896            Bank Transfer              Bi-Weekly  \n",
       "3897                    Venmo              Quarterly  \n",
       "3898                    Venmo                 Weekly  \n",
       "3899                    Venmo              Quarterly  \n",
       "\n",
       "[3900 rows x 19 columns]"
      ]
     },
     "execution_count": 13,
     "metadata": {},
     "output_type": "execute_result"
    }
   ],
   "source": [
    "df"
   ]
  },
  {
   "cell_type": "code",
   "execution_count": 14,
   "id": "d68a519c",
   "metadata": {},
   "outputs": [
    {
     "data": {
      "application/vnd.microsoft.datawrangler.viewer.v0+json": {
       "columns": [
        {
         "name": "Gender",
         "rawType": "object",
         "type": "string"
        },
        {
         "name": "Age",
         "rawType": "float64",
         "type": "float"
        }
       ],
       "ref": "9e67c785-0ed7-47a7-a0b2-0f0bc0a305e5",
       "rows": [
        [
         "Female",
         "44.00721153846154"
        ],
        [
         "Male",
         "44.0972850678733"
        ]
       ],
       "shape": {
        "columns": 1,
        "rows": 2
       }
      },
      "text/plain": [
       "Gender\n",
       "Female    44.007212\n",
       "Male      44.097285\n",
       "Name: Age, dtype: float64"
      ]
     },
     "execution_count": 14,
     "metadata": {},
     "output_type": "execute_result"
    }
   ],
   "source": [
    "df.groupby('Gender')['Age'].mean()"
   ]
  },
  {
   "cell_type": "code",
   "execution_count": 15,
   "id": "78c84cd5",
   "metadata": {},
   "outputs": [
    {
     "data": {
      "application/vnd.microsoft.datawrangler.viewer.v0+json": {
       "columns": [
        {
         "name": "Item_Purchased",
         "rawType": "object",
         "type": "string"
        },
        {
         "name": "count",
         "rawType": "int64",
         "type": "integer"
        }
       ],
       "ref": "ef9d2390-0ddd-400f-b676-ed7ef98a1870",
       "rows": [
        [
         "Blouse",
         "171"
        ],
        [
         "Jewelry",
         "171"
        ],
        [
         "Pants",
         "171"
        ],
        [
         "Shirt",
         "169"
        ],
        [
         "Dress",
         "166"
        ],
        [
         "Sweater",
         "164"
        ],
        [
         "Jacket",
         "163"
        ],
        [
         "Belt",
         "161"
        ],
        [
         "Sunglasses",
         "161"
        ],
        [
         "Coat",
         "161"
        ],
        [
         "Sandals",
         "160"
        ],
        [
         "Socks",
         "159"
        ],
        [
         "Skirt",
         "158"
        ],
        [
         "Shorts",
         "157"
        ],
        [
         "Scarf",
         "157"
        ],
        [
         "Hat",
         "154"
        ],
        [
         "Handbag",
         "153"
        ],
        [
         "Hoodie",
         "151"
        ],
        [
         "Shoes",
         "150"
        ],
        [
         "T-shirt",
         "147"
        ],
        [
         "Sneakers",
         "145"
        ],
        [
         "Boots",
         "144"
        ],
        [
         "Backpack",
         "143"
        ],
        [
         "Gloves",
         "140"
        ],
        [
         "Jeans",
         "124"
        ]
       ],
       "shape": {
        "columns": 1,
        "rows": 25
       }
      },
      "text/plain": [
       "Item_Purchased\n",
       "Blouse        171\n",
       "Jewelry       171\n",
       "Pants         171\n",
       "Shirt         169\n",
       "Dress         166\n",
       "Sweater       164\n",
       "Jacket        163\n",
       "Belt          161\n",
       "Sunglasses    161\n",
       "Coat          161\n",
       "Sandals       160\n",
       "Socks         159\n",
       "Skirt         158\n",
       "Shorts        157\n",
       "Scarf         157\n",
       "Hat           154\n",
       "Handbag       153\n",
       "Hoodie        151\n",
       "Shoes         150\n",
       "T-shirt       147\n",
       "Sneakers      145\n",
       "Boots         144\n",
       "Backpack      143\n",
       "Gloves        140\n",
       "Jeans         124\n",
       "Name: count, dtype: int64"
      ]
     },
     "execution_count": 15,
     "metadata": {},
     "output_type": "execute_result"
    }
   ],
   "source": [
    "df['Item_Purchased'].value_counts()"
   ]
  },
  {
   "cell_type": "code",
   "execution_count": 16,
   "id": "008fd8f4",
   "metadata": {},
   "outputs": [
    {
     "data": {
      "application/vnd.microsoft.datawrangler.viewer.v0+json": {
       "columns": [
        {
         "name": "Category",
         "rawType": "object",
         "type": "string"
        },
        {
         "name": "count",
         "rawType": "int64",
         "type": "integer"
        }
       ],
       "ref": "35ef3a9a-161e-43af-badb-47f96e515ebf",
       "rows": [
        [
         "Clothing",
         "1737"
        ],
        [
         "Accessories",
         "1240"
        ],
        [
         "Footwear",
         "599"
        ],
        [
         "Outerwear",
         "324"
        ]
       ],
       "shape": {
        "columns": 1,
        "rows": 4
       }
      },
      "text/plain": [
       "Category\n",
       "Clothing       1737\n",
       "Accessories    1240\n",
       "Footwear        599\n",
       "Outerwear       324\n",
       "Name: count, dtype: int64"
      ]
     },
     "execution_count": 16,
     "metadata": {},
     "output_type": "execute_result"
    }
   ],
   "source": [
    "df['Category'].value_counts()"
   ]
  },
  {
   "cell_type": "code",
   "execution_count": 17,
   "id": "a418693d",
   "metadata": {},
   "outputs": [
    {
     "data": {
      "application/vnd.microsoft.datawrangler.viewer.v0+json": {
       "columns": [
        {
         "name": "Category",
         "rawType": "object",
         "type": "string"
        },
        {
         "name": "Purchase_Amount_USD",
         "rawType": "int64",
         "type": "integer"
        }
       ],
       "ref": "a2f0dd6f-2281-4ea7-b0c8-f9f95c048d36",
       "rows": [
        [
         "Accessories",
         "74200"
        ],
        [
         "Clothing",
         "104264"
        ],
        [
         "Footwear",
         "36093"
        ],
        [
         "Outerwear",
         "18524"
        ]
       ],
       "shape": {
        "columns": 1,
        "rows": 4
       }
      },
      "text/plain": [
       "Category\n",
       "Accessories     74200\n",
       "Clothing       104264\n",
       "Footwear        36093\n",
       "Outerwear       18524\n",
       "Name: Purchase_Amount_USD, dtype: int64"
      ]
     },
     "execution_count": 17,
     "metadata": {},
     "output_type": "execute_result"
    }
   ],
   "source": [
    "df.groupby('Category')['Purchase_Amount_USD'].sum()"
   ]
  },
  {
   "cell_type": "code",
   "execution_count": 18,
   "id": "3953cc39",
   "metadata": {},
   "outputs": [
    {
     "data": {
      "application/vnd.microsoft.datawrangler.viewer.v0+json": {
       "columns": [
        {
         "name": "Location",
         "rawType": "object",
         "type": "string"
        },
        {
         "name": "Purchase_Amount_USD",
         "rawType": "int64",
         "type": "integer"
        }
       ],
       "ref": "f4ddf199-17cb-4107-a265-a1a61c7c5e6e",
       "rows": [
        [
         "Alabama",
         "5261"
        ],
        [
         "Alaska",
         "4867"
        ],
        [
         "Arizona",
         "4326"
        ],
        [
         "Arkansas",
         "4828"
        ],
        [
         "California",
         "5605"
        ],
        [
         "Colorado",
         "4222"
        ],
        [
         "Connecticut",
         "4226"
        ],
        [
         "Delaware",
         "4758"
        ],
        [
         "Florida",
         "3798"
        ],
        [
         "Georgia",
         "4645"
        ],
        [
         "Hawaii",
         "3752"
        ],
        [
         "Idaho",
         "5587"
        ],
        [
         "Illinois",
         "5617"
        ],
        [
         "Indiana",
         "4655"
        ],
        [
         "Iowa",
         "4201"
        ],
        [
         "Kansas",
         "3437"
        ],
        [
         "Kentucky",
         "4402"
        ],
        [
         "Louisiana",
         "4848"
        ],
        [
         "Maine",
         "4388"
        ],
        [
         "Maryland",
         "4795"
        ],
        [
         "Massachusetts",
         "4384"
        ],
        [
         "Michigan",
         "4533"
        ],
        [
         "Minnesota",
         "4977"
        ],
        [
         "Mississippi",
         "4883"
        ],
        [
         "Missouri",
         "4691"
        ],
        [
         "Montana",
         "5784"
        ],
        [
         "Nebraska",
         "5172"
        ],
        [
         "Nevada",
         "5514"
        ],
        [
         "New Hampshire",
         "4219"
        ],
        [
         "New Jersey",
         "3802"
        ],
        [
         "New Mexico",
         "5014"
        ],
        [
         "New York",
         "5257"
        ],
        [
         "North Carolina",
         "4742"
        ],
        [
         "North Dakota",
         "5220"
        ],
        [
         "Ohio",
         "4649"
        ],
        [
         "Oklahoma",
         "4376"
        ],
        [
         "Oregon",
         "4243"
        ],
        [
         "Pennsylvania",
         "4926"
        ],
        [
         "Rhode Island",
         "3871"
        ],
        [
         "South Carolina",
         "4439"
        ],
        [
         "South Dakota",
         "4236"
        ],
        [
         "Tennessee",
         "4772"
        ],
        [
         "Texas",
         "4712"
        ],
        [
         "Utah",
         "4443"
        ],
        [
         "Vermont",
         "4860"
        ],
        [
         "Virginia",
         "4842"
        ],
        [
         "Washington",
         "4623"
        ],
        [
         "West Virginia",
         "5174"
        ],
        [
         "Wisconsin",
         "4196"
        ],
        [
         "Wyoming",
         "4309"
        ]
       ],
       "shape": {
        "columns": 1,
        "rows": 50
       }
      },
      "text/plain": [
       "Location\n",
       "Alabama           5261\n",
       "Alaska            4867\n",
       "Arizona           4326\n",
       "Arkansas          4828\n",
       "California        5605\n",
       "Colorado          4222\n",
       "Connecticut       4226\n",
       "Delaware          4758\n",
       "Florida           3798\n",
       "Georgia           4645\n",
       "Hawaii            3752\n",
       "Idaho             5587\n",
       "Illinois          5617\n",
       "Indiana           4655\n",
       "Iowa              4201\n",
       "Kansas            3437\n",
       "Kentucky          4402\n",
       "Louisiana         4848\n",
       "Maine             4388\n",
       "Maryland          4795\n",
       "Massachusetts     4384\n",
       "Michigan          4533\n",
       "Minnesota         4977\n",
       "Mississippi       4883\n",
       "Missouri          4691\n",
       "Montana           5784\n",
       "Nebraska          5172\n",
       "Nevada            5514\n",
       "New Hampshire     4219\n",
       "New Jersey        3802\n",
       "New Mexico        5014\n",
       "New York          5257\n",
       "North Carolina    4742\n",
       "North Dakota      5220\n",
       "Ohio              4649\n",
       "Oklahoma          4376\n",
       "Oregon            4243\n",
       "Pennsylvania      4926\n",
       "Rhode Island      3871\n",
       "South Carolina    4439\n",
       "South Dakota      4236\n",
       "Tennessee         4772\n",
       "Texas             4712\n",
       "Utah              4443\n",
       "Vermont           4860\n",
       "Virginia          4842\n",
       "Washington        4623\n",
       "West Virginia     5174\n",
       "Wisconsin         4196\n",
       "Wyoming           4309\n",
       "Name: Purchase_Amount_USD, dtype: int64"
      ]
     },
     "execution_count": 18,
     "metadata": {},
     "output_type": "execute_result"
    }
   ],
   "source": [
    "df.groupby('Location')['Purchase_Amount_USD'].sum()"
   ]
  },
  {
   "cell_type": "code",
   "execution_count": 19,
   "id": "2a935661",
   "metadata": {},
   "outputs": [
    {
     "data": {
      "application/vnd.microsoft.datawrangler.viewer.v0+json": {
       "columns": [
        {
         "name": "Item_Purchased",
         "rawType": "object",
         "type": "string"
        },
        {
         "name": "Purchase_Amount_USD",
         "rawType": "int64",
         "type": "integer"
        }
       ],
       "ref": "48268014-bf8a-443b-8a92-b87ee11767bf",
       "rows": [
        [
         "Blouse",
         "10410"
        ],
        [
         "Shirt",
         "10332"
        ],
        [
         "Dress",
         "10320"
        ],
        [
         "Pants",
         "10090"
        ],
        [
         "Jewelry",
         "10010"
        ],
        [
         "Sunglasses",
         "9649"
        ],
        [
         "Belt",
         "9635"
        ],
        [
         "Scarf",
         "9561"
        ],
        [
         "Sweater",
         "9462"
        ],
        [
         "Shorts",
         "9433"
        ],
        [
         "Skirt",
         "9402"
        ],
        [
         "Hat",
         "9375"
        ],
        [
         "Coat",
         "9275"
        ],
        [
         "Socks",
         "9252"
        ],
        [
         "Jacket",
         "9249"
        ],
        [
         "T-shirt",
         "9248"
        ],
        [
         "Shoes",
         "9240"
        ],
        [
         "Sandals",
         "9200"
        ],
        [
         "Boots",
         "9018"
        ],
        [
         "Handbag",
         "8857"
        ],
        [
         "Hoodie",
         "8767"
        ],
        [
         "Backpack",
         "8636"
        ],
        [
         "Sneakers",
         "8635"
        ],
        [
         "Gloves",
         "8477"
        ],
        [
         "Jeans",
         "7548"
        ]
       ],
       "shape": {
        "columns": 1,
        "rows": 25
       }
      },
      "text/plain": [
       "Item_Purchased\n",
       "Blouse        10410\n",
       "Shirt         10332\n",
       "Dress         10320\n",
       "Pants         10090\n",
       "Jewelry       10010\n",
       "Sunglasses     9649\n",
       "Belt           9635\n",
       "Scarf          9561\n",
       "Sweater        9462\n",
       "Shorts         9433\n",
       "Skirt          9402\n",
       "Hat            9375\n",
       "Coat           9275\n",
       "Socks          9252\n",
       "Jacket         9249\n",
       "T-shirt        9248\n",
       "Shoes          9240\n",
       "Sandals        9200\n",
       "Boots          9018\n",
       "Handbag        8857\n",
       "Hoodie         8767\n",
       "Backpack       8636\n",
       "Sneakers       8635\n",
       "Gloves         8477\n",
       "Jeans          7548\n",
       "Name: Purchase_Amount_USD, dtype: int64"
      ]
     },
     "execution_count": 19,
     "metadata": {},
     "output_type": "execute_result"
    }
   ],
   "source": [
    "df.groupby('Item_Purchased')['Purchase_Amount_USD'].sum().sort_values(ascending=False)"
   ]
  },
  {
   "cell_type": "code",
   "execution_count": 20,
   "id": "10c1f419",
   "metadata": {},
   "outputs": [
    {
     "data": {
      "application/vnd.microsoft.datawrangler.viewer.v0+json": {
       "columns": [
        {
         "name": "index",
         "rawType": "int64",
         "type": "integer"
        },
        {
         "name": "Customer_ID",
         "rawType": "int64",
         "type": "integer"
        },
        {
         "name": "Age",
         "rawType": "int64",
         "type": "integer"
        },
        {
         "name": "Gender",
         "rawType": "object",
         "type": "string"
        },
        {
         "name": "Item_Purchased",
         "rawType": "object",
         "type": "string"
        },
        {
         "name": "Category",
         "rawType": "object",
         "type": "string"
        },
        {
         "name": "Purchase_Amount_USD",
         "rawType": "int64",
         "type": "integer"
        },
        {
         "name": "Location",
         "rawType": "object",
         "type": "string"
        },
        {
         "name": "Size",
         "rawType": "object",
         "type": "string"
        },
        {
         "name": "Color",
         "rawType": "object",
         "type": "string"
        },
        {
         "name": "Season",
         "rawType": "object",
         "type": "string"
        },
        {
         "name": "Review_Rating",
         "rawType": "float64",
         "type": "float"
        },
        {
         "name": "Subscription_Status",
         "rawType": "object",
         "type": "string"
        },
        {
         "name": "Payment_Method",
         "rawType": "object",
         "type": "string"
        },
        {
         "name": "Shipping_Type",
         "rawType": "object",
         "type": "string"
        },
        {
         "name": "Discount_Applied",
         "rawType": "object",
         "type": "string"
        },
        {
         "name": "Promo_Code_Used",
         "rawType": "object",
         "type": "string"
        },
        {
         "name": "Previous_Purchases",
         "rawType": "int64",
         "type": "integer"
        },
        {
         "name": "Preferred_Payment_Method",
         "rawType": "object",
         "type": "string"
        },
        {
         "name": "Frequency_of_Purchases",
         "rawType": "object",
         "type": "string"
        }
       ],
       "ref": "96a39c8b-9ae0-4203-bd6d-ff8885424bf0",
       "rows": [
        [
         "0",
         "1",
         "55",
         "Male",
         "Blouse",
         "Clothing",
         "53",
         "Kentucky",
         "L",
         "Gray",
         "Winter",
         "3.0999999046325684",
         "Yes",
         "Credit Card",
         "Express",
         "Yes",
         "Yes",
         "14",
         "Venmo",
         "Fortnightly"
        ],
        [
         "1",
         "2",
         "19",
         "Male",
         "Sweater",
         "Clothing",
         "64",
         "Maine",
         "L",
         "Maroon",
         "Winter",
         "3.0999999046325684",
         "Yes",
         "Bank Transfer",
         "Express",
         "Yes",
         "Yes",
         "2",
         "Cash",
         "Fortnightly"
        ],
        [
         "2",
         "3",
         "50",
         "Male",
         "Jeans",
         "Clothing",
         "73",
         "Massachusetts",
         "S",
         "Maroon",
         "Spring",
         "3.0999999046325684",
         "Yes",
         "Cash",
         "Free Shipping",
         "Yes",
         "Yes",
         "23",
         "Credit Card",
         "Weekly"
        ],
        [
         "3",
         "4",
         "21",
         "Male",
         "Sandals",
         "Footwear",
         "90",
         "Rhode Island",
         "M",
         "Maroon",
         "Spring",
         "3.5",
         "Yes",
         "PayPal",
         "Next Day Air",
         "Yes",
         "Yes",
         "49",
         "PayPal",
         "Weekly"
        ],
        [
         "4",
         "5",
         "45",
         "Male",
         "Blouse",
         "Clothing",
         "49",
         "Oregon",
         "M",
         "Turquoise",
         "Spring",
         "2.700000047683716",
         "Yes",
         "Cash",
         "Free Shipping",
         "Yes",
         "Yes",
         "31",
         "PayPal",
         "Annually"
        ],
        [
         "5",
         "6",
         "46",
         "Male",
         "Sneakers",
         "Footwear",
         "20",
         "Wyoming",
         "M",
         "White",
         "Summer",
         "2.9000000953674316",
         "Yes",
         "Venmo",
         "Standard",
         "Yes",
         "Yes",
         "14",
         "Venmo",
         "Weekly"
        ],
        [
         "6",
         "7",
         "63",
         "Male",
         "Shirt",
         "Clothing",
         "85",
         "Montana",
         "M",
         "Gray",
         "Fall",
         "3.200000047683716",
         "Yes",
         "Debit Card",
         "Free Shipping",
         "Yes",
         "Yes",
         "49",
         "Cash",
         "Quarterly"
        ],
        [
         "7",
         "8",
         "27",
         "Male",
         "Shorts",
         "Clothing",
         "34",
         "Louisiana",
         "L",
         "Charcoal",
         "Winter",
         "3.200000047683716",
         "Yes",
         "Debit Card",
         "Free Shipping",
         "Yes",
         "Yes",
         "19",
         "Credit Card",
         "Weekly"
        ],
        [
         "8",
         "9",
         "26",
         "Male",
         "Coat",
         "Outerwear",
         "97",
         "West Virginia",
         "L",
         "Silver",
         "Summer",
         "2.5999999046325684",
         "Yes",
         "Venmo",
         "Express",
         "Yes",
         "Yes",
         "8",
         "Venmo",
         "Annually"
        ],
        [
         "9",
         "10",
         "57",
         "Male",
         "Handbag",
         "Accessories",
         "31",
         "Missouri",
         "M",
         "Pink",
         "Spring",
         "4.800000190734863",
         "Yes",
         "PayPal",
         "2-Day Shipping",
         "Yes",
         "Yes",
         "4",
         "Cash",
         "Quarterly"
        ],
        [
         "10",
         "11",
         "53",
         "Male",
         "Shoes",
         "Footwear",
         "34",
         "Arkansas",
         "L",
         "Purple",
         "Fall",
         "4.099999904632568",
         "Yes",
         "Credit Card",
         "Store Pickup",
         "Yes",
         "Yes",
         "26",
         "Bank Transfer",
         "Bi-Weekly"
        ],
        [
         "11",
         "12",
         "30",
         "Male",
         "Shorts",
         "Clothing",
         "68",
         "Hawaii",
         "S",
         "Olive",
         "Winter",
         "4.900000095367432",
         "Yes",
         "PayPal",
         "Store Pickup",
         "Yes",
         "Yes",
         "10",
         "Bank Transfer",
         "Fortnightly"
        ],
        [
         "12",
         "13",
         "61",
         "Male",
         "Coat",
         "Outerwear",
         "72",
         "Delaware",
         "M",
         "Gold",
         "Winter",
         "4.5",
         "Yes",
         "PayPal",
         "Express",
         "Yes",
         "Yes",
         "37",
         "Venmo",
         "Fortnightly"
        ],
        [
         "13",
         "14",
         "65",
         "Male",
         "Dress",
         "Clothing",
         "51",
         "New Hampshire",
         "M",
         "Violet",
         "Spring",
         "4.699999809265137",
         "Yes",
         "Debit Card",
         "Express",
         "Yes",
         "Yes",
         "31",
         "PayPal",
         "Weekly"
        ],
        [
         "14",
         "15",
         "64",
         "Male",
         "Coat",
         "Outerwear",
         "53",
         "New York",
         "L",
         "Teal",
         "Winter",
         "4.699999809265137",
         "Yes",
         "PayPal",
         "Free Shipping",
         "Yes",
         "Yes",
         "34",
         "Debit Card",
         "Weekly"
        ],
        [
         "15",
         "16",
         "64",
         "Male",
         "Skirt",
         "Clothing",
         "81",
         "Rhode Island",
         "M",
         "Teal",
         "Winter",
         "2.799999952316284",
         "Yes",
         "Credit Card",
         "Store Pickup",
         "Yes",
         "Yes",
         "8",
         "PayPal",
         "Monthly"
        ],
        [
         "16",
         "17",
         "25",
         "Male",
         "Sunglasses",
         "Accessories",
         "36",
         "Alabama",
         "S",
         "Gray",
         "Spring",
         "4.099999904632568",
         "Yes",
         "Venmo",
         "Next Day Air",
         "Yes",
         "Yes",
         "44",
         "Debit Card",
         "Bi-Weekly"
        ],
        [
         "17",
         "18",
         "53",
         "Male",
         "Dress",
         "Clothing",
         "38",
         "Mississippi",
         "XL",
         "Lavender",
         "Winter",
         "4.699999809265137",
         "Yes",
         "Debit Card",
         "2-Day Shipping",
         "Yes",
         "Yes",
         "36",
         "Venmo",
         "Quarterly"
        ],
        [
         "18",
         "19",
         "52",
         "Male",
         "Sweater",
         "Clothing",
         "48",
         "Montana",
         "S",
         "Black",
         "Summer",
         "4.599999904632568",
         "Yes",
         "Bank Transfer",
         "Free Shipping",
         "Yes",
         "Yes",
         "17",
         "Cash",
         "Weekly"
        ],
        [
         "19",
         "20",
         "66",
         "Male",
         "Pants",
         "Clothing",
         "90",
         "Rhode Island",
         "M",
         "Green",
         "Summer",
         "3.299999952316284",
         "Yes",
         "Venmo",
         "Standard",
         "Yes",
         "Yes",
         "46",
         "Debit Card",
         "Bi-Weekly"
        ],
        [
         "20",
         "21",
         "21",
         "Male",
         "Pants",
         "Clothing",
         "51",
         "Louisiana",
         "M",
         "Black",
         "Winter",
         "2.799999952316284",
         "Yes",
         "Credit Card",
         "Express",
         "Yes",
         "Yes",
         "50",
         "Cash",
         "Every 3 Months"
        ],
        [
         "21",
         "22",
         "31",
         "Male",
         "Pants",
         "Clothing",
         "62",
         "North Carolina",
         "M",
         "Charcoal",
         "Winter",
         "4.099999904632568",
         "Yes",
         "Credit Card",
         "Store Pickup",
         "Yes",
         "Yes",
         "22",
         "Debit Card",
         "Quarterly"
        ],
        [
         "22",
         "23",
         "56",
         "Male",
         "Pants",
         "Clothing",
         "37",
         "California",
         "M",
         "Peach",
         "Summer",
         "3.200000047683716",
         "Yes",
         "Cash",
         "Store Pickup",
         "Yes",
         "Yes",
         "32",
         "Debit Card",
         "Annually"
        ],
        [
         "23",
         "24",
         "31",
         "Male",
         "Pants",
         "Clothing",
         "88",
         "Oklahoma",
         "XL",
         "White",
         "Winter",
         "4.400000095367432",
         "Yes",
         "Credit Card",
         "Express",
         "Yes",
         "Yes",
         "40",
         "Credit Card",
         "Weekly"
        ],
        [
         "24",
         "25",
         "18",
         "Male",
         "Jacket",
         "Outerwear",
         "22",
         "Florida",
         "M",
         "Green",
         "Fall",
         "2.9000000953674316",
         "Yes",
         "Cash",
         "Store Pickup",
         "Yes",
         "Yes",
         "16",
         "Debit Card",
         "Weekly"
        ],
        [
         "25",
         "26",
         "18",
         "Male",
         "Hoodie",
         "Clothing",
         "25",
         "Texas",
         "M",
         "Silver",
         "Summer",
         "3.5999999046325684",
         "Yes",
         "Bank Transfer",
         "Express",
         "Yes",
         "Yes",
         "14",
         "PayPal",
         "Annually"
        ],
        [
         "26",
         "27",
         "38",
         "Male",
         "Jewelry",
         "Accessories",
         "20",
         "Nevada",
         "M",
         "Red",
         "Spring",
         "3.5999999046325684",
         "Yes",
         "Cash",
         "Next Day Air",
         "Yes",
         "Yes",
         "13",
         "Credit Card",
         "Annually"
        ],
        [
         "27",
         "28",
         "56",
         "Male",
         "Shorts",
         "Clothing",
         "56",
         "Kentucky",
         "L",
         "Cyan",
         "Summer",
         "5.0",
         "Yes",
         "Debit Card",
         "Next Day Air",
         "Yes",
         "Yes",
         "7",
         "Bank Transfer",
         "Every 3 Months"
        ],
        [
         "28",
         "29",
         "54",
         "Male",
         "Handbag",
         "Accessories",
         "94",
         "North Carolina",
         "M",
         "Gray",
         "Fall",
         "4.400000095367432",
         "Yes",
         "Debit Card",
         "Free Shipping",
         "Yes",
         "Yes",
         "41",
         "PayPal",
         "Every 3 Months"
        ],
        [
         "29",
         "30",
         "31",
         "Male",
         "Dress",
         "Clothing",
         "48",
         "Wyoming",
         "S",
         "Black",
         "Fall",
         "4.099999904632568",
         "Yes",
         "Venmo",
         "Store Pickup",
         "Yes",
         "Yes",
         "14",
         "Credit Card",
         "Weekly"
        ],
        [
         "30",
         "31",
         "57",
         "Male",
         "Jewelry",
         "Accessories",
         "31",
         "North Carolina",
         "L",
         "Black",
         "Winter",
         "4.699999809265137",
         "Yes",
         "Bank Transfer",
         "Standard",
         "Yes",
         "Yes",
         "16",
         "Credit Card",
         "Monthly"
        ],
        [
         "31",
         "32",
         "33",
         "Male",
         "Dress",
         "Clothing",
         "79",
         "West Virginia",
         "L",
         "Brown",
         "Winter",
         "4.699999809265137",
         "Yes",
         "Venmo",
         "Store Pickup",
         "Yes",
         "Yes",
         "45",
         "Venmo",
         "Monthly"
        ],
        [
         "32",
         "33",
         "36",
         "Male",
         "Jacket",
         "Outerwear",
         "67",
         "Kansas",
         "M",
         "Silver",
         "Summer",
         "4.900000095367432",
         "Yes",
         "Bank Transfer",
         "Free Shipping",
         "Yes",
         "Yes",
         "37",
         "Venmo",
         "Annually"
        ],
        [
         "33",
         "34",
         "54",
         "Male",
         "Pants",
         "Clothing",
         "38",
         "Colorado",
         "L",
         "Green",
         "Summer",
         "3.299999952316284",
         "Yes",
         "Venmo",
         "Store Pickup",
         "Yes",
         "Yes",
         "45",
         "Cash",
         "Quarterly"
        ],
        [
         "34",
         "35",
         "36",
         "Male",
         "T-shirt",
         "Clothing",
         "91",
         "North Dakota",
         "L",
         "Violet",
         "Spring",
         "4.599999904632568",
         "Yes",
         "Debit Card",
         "2-Day Shipping",
         "Yes",
         "Yes",
         "38",
         "PayPal",
         "Quarterly"
        ],
        [
         "35",
         "36",
         "54",
         "Male",
         "Blouse",
         "Clothing",
         "33",
         "Massachusetts",
         "M",
         "Cyan",
         "Summer",
         "4.0",
         "Yes",
         "Bank Transfer",
         "2-Day Shipping",
         "Yes",
         "Yes",
         "48",
         "Credit Card",
         "Bi-Weekly"
        ],
        [
         "36",
         "37",
         "35",
         "Male",
         "T-shirt",
         "Clothing",
         "69",
         "Illinois",
         "M",
         "Maroon",
         "Winter",
         "4.599999904632568",
         "Yes",
         "Cash",
         "Free Shipping",
         "Yes",
         "Yes",
         "44",
         "PayPal",
         "Fortnightly"
        ],
        [
         "37",
         "38",
         "35",
         "Male",
         "Jeans",
         "Clothing",
         "45",
         "Indiana",
         "S",
         "Cyan",
         "Summer",
         "2.799999952316284",
         "Yes",
         "Debit Card",
         "Store Pickup",
         "Yes",
         "Yes",
         "10",
         "PayPal",
         "Weekly"
        ],
        [
         "38",
         "39",
         "29",
         "Male",
         "Dress",
         "Clothing",
         "37",
         "Florida",
         "M",
         "Red",
         "Winter",
         "3.700000047683716",
         "Yes",
         "Debit Card",
         "2-Day Shipping",
         "Yes",
         "Yes",
         "44",
         "Venmo",
         "Every 3 Months"
        ],
        [
         "39",
         "40",
         "70",
         "Male",
         "Pants",
         "Clothing",
         "60",
         "Arizona",
         "S",
         "Turquoise",
         "Summer",
         "4.199999809265137",
         "Yes",
         "Bank Transfer",
         "Express",
         "Yes",
         "Yes",
         "18",
         "Credit Card",
         "Monthly"
        ],
        [
         "40",
         "41",
         "69",
         "Male",
         "Handbag",
         "Accessories",
         "76",
         "Louisiana",
         "L",
         "Beige",
         "Winter",
         "4.599999904632568",
         "Yes",
         "PayPal",
         "Next Day Air",
         "Yes",
         "Yes",
         "31",
         "Debit Card",
         "Quarterly"
        ],
        [
         "41",
         "42",
         "67",
         "Male",
         "Scarf",
         "Accessories",
         "39",
         "Alaska",
         "M",
         "Orange",
         "Spring",
         "4.5",
         "Yes",
         "Cash",
         "Standard",
         "Yes",
         "Yes",
         "40",
         "Venmo",
         "Annually"
        ],
        [
         "42",
         "43",
         "20",
         "Male",
         "Coat",
         "Outerwear",
         "100",
         "Tennessee",
         "M",
         "Beige",
         "Spring",
         "4.099999904632568",
         "Yes",
         "Bank Transfer",
         "Free Shipping",
         "Yes",
         "Yes",
         "15",
         "PayPal",
         "Annually"
        ],
        [
         "43",
         "44",
         "25",
         "Male",
         "Scarf",
         "Accessories",
         "69",
         "Ohio",
         "L",
         "Lavender",
         "Fall",
         "3.700000047683716",
         "Yes",
         "PayPal",
         "Store Pickup",
         "Yes",
         "Yes",
         "19",
         "PayPal",
         "Fortnightly"
        ],
        [
         "44",
         "45",
         "39",
         "Male",
         "Hat",
         "Accessories",
         "53",
         "Kentucky",
         "S",
         "Silver",
         "Summer",
         "4.599999904632568",
         "Yes",
         "Bank Transfer",
         "Free Shipping",
         "Yes",
         "Yes",
         "45",
         "PayPal",
         "Weekly"
        ],
        [
         "45",
         "46",
         "50",
         "Male",
         "Socks",
         "Clothing",
         "21",
         "Tennessee",
         "XL",
         "Indigo",
         "Fall",
         "2.9000000953674316",
         "Yes",
         "Venmo",
         "2-Day Shipping",
         "Yes",
         "Yes",
         "25",
         "PayPal",
         "Annually"
        ],
        [
         "46",
         "47",
         "57",
         "Male",
         "Shirt",
         "Clothing",
         "43",
         "California",
         "L",
         "White",
         "Summer",
         "2.9000000953674316",
         "Yes",
         "Venmo",
         "Store Pickup",
         "Yes",
         "Yes",
         "45",
         "Cash",
         "Quarterly"
        ],
        [
         "47",
         "48",
         "55",
         "Male",
         "Jewelry",
         "Accessories",
         "54",
         "Montana",
         "M",
         "Charcoal",
         "Winter",
         "4.5",
         "Yes",
         "Debit Card",
         "Free Shipping",
         "Yes",
         "Yes",
         "36",
         "Cash",
         "Weekly"
        ],
        [
         "48",
         "49",
         "42",
         "Male",
         "Shirt",
         "Clothing",
         "55",
         "Nevada",
         "M",
         "Orange",
         "Summer",
         "2.700000047683716",
         "Yes",
         "Debit Card",
         "Store Pickup",
         "Yes",
         "Yes",
         "38",
         "Cash",
         "Monthly"
        ],
        [
         "49",
         "50",
         "68",
         "Male",
         "Hoodie",
         "Clothing",
         "30",
         "New Jersey",
         "S",
         "Indigo",
         "Spring",
         "4.599999904632568",
         "Yes",
         "Bank Transfer",
         "Next Day Air",
         "Yes",
         "Yes",
         "34",
         "Debit Card",
         "Bi-Weekly"
        ]
       ],
       "shape": {
        "columns": 19,
        "rows": 3900
       }
      },
      "text/html": [
       "<div>\n",
       "<style scoped>\n",
       "    .dataframe tbody tr th:only-of-type {\n",
       "        vertical-align: middle;\n",
       "    }\n",
       "\n",
       "    .dataframe tbody tr th {\n",
       "        vertical-align: top;\n",
       "    }\n",
       "\n",
       "    .dataframe thead th {\n",
       "        text-align: right;\n",
       "    }\n",
       "</style>\n",
       "<table border=\"1\" class=\"dataframe\">\n",
       "  <thead>\n",
       "    <tr style=\"text-align: right;\">\n",
       "      <th></th>\n",
       "      <th>Customer_ID</th>\n",
       "      <th>Age</th>\n",
       "      <th>Gender</th>\n",
       "      <th>Item_Purchased</th>\n",
       "      <th>Category</th>\n",
       "      <th>Purchase_Amount_USD</th>\n",
       "      <th>Location</th>\n",
       "      <th>Size</th>\n",
       "      <th>Color</th>\n",
       "      <th>Season</th>\n",
       "      <th>Review_Rating</th>\n",
       "      <th>Subscription_Status</th>\n",
       "      <th>Payment_Method</th>\n",
       "      <th>Shipping_Type</th>\n",
       "      <th>Discount_Applied</th>\n",
       "      <th>Promo_Code_Used</th>\n",
       "      <th>Previous_Purchases</th>\n",
       "      <th>Preferred_Payment_Method</th>\n",
       "      <th>Frequency_of_Purchases</th>\n",
       "    </tr>\n",
       "  </thead>\n",
       "  <tbody>\n",
       "    <tr>\n",
       "      <th>0</th>\n",
       "      <td>1</td>\n",
       "      <td>55</td>\n",
       "      <td>Male</td>\n",
       "      <td>Blouse</td>\n",
       "      <td>Clothing</td>\n",
       "      <td>53</td>\n",
       "      <td>Kentucky</td>\n",
       "      <td>L</td>\n",
       "      <td>Gray</td>\n",
       "      <td>Winter</td>\n",
       "      <td>3.1</td>\n",
       "      <td>Yes</td>\n",
       "      <td>Credit Card</td>\n",
       "      <td>Express</td>\n",
       "      <td>Yes</td>\n",
       "      <td>Yes</td>\n",
       "      <td>14</td>\n",
       "      <td>Venmo</td>\n",
       "      <td>Fortnightly</td>\n",
       "    </tr>\n",
       "    <tr>\n",
       "      <th>1</th>\n",
       "      <td>2</td>\n",
       "      <td>19</td>\n",
       "      <td>Male</td>\n",
       "      <td>Sweater</td>\n",
       "      <td>Clothing</td>\n",
       "      <td>64</td>\n",
       "      <td>Maine</td>\n",
       "      <td>L</td>\n",
       "      <td>Maroon</td>\n",
       "      <td>Winter</td>\n",
       "      <td>3.1</td>\n",
       "      <td>Yes</td>\n",
       "      <td>Bank Transfer</td>\n",
       "      <td>Express</td>\n",
       "      <td>Yes</td>\n",
       "      <td>Yes</td>\n",
       "      <td>2</td>\n",
       "      <td>Cash</td>\n",
       "      <td>Fortnightly</td>\n",
       "    </tr>\n",
       "    <tr>\n",
       "      <th>2</th>\n",
       "      <td>3</td>\n",
       "      <td>50</td>\n",
       "      <td>Male</td>\n",
       "      <td>Jeans</td>\n",
       "      <td>Clothing</td>\n",
       "      <td>73</td>\n",
       "      <td>Massachusetts</td>\n",
       "      <td>S</td>\n",
       "      <td>Maroon</td>\n",
       "      <td>Spring</td>\n",
       "      <td>3.1</td>\n",
       "      <td>Yes</td>\n",
       "      <td>Cash</td>\n",
       "      <td>Free Shipping</td>\n",
       "      <td>Yes</td>\n",
       "      <td>Yes</td>\n",
       "      <td>23</td>\n",
       "      <td>Credit Card</td>\n",
       "      <td>Weekly</td>\n",
       "    </tr>\n",
       "    <tr>\n",
       "      <th>3</th>\n",
       "      <td>4</td>\n",
       "      <td>21</td>\n",
       "      <td>Male</td>\n",
       "      <td>Sandals</td>\n",
       "      <td>Footwear</td>\n",
       "      <td>90</td>\n",
       "      <td>Rhode Island</td>\n",
       "      <td>M</td>\n",
       "      <td>Maroon</td>\n",
       "      <td>Spring</td>\n",
       "      <td>3.5</td>\n",
       "      <td>Yes</td>\n",
       "      <td>PayPal</td>\n",
       "      <td>Next Day Air</td>\n",
       "      <td>Yes</td>\n",
       "      <td>Yes</td>\n",
       "      <td>49</td>\n",
       "      <td>PayPal</td>\n",
       "      <td>Weekly</td>\n",
       "    </tr>\n",
       "    <tr>\n",
       "      <th>4</th>\n",
       "      <td>5</td>\n",
       "      <td>45</td>\n",
       "      <td>Male</td>\n",
       "      <td>Blouse</td>\n",
       "      <td>Clothing</td>\n",
       "      <td>49</td>\n",
       "      <td>Oregon</td>\n",
       "      <td>M</td>\n",
       "      <td>Turquoise</td>\n",
       "      <td>Spring</td>\n",
       "      <td>2.7</td>\n",
       "      <td>Yes</td>\n",
       "      <td>Cash</td>\n",
       "      <td>Free Shipping</td>\n",
       "      <td>Yes</td>\n",
       "      <td>Yes</td>\n",
       "      <td>31</td>\n",
       "      <td>PayPal</td>\n",
       "      <td>Annually</td>\n",
       "    </tr>\n",
       "    <tr>\n",
       "      <th>...</th>\n",
       "      <td>...</td>\n",
       "      <td>...</td>\n",
       "      <td>...</td>\n",
       "      <td>...</td>\n",
       "      <td>...</td>\n",
       "      <td>...</td>\n",
       "      <td>...</td>\n",
       "      <td>...</td>\n",
       "      <td>...</td>\n",
       "      <td>...</td>\n",
       "      <td>...</td>\n",
       "      <td>...</td>\n",
       "      <td>...</td>\n",
       "      <td>...</td>\n",
       "      <td>...</td>\n",
       "      <td>...</td>\n",
       "      <td>...</td>\n",
       "      <td>...</td>\n",
       "      <td>...</td>\n",
       "    </tr>\n",
       "    <tr>\n",
       "      <th>3895</th>\n",
       "      <td>3896</td>\n",
       "      <td>40</td>\n",
       "      <td>Female</td>\n",
       "      <td>Hoodie</td>\n",
       "      <td>Clothing</td>\n",
       "      <td>28</td>\n",
       "      <td>Virginia</td>\n",
       "      <td>L</td>\n",
       "      <td>Turquoise</td>\n",
       "      <td>Summer</td>\n",
       "      <td>4.2</td>\n",
       "      <td>No</td>\n",
       "      <td>Cash</td>\n",
       "      <td>2-Day Shipping</td>\n",
       "      <td>No</td>\n",
       "      <td>No</td>\n",
       "      <td>32</td>\n",
       "      <td>Venmo</td>\n",
       "      <td>Weekly</td>\n",
       "    </tr>\n",
       "    <tr>\n",
       "      <th>3896</th>\n",
       "      <td>3897</td>\n",
       "      <td>52</td>\n",
       "      <td>Female</td>\n",
       "      <td>Backpack</td>\n",
       "      <td>Accessories</td>\n",
       "      <td>49</td>\n",
       "      <td>Iowa</td>\n",
       "      <td>L</td>\n",
       "      <td>White</td>\n",
       "      <td>Spring</td>\n",
       "      <td>4.5</td>\n",
       "      <td>No</td>\n",
       "      <td>PayPal</td>\n",
       "      <td>Store Pickup</td>\n",
       "      <td>No</td>\n",
       "      <td>No</td>\n",
       "      <td>41</td>\n",
       "      <td>Bank Transfer</td>\n",
       "      <td>Bi-Weekly</td>\n",
       "    </tr>\n",
       "    <tr>\n",
       "      <th>3897</th>\n",
       "      <td>3898</td>\n",
       "      <td>46</td>\n",
       "      <td>Female</td>\n",
       "      <td>Belt</td>\n",
       "      <td>Accessories</td>\n",
       "      <td>33</td>\n",
       "      <td>New Jersey</td>\n",
       "      <td>L</td>\n",
       "      <td>Green</td>\n",
       "      <td>Spring</td>\n",
       "      <td>2.9</td>\n",
       "      <td>No</td>\n",
       "      <td>Credit Card</td>\n",
       "      <td>Standard</td>\n",
       "      <td>No</td>\n",
       "      <td>No</td>\n",
       "      <td>24</td>\n",
       "      <td>Venmo</td>\n",
       "      <td>Quarterly</td>\n",
       "    </tr>\n",
       "    <tr>\n",
       "      <th>3898</th>\n",
       "      <td>3899</td>\n",
       "      <td>44</td>\n",
       "      <td>Female</td>\n",
       "      <td>Shoes</td>\n",
       "      <td>Footwear</td>\n",
       "      <td>77</td>\n",
       "      <td>Minnesota</td>\n",
       "      <td>S</td>\n",
       "      <td>Brown</td>\n",
       "      <td>Summer</td>\n",
       "      <td>3.8</td>\n",
       "      <td>No</td>\n",
       "      <td>PayPal</td>\n",
       "      <td>Express</td>\n",
       "      <td>No</td>\n",
       "      <td>No</td>\n",
       "      <td>24</td>\n",
       "      <td>Venmo</td>\n",
       "      <td>Weekly</td>\n",
       "    </tr>\n",
       "    <tr>\n",
       "      <th>3899</th>\n",
       "      <td>3900</td>\n",
       "      <td>52</td>\n",
       "      <td>Female</td>\n",
       "      <td>Handbag</td>\n",
       "      <td>Accessories</td>\n",
       "      <td>81</td>\n",
       "      <td>California</td>\n",
       "      <td>M</td>\n",
       "      <td>Beige</td>\n",
       "      <td>Spring</td>\n",
       "      <td>3.1</td>\n",
       "      <td>No</td>\n",
       "      <td>Bank Transfer</td>\n",
       "      <td>Store Pickup</td>\n",
       "      <td>No</td>\n",
       "      <td>No</td>\n",
       "      <td>33</td>\n",
       "      <td>Venmo</td>\n",
       "      <td>Quarterly</td>\n",
       "    </tr>\n",
       "  </tbody>\n",
       "</table>\n",
       "<p>3900 rows × 19 columns</p>\n",
       "</div>"
      ],
      "text/plain": [
       "      Customer_ID  Age  Gender Item_Purchased     Category  \\\n",
       "0               1   55    Male         Blouse     Clothing   \n",
       "1               2   19    Male        Sweater     Clothing   \n",
       "2               3   50    Male          Jeans     Clothing   \n",
       "3               4   21    Male        Sandals     Footwear   \n",
       "4               5   45    Male         Blouse     Clothing   \n",
       "...           ...  ...     ...            ...          ...   \n",
       "3895         3896   40  Female         Hoodie     Clothing   \n",
       "3896         3897   52  Female       Backpack  Accessories   \n",
       "3897         3898   46  Female           Belt  Accessories   \n",
       "3898         3899   44  Female          Shoes     Footwear   \n",
       "3899         3900   52  Female        Handbag  Accessories   \n",
       "\n",
       "      Purchase_Amount_USD       Location Size      Color  Season  \\\n",
       "0                      53       Kentucky    L       Gray  Winter   \n",
       "1                      64          Maine    L     Maroon  Winter   \n",
       "2                      73  Massachusetts    S     Maroon  Spring   \n",
       "3                      90   Rhode Island    M     Maroon  Spring   \n",
       "4                      49         Oregon    M  Turquoise  Spring   \n",
       "...                   ...            ...  ...        ...     ...   \n",
       "3895                   28       Virginia    L  Turquoise  Summer   \n",
       "3896                   49           Iowa    L      White  Spring   \n",
       "3897                   33     New Jersey    L      Green  Spring   \n",
       "3898                   77      Minnesota    S      Brown  Summer   \n",
       "3899                   81     California    M      Beige  Spring   \n",
       "\n",
       "      Review_Rating Subscription_Status Payment_Method   Shipping_Type  \\\n",
       "0               3.1                 Yes    Credit Card         Express   \n",
       "1               3.1                 Yes  Bank Transfer         Express   \n",
       "2               3.1                 Yes           Cash   Free Shipping   \n",
       "3               3.5                 Yes         PayPal    Next Day Air   \n",
       "4               2.7                 Yes           Cash   Free Shipping   \n",
       "...             ...                 ...            ...             ...   \n",
       "3895            4.2                  No           Cash  2-Day Shipping   \n",
       "3896            4.5                  No         PayPal    Store Pickup   \n",
       "3897            2.9                  No    Credit Card        Standard   \n",
       "3898            3.8                  No         PayPal         Express   \n",
       "3899            3.1                  No  Bank Transfer    Store Pickup   \n",
       "\n",
       "     Discount_Applied Promo_Code_Used  Previous_Purchases  \\\n",
       "0                 Yes             Yes                  14   \n",
       "1                 Yes             Yes                   2   \n",
       "2                 Yes             Yes                  23   \n",
       "3                 Yes             Yes                  49   \n",
       "4                 Yes             Yes                  31   \n",
       "...               ...             ...                 ...   \n",
       "3895               No              No                  32   \n",
       "3896               No              No                  41   \n",
       "3897               No              No                  24   \n",
       "3898               No              No                  24   \n",
       "3899               No              No                  33   \n",
       "\n",
       "     Preferred_Payment_Method Frequency_of_Purchases  \n",
       "0                       Venmo            Fortnightly  \n",
       "1                        Cash            Fortnightly  \n",
       "2                 Credit Card                 Weekly  \n",
       "3                      PayPal                 Weekly  \n",
       "4                      PayPal               Annually  \n",
       "...                       ...                    ...  \n",
       "3895                    Venmo                 Weekly  \n",
       "3896            Bank Transfer              Bi-Weekly  \n",
       "3897                    Venmo              Quarterly  \n",
       "3898                    Venmo                 Weekly  \n",
       "3899                    Venmo              Quarterly  \n",
       "\n",
       "[3900 rows x 19 columns]"
      ]
     },
     "execution_count": 20,
     "metadata": {},
     "output_type": "execute_result"
    }
   ],
   "source": [
    "df"
   ]
  },
  {
   "cell_type": "code",
   "execution_count": 21,
   "id": "09771f0b",
   "metadata": {},
   "outputs": [
    {
     "data": {
      "application/vnd.microsoft.datawrangler.viewer.v0+json": {
       "columns": [
        {
         "name": "Previous_Purchases",
         "rawType": "int64",
         "type": "integer"
        },
        {
         "name": "count",
         "rawType": "int64",
         "type": "integer"
        }
       ],
       "ref": "3145c850-219f-4695-835d-32cb89906013",
       "rows": [
        [
         "31",
         "97"
        ],
        [
         "21",
         "96"
        ],
        [
         "14",
         "92"
        ],
        [
         "24",
         "91"
        ],
        [
         "3",
         "91"
        ],
        [
         "4",
         "91"
        ],
        [
         "48",
         "90"
        ],
        [
         "47",
         "90"
        ],
        [
         "5",
         "87"
        ],
        [
         "6",
         "87"
        ],
        [
         "18",
         "84"
        ],
        [
         "20",
         "83"
        ],
        [
         "45",
         "83"
        ],
        [
         "42",
         "83"
        ],
        [
         "1",
         "83"
        ],
        [
         "30",
         "82"
        ],
        [
         "11",
         "82"
        ],
        [
         "33",
         "82"
        ],
        [
         "40",
         "82"
        ],
        [
         "39",
         "81"
        ],
        [
         "32",
         "81"
        ],
        [
         "28",
         "80"
        ],
        [
         "12",
         "79"
        ],
        [
         "34",
         "79"
        ],
        [
         "25",
         "79"
        ],
        [
         "19",
         "78"
        ],
        [
         "27",
         "78"
        ],
        [
         "37",
         "78"
        ],
        [
         "46",
         "78"
        ],
        [
         "26",
         "77"
        ],
        [
         "50",
         "77"
        ],
        [
         "10",
         "76"
        ],
        [
         "15",
         "73"
        ],
        [
         "23",
         "73"
        ],
        [
         "2",
         "72"
        ],
        [
         "44",
         "72"
        ],
        [
         "36",
         "71"
        ],
        [
         "41",
         "70"
        ],
        [
         "16",
         "70"
        ],
        [
         "38",
         "70"
        ],
        [
         "29",
         "69"
        ],
        [
         "13",
         "69"
        ],
        [
         "8",
         "67"
        ],
        [
         "17",
         "67"
        ],
        [
         "7",
         "65"
        ],
        [
         "22",
         "65"
        ],
        [
         "9",
         "65"
        ],
        [
         "43",
         "64"
        ],
        [
         "35",
         "63"
        ],
        [
         "49",
         "58"
        ]
       ],
       "shape": {
        "columns": 1,
        "rows": 50
       }
      },
      "text/plain": [
       "Previous_Purchases\n",
       "31    97\n",
       "21    96\n",
       "14    92\n",
       "24    91\n",
       "3     91\n",
       "4     91\n",
       "48    90\n",
       "47    90\n",
       "5     87\n",
       "6     87\n",
       "18    84\n",
       "20    83\n",
       "45    83\n",
       "42    83\n",
       "1     83\n",
       "30    82\n",
       "11    82\n",
       "33    82\n",
       "40    82\n",
       "39    81\n",
       "32    81\n",
       "28    80\n",
       "12    79\n",
       "34    79\n",
       "25    79\n",
       "19    78\n",
       "27    78\n",
       "37    78\n",
       "46    78\n",
       "26    77\n",
       "50    77\n",
       "10    76\n",
       "15    73\n",
       "23    73\n",
       "2     72\n",
       "44    72\n",
       "36    71\n",
       "41    70\n",
       "16    70\n",
       "38    70\n",
       "29    69\n",
       "13    69\n",
       "8     67\n",
       "17    67\n",
       "7     65\n",
       "22    65\n",
       "9     65\n",
       "43    64\n",
       "35    63\n",
       "49    58\n",
       "Name: count, dtype: int64"
      ]
     },
     "execution_count": 21,
     "metadata": {},
     "output_type": "execute_result"
    }
   ],
   "source": [
    "df.Previous_Purchases.value_counts()"
   ]
  },
  {
   "cell_type": "code",
   "execution_count": 22,
   "id": "60b8ba46",
   "metadata": {},
   "outputs": [
    {
     "data": {
      "application/vnd.microsoft.datawrangler.viewer.v0+json": {
       "columns": [
        {
         "name": "('Customer_ID', 'Previous_Purchases')",
         "rawType": "object",
         "type": "unknown"
        },
        {
         "name": "count",
         "rawType": "int64",
         "type": "integer"
        }
       ],
       "ref": "9bf04136-f0af-4890-8d09-20d335320b46",
       "rows": [
        [
         "(1, 14)",
         "1"
        ],
        [
         "(2, 2)",
         "1"
        ],
        [
         "(3, 23)",
         "1"
        ],
        [
         "(4, 49)",
         "1"
        ],
        [
         "(5, 31)",
         "1"
        ],
        [
         "(6, 14)",
         "1"
        ],
        [
         "(7, 49)",
         "1"
        ],
        [
         "(8, 19)",
         "1"
        ],
        [
         "(9, 8)",
         "1"
        ],
        [
         "(10, 4)",
         "1"
        ],
        [
         "(11, 26)",
         "1"
        ],
        [
         "(12, 10)",
         "1"
        ],
        [
         "(13, 37)",
         "1"
        ],
        [
         "(14, 31)",
         "1"
        ],
        [
         "(15, 34)",
         "1"
        ],
        [
         "(16, 8)",
         "1"
        ],
        [
         "(17, 44)",
         "1"
        ],
        [
         "(18, 36)",
         "1"
        ],
        [
         "(19, 17)",
         "1"
        ],
        [
         "(20, 46)",
         "1"
        ],
        [
         "(21, 50)",
         "1"
        ],
        [
         "(22, 22)",
         "1"
        ],
        [
         "(23, 32)",
         "1"
        ],
        [
         "(24, 40)",
         "1"
        ],
        [
         "(25, 16)",
         "1"
        ],
        [
         "(26, 14)",
         "1"
        ],
        [
         "(27, 13)",
         "1"
        ],
        [
         "(28, 7)",
         "1"
        ],
        [
         "(29, 41)",
         "1"
        ],
        [
         "(30, 14)",
         "1"
        ],
        [
         "(31, 16)",
         "1"
        ],
        [
         "(32, 45)",
         "1"
        ],
        [
         "(33, 37)",
         "1"
        ],
        [
         "(34, 45)",
         "1"
        ],
        [
         "(35, 38)",
         "1"
        ],
        [
         "(36, 48)",
         "1"
        ],
        [
         "(37, 44)",
         "1"
        ],
        [
         "(38, 10)",
         "1"
        ],
        [
         "(39, 44)",
         "1"
        ],
        [
         "(40, 18)",
         "1"
        ],
        [
         "(41, 31)",
         "1"
        ],
        [
         "(42, 40)",
         "1"
        ],
        [
         "(43, 15)",
         "1"
        ],
        [
         "(44, 19)",
         "1"
        ],
        [
         "(45, 45)",
         "1"
        ],
        [
         "(46, 25)",
         "1"
        ],
        [
         "(47, 45)",
         "1"
        ],
        [
         "(48, 36)",
         "1"
        ],
        [
         "(49, 38)",
         "1"
        ],
        [
         "(50, 34)",
         "1"
        ]
       ],
       "shape": {
        "columns": 1,
        "rows": 3900
       }
      },
      "text/plain": [
       "Customer_ID  Previous_Purchases\n",
       "1            14                    1\n",
       "2            2                     1\n",
       "3            23                    1\n",
       "4            49                    1\n",
       "5            31                    1\n",
       "                                  ..\n",
       "3896         32                    1\n",
       "3897         41                    1\n",
       "3898         24                    1\n",
       "3899         24                    1\n",
       "3900         33                    1\n",
       "Name: count, Length: 3900, dtype: int64"
      ]
     },
     "execution_count": 22,
     "metadata": {},
     "output_type": "execute_result"
    }
   ],
   "source": [
    "df.groupby('Customer_ID')['Previous_Purchases'].value_counts()"
   ]
  },
  {
   "cell_type": "code",
   "execution_count": 23,
   "id": "4877edaa",
   "metadata": {},
   "outputs": [
    {
     "data": {
      "application/vnd.microsoft.datawrangler.viewer.v0+json": {
       "columns": [
        {
         "name": "Category",
         "rawType": "object",
         "type": "string"
        },
        {
         "name": "Backpack",
         "rawType": "int64",
         "type": "integer"
        },
        {
         "name": "Belt",
         "rawType": "int64",
         "type": "integer"
        },
        {
         "name": "Blouse",
         "rawType": "int64",
         "type": "integer"
        },
        {
         "name": "Boots",
         "rawType": "int64",
         "type": "integer"
        },
        {
         "name": "Coat",
         "rawType": "int64",
         "type": "integer"
        },
        {
         "name": "Dress",
         "rawType": "int64",
         "type": "integer"
        },
        {
         "name": "Gloves",
         "rawType": "int64",
         "type": "integer"
        },
        {
         "name": "Handbag",
         "rawType": "int64",
         "type": "integer"
        },
        {
         "name": "Hat",
         "rawType": "int64",
         "type": "integer"
        },
        {
         "name": "Hoodie",
         "rawType": "int64",
         "type": "integer"
        },
        {
         "name": "Jacket",
         "rawType": "int64",
         "type": "integer"
        },
        {
         "name": "Jeans",
         "rawType": "int64",
         "type": "integer"
        },
        {
         "name": "Jewelry",
         "rawType": "int64",
         "type": "integer"
        },
        {
         "name": "Pants",
         "rawType": "int64",
         "type": "integer"
        },
        {
         "name": "Sandals",
         "rawType": "int64",
         "type": "integer"
        },
        {
         "name": "Scarf",
         "rawType": "int64",
         "type": "integer"
        },
        {
         "name": "Shirt",
         "rawType": "int64",
         "type": "integer"
        },
        {
         "name": "Shoes",
         "rawType": "int64",
         "type": "integer"
        },
        {
         "name": "Shorts",
         "rawType": "int64",
         "type": "integer"
        },
        {
         "name": "Skirt",
         "rawType": "int64",
         "type": "integer"
        },
        {
         "name": "Sneakers",
         "rawType": "int64",
         "type": "integer"
        },
        {
         "name": "Socks",
         "rawType": "int64",
         "type": "integer"
        },
        {
         "name": "Sunglasses",
         "rawType": "int64",
         "type": "integer"
        },
        {
         "name": "Sweater",
         "rawType": "int64",
         "type": "integer"
        },
        {
         "name": "T-shirt",
         "rawType": "int64",
         "type": "integer"
        }
       ],
       "ref": "e41aa4c3-09d8-4fd2-95b7-6e788c82ff55",
       "rows": [
        [
         "Accessories",
         "143",
         "161",
         "0",
         "0",
         "0",
         "0",
         "140",
         "153",
         "154",
         "0",
         "0",
         "0",
         "171",
         "0",
         "0",
         "157",
         "0",
         "0",
         "0",
         "0",
         "0",
         "0",
         "161",
         "0",
         "0"
        ],
        [
         "Clothing",
         "0",
         "0",
         "171",
         "0",
         "0",
         "166",
         "0",
         "0",
         "0",
         "151",
         "0",
         "124",
         "0",
         "171",
         "0",
         "0",
         "169",
         "0",
         "157",
         "158",
         "0",
         "159",
         "0",
         "164",
         "147"
        ],
        [
         "Footwear",
         "0",
         "0",
         "0",
         "144",
         "0",
         "0",
         "0",
         "0",
         "0",
         "0",
         "0",
         "0",
         "0",
         "0",
         "160",
         "0",
         "0",
         "150",
         "0",
         "0",
         "145",
         "0",
         "0",
         "0",
         "0"
        ],
        [
         "Outerwear",
         "0",
         "0",
         "0",
         "0",
         "161",
         "0",
         "0",
         "0",
         "0",
         "0",
         "163",
         "0",
         "0",
         "0",
         "0",
         "0",
         "0",
         "0",
         "0",
         "0",
         "0",
         "0",
         "0",
         "0",
         "0"
        ]
       ],
       "shape": {
        "columns": 25,
        "rows": 4
       }
      },
      "text/html": [
       "<div>\n",
       "<style scoped>\n",
       "    .dataframe tbody tr th:only-of-type {\n",
       "        vertical-align: middle;\n",
       "    }\n",
       "\n",
       "    .dataframe tbody tr th {\n",
       "        vertical-align: top;\n",
       "    }\n",
       "\n",
       "    .dataframe thead th {\n",
       "        text-align: right;\n",
       "    }\n",
       "</style>\n",
       "<table border=\"1\" class=\"dataframe\">\n",
       "  <thead>\n",
       "    <tr style=\"text-align: right;\">\n",
       "      <th>Item_Purchased</th>\n",
       "      <th>Backpack</th>\n",
       "      <th>Belt</th>\n",
       "      <th>Blouse</th>\n",
       "      <th>Boots</th>\n",
       "      <th>Coat</th>\n",
       "      <th>Dress</th>\n",
       "      <th>Gloves</th>\n",
       "      <th>Handbag</th>\n",
       "      <th>Hat</th>\n",
       "      <th>Hoodie</th>\n",
       "      <th>...</th>\n",
       "      <th>Scarf</th>\n",
       "      <th>Shirt</th>\n",
       "      <th>Shoes</th>\n",
       "      <th>Shorts</th>\n",
       "      <th>Skirt</th>\n",
       "      <th>Sneakers</th>\n",
       "      <th>Socks</th>\n",
       "      <th>Sunglasses</th>\n",
       "      <th>Sweater</th>\n",
       "      <th>T-shirt</th>\n",
       "    </tr>\n",
       "    <tr>\n",
       "      <th>Category</th>\n",
       "      <th></th>\n",
       "      <th></th>\n",
       "      <th></th>\n",
       "      <th></th>\n",
       "      <th></th>\n",
       "      <th></th>\n",
       "      <th></th>\n",
       "      <th></th>\n",
       "      <th></th>\n",
       "      <th></th>\n",
       "      <th></th>\n",
       "      <th></th>\n",
       "      <th></th>\n",
       "      <th></th>\n",
       "      <th></th>\n",
       "      <th></th>\n",
       "      <th></th>\n",
       "      <th></th>\n",
       "      <th></th>\n",
       "      <th></th>\n",
       "      <th></th>\n",
       "    </tr>\n",
       "  </thead>\n",
       "  <tbody>\n",
       "    <tr>\n",
       "      <th>Accessories</th>\n",
       "      <td>143</td>\n",
       "      <td>161</td>\n",
       "      <td>0</td>\n",
       "      <td>0</td>\n",
       "      <td>0</td>\n",
       "      <td>0</td>\n",
       "      <td>140</td>\n",
       "      <td>153</td>\n",
       "      <td>154</td>\n",
       "      <td>0</td>\n",
       "      <td>...</td>\n",
       "      <td>157</td>\n",
       "      <td>0</td>\n",
       "      <td>0</td>\n",
       "      <td>0</td>\n",
       "      <td>0</td>\n",
       "      <td>0</td>\n",
       "      <td>0</td>\n",
       "      <td>161</td>\n",
       "      <td>0</td>\n",
       "      <td>0</td>\n",
       "    </tr>\n",
       "    <tr>\n",
       "      <th>Clothing</th>\n",
       "      <td>0</td>\n",
       "      <td>0</td>\n",
       "      <td>171</td>\n",
       "      <td>0</td>\n",
       "      <td>0</td>\n",
       "      <td>166</td>\n",
       "      <td>0</td>\n",
       "      <td>0</td>\n",
       "      <td>0</td>\n",
       "      <td>151</td>\n",
       "      <td>...</td>\n",
       "      <td>0</td>\n",
       "      <td>169</td>\n",
       "      <td>0</td>\n",
       "      <td>157</td>\n",
       "      <td>158</td>\n",
       "      <td>0</td>\n",
       "      <td>159</td>\n",
       "      <td>0</td>\n",
       "      <td>164</td>\n",
       "      <td>147</td>\n",
       "    </tr>\n",
       "    <tr>\n",
       "      <th>Footwear</th>\n",
       "      <td>0</td>\n",
       "      <td>0</td>\n",
       "      <td>0</td>\n",
       "      <td>144</td>\n",
       "      <td>0</td>\n",
       "      <td>0</td>\n",
       "      <td>0</td>\n",
       "      <td>0</td>\n",
       "      <td>0</td>\n",
       "      <td>0</td>\n",
       "      <td>...</td>\n",
       "      <td>0</td>\n",
       "      <td>0</td>\n",
       "      <td>150</td>\n",
       "      <td>0</td>\n",
       "      <td>0</td>\n",
       "      <td>145</td>\n",
       "      <td>0</td>\n",
       "      <td>0</td>\n",
       "      <td>0</td>\n",
       "      <td>0</td>\n",
       "    </tr>\n",
       "    <tr>\n",
       "      <th>Outerwear</th>\n",
       "      <td>0</td>\n",
       "      <td>0</td>\n",
       "      <td>0</td>\n",
       "      <td>0</td>\n",
       "      <td>161</td>\n",
       "      <td>0</td>\n",
       "      <td>0</td>\n",
       "      <td>0</td>\n",
       "      <td>0</td>\n",
       "      <td>0</td>\n",
       "      <td>...</td>\n",
       "      <td>0</td>\n",
       "      <td>0</td>\n",
       "      <td>0</td>\n",
       "      <td>0</td>\n",
       "      <td>0</td>\n",
       "      <td>0</td>\n",
       "      <td>0</td>\n",
       "      <td>0</td>\n",
       "      <td>0</td>\n",
       "      <td>0</td>\n",
       "    </tr>\n",
       "  </tbody>\n",
       "</table>\n",
       "<p>4 rows × 25 columns</p>\n",
       "</div>"
      ],
      "text/plain": [
       "Item_Purchased  Backpack  Belt  Blouse  Boots  Coat  Dress  Gloves  Handbag  \\\n",
       "Category                                                                      \n",
       "Accessories          143   161       0      0     0      0     140      153   \n",
       "Clothing               0     0     171      0     0    166       0        0   \n",
       "Footwear               0     0       0    144     0      0       0        0   \n",
       "Outerwear              0     0       0      0   161      0       0        0   \n",
       "\n",
       "Item_Purchased  Hat  Hoodie  ...  Scarf  Shirt  Shoes  Shorts  Skirt  \\\n",
       "Category                     ...                                       \n",
       "Accessories     154       0  ...    157      0      0       0      0   \n",
       "Clothing          0     151  ...      0    169      0     157    158   \n",
       "Footwear          0       0  ...      0      0    150       0      0   \n",
       "Outerwear         0       0  ...      0      0      0       0      0   \n",
       "\n",
       "Item_Purchased  Sneakers  Socks  Sunglasses  Sweater  T-shirt  \n",
       "Category                                                       \n",
       "Accessories            0      0         161        0        0  \n",
       "Clothing               0    159           0      164      147  \n",
       "Footwear             145      0           0        0        0  \n",
       "Outerwear              0      0           0        0        0  \n",
       "\n",
       "[4 rows x 25 columns]"
      ]
     },
     "execution_count": 23,
     "metadata": {},
     "output_type": "execute_result"
    }
   ],
   "source": [
    "pd.crosstab(df.Category, df.Item_Purchased)"
   ]
  },
  {
   "cell_type": "code",
   "execution_count": 24,
   "id": "1a39538b",
   "metadata": {},
   "outputs": [
    {
     "data": {
      "application/vnd.microsoft.datawrangler.viewer.v0+json": {
       "columns": [
        {
         "name": "Category",
         "rawType": "object",
         "type": "string"
        },
        {
         "name": "Fall",
         "rawType": "int64",
         "type": "integer"
        },
        {
         "name": "Spring",
         "rawType": "int64",
         "type": "integer"
        },
        {
         "name": "Summer",
         "rawType": "int64",
         "type": "integer"
        },
        {
         "name": "Winter",
         "rawType": "int64",
         "type": "integer"
        }
       ],
       "ref": "14662d50-5e3a-43b7-aa40-f4665d42bb33",
       "rows": [
        [
         "Accessories",
         "324",
         "301",
         "312",
         "303"
        ],
        [
         "Clothing",
         "427",
         "454",
         "408",
         "448"
        ],
        [
         "Footwear",
         "136",
         "163",
         "160",
         "140"
        ],
        [
         "Outerwear",
         "88",
         "81",
         "75",
         "80"
        ]
       ],
       "shape": {
        "columns": 4,
        "rows": 4
       }
      },
      "text/html": [
       "<div>\n",
       "<style scoped>\n",
       "    .dataframe tbody tr th:only-of-type {\n",
       "        vertical-align: middle;\n",
       "    }\n",
       "\n",
       "    .dataframe tbody tr th {\n",
       "        vertical-align: top;\n",
       "    }\n",
       "\n",
       "    .dataframe thead th {\n",
       "        text-align: right;\n",
       "    }\n",
       "</style>\n",
       "<table border=\"1\" class=\"dataframe\">\n",
       "  <thead>\n",
       "    <tr style=\"text-align: right;\">\n",
       "      <th>Season</th>\n",
       "      <th>Fall</th>\n",
       "      <th>Spring</th>\n",
       "      <th>Summer</th>\n",
       "      <th>Winter</th>\n",
       "    </tr>\n",
       "    <tr>\n",
       "      <th>Category</th>\n",
       "      <th></th>\n",
       "      <th></th>\n",
       "      <th></th>\n",
       "      <th></th>\n",
       "    </tr>\n",
       "  </thead>\n",
       "  <tbody>\n",
       "    <tr>\n",
       "      <th>Accessories</th>\n",
       "      <td>324</td>\n",
       "      <td>301</td>\n",
       "      <td>312</td>\n",
       "      <td>303</td>\n",
       "    </tr>\n",
       "    <tr>\n",
       "      <th>Clothing</th>\n",
       "      <td>427</td>\n",
       "      <td>454</td>\n",
       "      <td>408</td>\n",
       "      <td>448</td>\n",
       "    </tr>\n",
       "    <tr>\n",
       "      <th>Footwear</th>\n",
       "      <td>136</td>\n",
       "      <td>163</td>\n",
       "      <td>160</td>\n",
       "      <td>140</td>\n",
       "    </tr>\n",
       "    <tr>\n",
       "      <th>Outerwear</th>\n",
       "      <td>88</td>\n",
       "      <td>81</td>\n",
       "      <td>75</td>\n",
       "      <td>80</td>\n",
       "    </tr>\n",
       "  </tbody>\n",
       "</table>\n",
       "</div>"
      ],
      "text/plain": [
       "Season       Fall  Spring  Summer  Winter\n",
       "Category                                 \n",
       "Accessories   324     301     312     303\n",
       "Clothing      427     454     408     448\n",
       "Footwear      136     163     160     140\n",
       "Outerwear      88      81      75      80"
      ]
     },
     "execution_count": 24,
     "metadata": {},
     "output_type": "execute_result"
    }
   ],
   "source": [
    "pd.crosstab(df.Category, df.Season)"
   ]
  },
  {
   "cell_type": "code",
   "execution_count": 25,
   "id": "00e63a82",
   "metadata": {},
   "outputs": [
    {
     "data": {
      "application/vnd.microsoft.datawrangler.viewer.v0+json": {
       "columns": [
        {
         "name": "Category",
         "rawType": "object",
         "type": "string"
        },
        {
         "name": "Review_Rating",
         "rawType": "float64",
         "type": "float"
        }
       ],
       "ref": "5ac82c45-3e9b-421c-8aaa-923c43255890",
       "rows": [
        [
         "Accessories",
         "3.7686290327579743"
        ],
        [
         "Clothing",
         "3.7231433501378106"
        ],
        [
         "Footwear",
         "3.790651086574803"
        ],
        [
         "Outerwear",
         "3.7469135817186334"
        ]
       ],
       "shape": {
        "columns": 1,
        "rows": 4
       }
      },
      "text/plain": [
       "Category\n",
       "Accessories    3.768629\n",
       "Clothing       3.723143\n",
       "Footwear       3.790651\n",
       "Outerwear      3.746914\n",
       "Name: Review_Rating, dtype: float64"
      ]
     },
     "execution_count": 25,
     "metadata": {},
     "output_type": "execute_result"
    }
   ],
   "source": [
    "df.groupby('Category')['Review_Rating'].mean()"
   ]
  },
  {
   "cell_type": "code",
   "execution_count": 26,
   "id": "92ce1ff9",
   "metadata": {},
   "outputs": [
    {
     "data": {
      "application/vnd.microsoft.datawrangler.viewer.v0+json": {
       "columns": [
        {
         "name": "index",
         "rawType": "int64",
         "type": "integer"
        },
        {
         "name": "Customer_ID",
         "rawType": "int64",
         "type": "integer"
        },
        {
         "name": "Age",
         "rawType": "int64",
         "type": "integer"
        },
        {
         "name": "Gender",
         "rawType": "object",
         "type": "string"
        },
        {
         "name": "Item_Purchased",
         "rawType": "object",
         "type": "string"
        },
        {
         "name": "Category",
         "rawType": "object",
         "type": "string"
        },
        {
         "name": "Purchase_Amount_USD",
         "rawType": "int64",
         "type": "integer"
        },
        {
         "name": "Location",
         "rawType": "object",
         "type": "string"
        },
        {
         "name": "Size",
         "rawType": "object",
         "type": "string"
        },
        {
         "name": "Color",
         "rawType": "object",
         "type": "string"
        },
        {
         "name": "Season",
         "rawType": "object",
         "type": "string"
        },
        {
         "name": "Review_Rating",
         "rawType": "float64",
         "type": "float"
        },
        {
         "name": "Subscription_Status",
         "rawType": "object",
         "type": "string"
        },
        {
         "name": "Payment_Method",
         "rawType": "object",
         "type": "string"
        },
        {
         "name": "Shipping_Type",
         "rawType": "object",
         "type": "string"
        },
        {
         "name": "Discount_Applied",
         "rawType": "object",
         "type": "string"
        },
        {
         "name": "Promo_Code_Used",
         "rawType": "object",
         "type": "string"
        },
        {
         "name": "Previous_Purchases",
         "rawType": "int64",
         "type": "integer"
        },
        {
         "name": "Preferred_Payment_Method",
         "rawType": "object",
         "type": "string"
        },
        {
         "name": "Frequency_of_Purchases",
         "rawType": "object",
         "type": "string"
        }
       ],
       "ref": "93cf1707-8ef5-4b5e-9ff6-1fab356dace5",
       "rows": [
        [
         "2842",
         "2843",
         "28",
         "Female",
         "Coat",
         "Outerwear",
         "100",
         "Arizona",
         "L",
         "Green",
         "Fall",
         "4.300000190734863",
         "No",
         "Cash",
         "Standard",
         "No",
         "No",
         "48",
         "Debit Card",
         "Quarterly"
        ],
        [
         "95",
         "96",
         "37",
         "Male",
         "Sneakers",
         "Footwear",
         "100",
         "Missouri",
         "L",
         "Pink",
         "Fall",
         "3.799999952316284",
         "Yes",
         "PayPal",
         "Free Shipping",
         "Yes",
         "Yes",
         "48",
         "PayPal",
         "Monthly"
        ],
        [
         "581",
         "582",
         "32",
         "Male",
         "Sweater",
         "Clothing",
         "100",
         "Iowa",
         "XL",
         "Charcoal",
         "Winter",
         "2.700000047683716",
         "Yes",
         "Credit Card",
         "Store Pickup",
         "Yes",
         "Yes",
         "12",
         "Bank Transfer",
         "Every 3 Months"
        ],
        [
         "1421",
         "1422",
         "68",
         "Male",
         "Dress",
         "Clothing",
         "100",
         "Pennsylvania",
         "S",
         "Gold",
         "Spring",
         "3.0",
         "No",
         "Credit Card",
         "Standard",
         "Yes",
         "Yes",
         "24",
         "Bank Transfer",
         "Fortnightly"
        ],
        [
         "3837",
         "3838",
         "45",
         "Female",
         "Hoodie",
         "Clothing",
         "100",
         "New Mexico",
         "M",
         "Green",
         "Spring",
         "4.800000190734863",
         "No",
         "Debit Card",
         "Free Shipping",
         "No",
         "No",
         "33",
         "Bank Transfer",
         "Fortnightly"
        ],
        [
         "861",
         "862",
         "46",
         "Male",
         "Skirt",
         "Clothing",
         "100",
         "Virginia",
         "XL",
         "Green",
         "Spring",
         "3.299999952316284",
         "Yes",
         "PayPal",
         "2-Day Shipping",
         "Yes",
         "Yes",
         "35",
         "Credit Card",
         "Every 3 Months"
        ],
        [
         "2214",
         "2215",
         "50",
         "Male",
         "Belt",
         "Accessories",
         "100",
         "Idaho",
         "L",
         "Gold",
         "Fall",
         "4.099999904632568",
         "No",
         "Cash",
         "Standard",
         "No",
         "No",
         "20",
         "Debit Card",
         "Weekly"
        ],
        [
         "1591",
         "1592",
         "18",
         "Male",
         "Skirt",
         "Clothing",
         "100",
         "South Dakota",
         "L",
         "Gold",
         "Winter",
         "2.9000000953674316",
         "No",
         "Bank Transfer",
         "Next Day Air",
         "Yes",
         "Yes",
         "24",
         "PayPal",
         "Annually"
        ],
        [
         "1456",
         "1457",
         "59",
         "Male",
         "Coat",
         "Outerwear",
         "100",
         "Montana",
         "S",
         "Olive",
         "Spring",
         "2.700000047683716",
         "No",
         "Venmo",
         "Store Pickup",
         "Yes",
         "Yes",
         "30",
         "PayPal",
         "Every 3 Months"
        ],
        [
         "243",
         "244",
         "25",
         "Male",
         "Jewelry",
         "Accessories",
         "100",
         "Kentucky",
         "M",
         "Olive",
         "Winter",
         "2.799999952316284",
         "Yes",
         "Credit Card",
         "2-Day Shipping",
         "Yes",
         "Yes",
         "4",
         "Debit Card",
         "Monthly"
        ]
       ],
       "shape": {
        "columns": 19,
        "rows": 10
       }
      },
      "text/html": [
       "<div>\n",
       "<style scoped>\n",
       "    .dataframe tbody tr th:only-of-type {\n",
       "        vertical-align: middle;\n",
       "    }\n",
       "\n",
       "    .dataframe tbody tr th {\n",
       "        vertical-align: top;\n",
       "    }\n",
       "\n",
       "    .dataframe thead th {\n",
       "        text-align: right;\n",
       "    }\n",
       "</style>\n",
       "<table border=\"1\" class=\"dataframe\">\n",
       "  <thead>\n",
       "    <tr style=\"text-align: right;\">\n",
       "      <th></th>\n",
       "      <th>Customer_ID</th>\n",
       "      <th>Age</th>\n",
       "      <th>Gender</th>\n",
       "      <th>Item_Purchased</th>\n",
       "      <th>Category</th>\n",
       "      <th>Purchase_Amount_USD</th>\n",
       "      <th>Location</th>\n",
       "      <th>Size</th>\n",
       "      <th>Color</th>\n",
       "      <th>Season</th>\n",
       "      <th>Review_Rating</th>\n",
       "      <th>Subscription_Status</th>\n",
       "      <th>Payment_Method</th>\n",
       "      <th>Shipping_Type</th>\n",
       "      <th>Discount_Applied</th>\n",
       "      <th>Promo_Code_Used</th>\n",
       "      <th>Previous_Purchases</th>\n",
       "      <th>Preferred_Payment_Method</th>\n",
       "      <th>Frequency_of_Purchases</th>\n",
       "    </tr>\n",
       "  </thead>\n",
       "  <tbody>\n",
       "    <tr>\n",
       "      <th>2842</th>\n",
       "      <td>2843</td>\n",
       "      <td>28</td>\n",
       "      <td>Female</td>\n",
       "      <td>Coat</td>\n",
       "      <td>Outerwear</td>\n",
       "      <td>100</td>\n",
       "      <td>Arizona</td>\n",
       "      <td>L</td>\n",
       "      <td>Green</td>\n",
       "      <td>Fall</td>\n",
       "      <td>4.3</td>\n",
       "      <td>No</td>\n",
       "      <td>Cash</td>\n",
       "      <td>Standard</td>\n",
       "      <td>No</td>\n",
       "      <td>No</td>\n",
       "      <td>48</td>\n",
       "      <td>Debit Card</td>\n",
       "      <td>Quarterly</td>\n",
       "    </tr>\n",
       "    <tr>\n",
       "      <th>95</th>\n",
       "      <td>96</td>\n",
       "      <td>37</td>\n",
       "      <td>Male</td>\n",
       "      <td>Sneakers</td>\n",
       "      <td>Footwear</td>\n",
       "      <td>100</td>\n",
       "      <td>Missouri</td>\n",
       "      <td>L</td>\n",
       "      <td>Pink</td>\n",
       "      <td>Fall</td>\n",
       "      <td>3.8</td>\n",
       "      <td>Yes</td>\n",
       "      <td>PayPal</td>\n",
       "      <td>Free Shipping</td>\n",
       "      <td>Yes</td>\n",
       "      <td>Yes</td>\n",
       "      <td>48</td>\n",
       "      <td>PayPal</td>\n",
       "      <td>Monthly</td>\n",
       "    </tr>\n",
       "    <tr>\n",
       "      <th>581</th>\n",
       "      <td>582</td>\n",
       "      <td>32</td>\n",
       "      <td>Male</td>\n",
       "      <td>Sweater</td>\n",
       "      <td>Clothing</td>\n",
       "      <td>100</td>\n",
       "      <td>Iowa</td>\n",
       "      <td>XL</td>\n",
       "      <td>Charcoal</td>\n",
       "      <td>Winter</td>\n",
       "      <td>2.7</td>\n",
       "      <td>Yes</td>\n",
       "      <td>Credit Card</td>\n",
       "      <td>Store Pickup</td>\n",
       "      <td>Yes</td>\n",
       "      <td>Yes</td>\n",
       "      <td>12</td>\n",
       "      <td>Bank Transfer</td>\n",
       "      <td>Every 3 Months</td>\n",
       "    </tr>\n",
       "    <tr>\n",
       "      <th>1421</th>\n",
       "      <td>1422</td>\n",
       "      <td>68</td>\n",
       "      <td>Male</td>\n",
       "      <td>Dress</td>\n",
       "      <td>Clothing</td>\n",
       "      <td>100</td>\n",
       "      <td>Pennsylvania</td>\n",
       "      <td>S</td>\n",
       "      <td>Gold</td>\n",
       "      <td>Spring</td>\n",
       "      <td>3.0</td>\n",
       "      <td>No</td>\n",
       "      <td>Credit Card</td>\n",
       "      <td>Standard</td>\n",
       "      <td>Yes</td>\n",
       "      <td>Yes</td>\n",
       "      <td>24</td>\n",
       "      <td>Bank Transfer</td>\n",
       "      <td>Fortnightly</td>\n",
       "    </tr>\n",
       "    <tr>\n",
       "      <th>3837</th>\n",
       "      <td>3838</td>\n",
       "      <td>45</td>\n",
       "      <td>Female</td>\n",
       "      <td>Hoodie</td>\n",
       "      <td>Clothing</td>\n",
       "      <td>100</td>\n",
       "      <td>New Mexico</td>\n",
       "      <td>M</td>\n",
       "      <td>Green</td>\n",
       "      <td>Spring</td>\n",
       "      <td>4.8</td>\n",
       "      <td>No</td>\n",
       "      <td>Debit Card</td>\n",
       "      <td>Free Shipping</td>\n",
       "      <td>No</td>\n",
       "      <td>No</td>\n",
       "      <td>33</td>\n",
       "      <td>Bank Transfer</td>\n",
       "      <td>Fortnightly</td>\n",
       "    </tr>\n",
       "    <tr>\n",
       "      <th>861</th>\n",
       "      <td>862</td>\n",
       "      <td>46</td>\n",
       "      <td>Male</td>\n",
       "      <td>Skirt</td>\n",
       "      <td>Clothing</td>\n",
       "      <td>100</td>\n",
       "      <td>Virginia</td>\n",
       "      <td>XL</td>\n",
       "      <td>Green</td>\n",
       "      <td>Spring</td>\n",
       "      <td>3.3</td>\n",
       "      <td>Yes</td>\n",
       "      <td>PayPal</td>\n",
       "      <td>2-Day Shipping</td>\n",
       "      <td>Yes</td>\n",
       "      <td>Yes</td>\n",
       "      <td>35</td>\n",
       "      <td>Credit Card</td>\n",
       "      <td>Every 3 Months</td>\n",
       "    </tr>\n",
       "    <tr>\n",
       "      <th>2214</th>\n",
       "      <td>2215</td>\n",
       "      <td>50</td>\n",
       "      <td>Male</td>\n",
       "      <td>Belt</td>\n",
       "      <td>Accessories</td>\n",
       "      <td>100</td>\n",
       "      <td>Idaho</td>\n",
       "      <td>L</td>\n",
       "      <td>Gold</td>\n",
       "      <td>Fall</td>\n",
       "      <td>4.1</td>\n",
       "      <td>No</td>\n",
       "      <td>Cash</td>\n",
       "      <td>Standard</td>\n",
       "      <td>No</td>\n",
       "      <td>No</td>\n",
       "      <td>20</td>\n",
       "      <td>Debit Card</td>\n",
       "      <td>Weekly</td>\n",
       "    </tr>\n",
       "    <tr>\n",
       "      <th>1591</th>\n",
       "      <td>1592</td>\n",
       "      <td>18</td>\n",
       "      <td>Male</td>\n",
       "      <td>Skirt</td>\n",
       "      <td>Clothing</td>\n",
       "      <td>100</td>\n",
       "      <td>South Dakota</td>\n",
       "      <td>L</td>\n",
       "      <td>Gold</td>\n",
       "      <td>Winter</td>\n",
       "      <td>2.9</td>\n",
       "      <td>No</td>\n",
       "      <td>Bank Transfer</td>\n",
       "      <td>Next Day Air</td>\n",
       "      <td>Yes</td>\n",
       "      <td>Yes</td>\n",
       "      <td>24</td>\n",
       "      <td>PayPal</td>\n",
       "      <td>Annually</td>\n",
       "    </tr>\n",
       "    <tr>\n",
       "      <th>1456</th>\n",
       "      <td>1457</td>\n",
       "      <td>59</td>\n",
       "      <td>Male</td>\n",
       "      <td>Coat</td>\n",
       "      <td>Outerwear</td>\n",
       "      <td>100</td>\n",
       "      <td>Montana</td>\n",
       "      <td>S</td>\n",
       "      <td>Olive</td>\n",
       "      <td>Spring</td>\n",
       "      <td>2.7</td>\n",
       "      <td>No</td>\n",
       "      <td>Venmo</td>\n",
       "      <td>Store Pickup</td>\n",
       "      <td>Yes</td>\n",
       "      <td>Yes</td>\n",
       "      <td>30</td>\n",
       "      <td>PayPal</td>\n",
       "      <td>Every 3 Months</td>\n",
       "    </tr>\n",
       "    <tr>\n",
       "      <th>243</th>\n",
       "      <td>244</td>\n",
       "      <td>25</td>\n",
       "      <td>Male</td>\n",
       "      <td>Jewelry</td>\n",
       "      <td>Accessories</td>\n",
       "      <td>100</td>\n",
       "      <td>Kentucky</td>\n",
       "      <td>M</td>\n",
       "      <td>Olive</td>\n",
       "      <td>Winter</td>\n",
       "      <td>2.8</td>\n",
       "      <td>Yes</td>\n",
       "      <td>Credit Card</td>\n",
       "      <td>2-Day Shipping</td>\n",
       "      <td>Yes</td>\n",
       "      <td>Yes</td>\n",
       "      <td>4</td>\n",
       "      <td>Debit Card</td>\n",
       "      <td>Monthly</td>\n",
       "    </tr>\n",
       "  </tbody>\n",
       "</table>\n",
       "</div>"
      ],
      "text/plain": [
       "      Customer_ID  Age  Gender Item_Purchased     Category  \\\n",
       "2842         2843   28  Female           Coat    Outerwear   \n",
       "95             96   37    Male       Sneakers     Footwear   \n",
       "581           582   32    Male        Sweater     Clothing   \n",
       "1421         1422   68    Male          Dress     Clothing   \n",
       "3837         3838   45  Female         Hoodie     Clothing   \n",
       "861           862   46    Male          Skirt     Clothing   \n",
       "2214         2215   50    Male           Belt  Accessories   \n",
       "1591         1592   18    Male          Skirt     Clothing   \n",
       "1456         1457   59    Male           Coat    Outerwear   \n",
       "243           244   25    Male        Jewelry  Accessories   \n",
       "\n",
       "      Purchase_Amount_USD      Location Size     Color  Season  Review_Rating  \\\n",
       "2842                  100       Arizona    L     Green    Fall            4.3   \n",
       "95                    100      Missouri    L      Pink    Fall            3.8   \n",
       "581                   100          Iowa   XL  Charcoal  Winter            2.7   \n",
       "1421                  100  Pennsylvania    S      Gold  Spring            3.0   \n",
       "3837                  100    New Mexico    M     Green  Spring            4.8   \n",
       "861                   100      Virginia   XL     Green  Spring            3.3   \n",
       "2214                  100         Idaho    L      Gold    Fall            4.1   \n",
       "1591                  100  South Dakota    L      Gold  Winter            2.9   \n",
       "1456                  100       Montana    S     Olive  Spring            2.7   \n",
       "243                   100      Kentucky    M     Olive  Winter            2.8   \n",
       "\n",
       "     Subscription_Status Payment_Method   Shipping_Type Discount_Applied  \\\n",
       "2842                  No           Cash        Standard               No   \n",
       "95                   Yes         PayPal   Free Shipping              Yes   \n",
       "581                  Yes    Credit Card    Store Pickup              Yes   \n",
       "1421                  No    Credit Card        Standard              Yes   \n",
       "3837                  No     Debit Card   Free Shipping               No   \n",
       "861                  Yes         PayPal  2-Day Shipping              Yes   \n",
       "2214                  No           Cash        Standard               No   \n",
       "1591                  No  Bank Transfer    Next Day Air              Yes   \n",
       "1456                  No          Venmo    Store Pickup              Yes   \n",
       "243                  Yes    Credit Card  2-Day Shipping              Yes   \n",
       "\n",
       "     Promo_Code_Used  Previous_Purchases Preferred_Payment_Method  \\\n",
       "2842              No                  48               Debit Card   \n",
       "95               Yes                  48                   PayPal   \n",
       "581              Yes                  12            Bank Transfer   \n",
       "1421             Yes                  24            Bank Transfer   \n",
       "3837              No                  33            Bank Transfer   \n",
       "861              Yes                  35              Credit Card   \n",
       "2214              No                  20               Debit Card   \n",
       "1591             Yes                  24                   PayPal   \n",
       "1456             Yes                  30                   PayPal   \n",
       "243              Yes                   4               Debit Card   \n",
       "\n",
       "     Frequency_of_Purchases  \n",
       "2842              Quarterly  \n",
       "95                  Monthly  \n",
       "581          Every 3 Months  \n",
       "1421            Fortnightly  \n",
       "3837            Fortnightly  \n",
       "861          Every 3 Months  \n",
       "2214                 Weekly  \n",
       "1591               Annually  \n",
       "1456         Every 3 Months  \n",
       "243                 Monthly  "
      ]
     },
     "execution_count": 26,
     "metadata": {},
     "output_type": "execute_result"
    }
   ],
   "source": [
    "df.sort_values('Purchase_Amount_USD', ascending=False).head(10)\n"
   ]
  },
  {
   "cell_type": "code",
   "execution_count": 27,
   "id": "cfd1bd23",
   "metadata": {},
   "outputs": [
    {
     "data": {
      "application/vnd.microsoft.datawrangler.viewer.v0+json": {
       "columns": [
        {
         "name": "Gender",
         "rawType": "object",
         "type": "string"
        },
        {
         "name": "Purchase_Amount_USD",
         "rawType": "float64",
         "type": "float"
        }
       ],
       "ref": "505ed2b6-51bd-417d-b688-757a7780456d",
       "rows": [
        [
         "Female",
         "60.249198717948715"
        ],
        [
         "Male",
         "59.536199095022624"
        ]
       ],
       "shape": {
        "columns": 1,
        "rows": 2
       }
      },
      "text/plain": [
       "Gender\n",
       "Female    60.249199\n",
       "Male      59.536199\n",
       "Name: Purchase_Amount_USD, dtype: float64"
      ]
     },
     "execution_count": 27,
     "metadata": {},
     "output_type": "execute_result"
    }
   ],
   "source": [
    "df.groupby('Gender')['Purchase_Amount_USD'].mean()\n"
   ]
  },
  {
   "cell_type": "code",
   "execution_count": 28,
   "id": "fd38905c",
   "metadata": {},
   "outputs": [
    {
     "data": {
      "application/vnd.microsoft.datawrangler.viewer.v0+json": {
       "columns": [
        {
         "name": "Payment_Method",
         "rawType": "object",
         "type": "string"
        },
        {
         "name": "count",
         "rawType": "int64",
         "type": "integer"
        }
       ],
       "ref": "88b0829b-e24a-440a-ad04-9debe4ce012d",
       "rows": [
        [
         "Credit Card",
         "696"
        ],
        [
         "Venmo",
         "653"
        ],
        [
         "Cash",
         "648"
        ],
        [
         "PayPal",
         "638"
        ],
        [
         "Debit Card",
         "633"
        ],
        [
         "Bank Transfer",
         "632"
        ]
       ],
       "shape": {
        "columns": 1,
        "rows": 6
       }
      },
      "text/plain": [
       "Payment_Method\n",
       "Credit Card      696\n",
       "Venmo            653\n",
       "Cash             648\n",
       "PayPal           638\n",
       "Debit Card       633\n",
       "Bank Transfer    632\n",
       "Name: count, dtype: int64"
      ]
     },
     "execution_count": 28,
     "metadata": {},
     "output_type": "execute_result"
    }
   ],
   "source": [
    "df['Payment_Method'].value_counts()\n"
   ]
  },
  {
   "cell_type": "code",
   "execution_count": 29,
   "id": "ec6f6653",
   "metadata": {},
   "outputs": [
    {
     "data": {
      "application/vnd.microsoft.datawrangler.viewer.v0+json": {
       "columns": [
        {
         "name": "Size",
         "rawType": "object",
         "type": "string"
        },
        {
         "name": "count",
         "rawType": "int64",
         "type": "integer"
        }
       ],
       "ref": "c6ed81d9-eea0-40ad-a9e4-53c6a6d0d581",
       "rows": [
        [
         "M",
         "1755"
        ],
        [
         "L",
         "1053"
        ],
        [
         "S",
         "663"
        ],
        [
         "XL",
         "429"
        ]
       ],
       "shape": {
        "columns": 1,
        "rows": 4
       }
      },
      "text/plain": [
       "Size\n",
       "M     1755\n",
       "L     1053\n",
       "S      663\n",
       "XL     429\n",
       "Name: count, dtype: int64"
      ]
     },
     "execution_count": 29,
     "metadata": {},
     "output_type": "execute_result"
    }
   ],
   "source": [
    "df['Size'].value_counts()\n"
   ]
  },
  {
   "cell_type": "code",
   "execution_count": 30,
   "id": "b0bb7b73",
   "metadata": {},
   "outputs": [
    {
     "data": {
      "application/vnd.microsoft.datawrangler.viewer.v0+json": {
       "columns": [
        {
         "name": "Promo_Code_Used",
         "rawType": "object",
         "type": "string"
        },
        {
         "name": "count",
         "rawType": "int64",
         "type": "integer"
        }
       ],
       "ref": "6316c1b7-10b8-4d94-b87f-f6f1f50c8397",
       "rows": [
        [
         "No",
         "2223"
        ],
        [
         "Yes",
         "1677"
        ]
       ],
       "shape": {
        "columns": 1,
        "rows": 2
       }
      },
      "text/plain": [
       "Promo_Code_Used\n",
       "No     2223\n",
       "Yes    1677\n",
       "Name: count, dtype: int64"
      ]
     },
     "execution_count": 30,
     "metadata": {},
     "output_type": "execute_result"
    }
   ],
   "source": [
    "df['Promo_Code_Used'].value_counts()\n"
   ]
  },
  {
   "cell_type": "code",
   "execution_count": 31,
   "id": "6ea776a7",
   "metadata": {},
   "outputs": [
    {
     "data": {
      "application/vnd.microsoft.datawrangler.viewer.v0+json": {
       "columns": [
        {
         "name": "Discount_Applied",
         "rawType": "object",
         "type": "string"
        },
        {
         "name": "Purchase_Amount_USD",
         "rawType": "float64",
         "type": "float"
        }
       ],
       "ref": "1d69efba-cded-488e-8fac-810acf5d58b0",
       "rows": [
        [
         "No",
         "60.130454340980656"
        ],
        [
         "Yes",
         "59.27906976744186"
        ]
       ],
       "shape": {
        "columns": 1,
        "rows": 2
       }
      },
      "text/plain": [
       "Discount_Applied\n",
       "No     60.130454\n",
       "Yes    59.279070\n",
       "Name: Purchase_Amount_USD, dtype: float64"
      ]
     },
     "execution_count": 31,
     "metadata": {},
     "output_type": "execute_result"
    }
   ],
   "source": [
    "df.groupby('Discount_Applied')['Purchase_Amount_USD'].mean()\n"
   ]
  },
  {
   "cell_type": "code",
   "execution_count": 32,
   "id": "64c5e2f9",
   "metadata": {},
   "outputs": [
    {
     "data": {
      "application/vnd.microsoft.datawrangler.viewer.v0+json": {
       "columns": [
        {
         "name": "Discount_Applied",
         "rawType": "object",
         "type": "string"
        },
        {
         "name": "Purchase_Amount_USD",
         "rawType": "int64",
         "type": "integer"
        }
       ],
       "ref": "6a5a663d-76a6-4f43-8355-92de4c07bafc",
       "rows": [
        [
         "No",
         "133670"
        ],
        [
         "Yes",
         "99411"
        ]
       ],
       "shape": {
        "columns": 1,
        "rows": 2
       }
      },
      "text/plain": [
       "Discount_Applied\n",
       "No     133670\n",
       "Yes     99411\n",
       "Name: Purchase_Amount_USD, dtype: int64"
      ]
     },
     "execution_count": 32,
     "metadata": {},
     "output_type": "execute_result"
    }
   ],
   "source": [
    "df.groupby('Discount_Applied')['Purchase_Amount_USD'].sum()\n"
   ]
  },
  {
   "cell_type": "code",
   "execution_count": 33,
   "id": "c4716a09",
   "metadata": {},
   "outputs": [
    {
     "data": {
      "application/vnd.microsoft.datawrangler.viewer.v0+json": {
       "columns": [
        {
         "name": "Season",
         "rawType": "object",
         "type": "string"
        },
        {
         "name": "Purchase_Amount_USD",
         "rawType": "float64",
         "type": "float"
        }
       ],
       "ref": "a63ba113-f794-4508-9507-fbb18b536ffb",
       "rows": [
        [
         "Fall",
         "61.55692307692308"
        ],
        [
         "Spring",
         "58.73773773773774"
        ],
        [
         "Summer",
         "58.405235602094244"
        ],
        [
         "Winter",
         "60.35736354273944"
        ]
       ],
       "shape": {
        "columns": 1,
        "rows": 4
       }
      },
      "text/plain": [
       "Season\n",
       "Fall      61.556923\n",
       "Spring    58.737738\n",
       "Summer    58.405236\n",
       "Winter    60.357364\n",
       "Name: Purchase_Amount_USD, dtype: float64"
      ]
     },
     "execution_count": 33,
     "metadata": {},
     "output_type": "execute_result"
    }
   ],
   "source": [
    "df.groupby('Season')['Purchase_Amount_USD'].mean()\n"
   ]
  },
  {
   "cell_type": "code",
   "execution_count": 34,
   "id": "647c5328",
   "metadata": {},
   "outputs": [
    {
     "data": {
      "application/vnd.microsoft.datawrangler.viewer.v0+json": {
       "columns": [
        {
         "name": "Season",
         "rawType": "object",
         "type": "string"
        },
        {
         "name": "Purchase_Amount_USD",
         "rawType": "int64",
         "type": "integer"
        }
       ],
       "ref": "b6581632-45b0-4989-bd1b-5ad2f9de2699",
       "rows": [
        [
         "Fall",
         "60018"
        ],
        [
         "Spring",
         "58679"
        ],
        [
         "Summer",
         "55777"
        ],
        [
         "Winter",
         "58607"
        ]
       ],
       "shape": {
        "columns": 1,
        "rows": 4
       }
      },
      "text/plain": [
       "Season\n",
       "Fall      60018\n",
       "Spring    58679\n",
       "Summer    55777\n",
       "Winter    58607\n",
       "Name: Purchase_Amount_USD, dtype: int64"
      ]
     },
     "execution_count": 34,
     "metadata": {},
     "output_type": "execute_result"
    }
   ],
   "source": [
    "df.groupby('Season')['Purchase_Amount_USD'].sum()\n"
   ]
  },
  {
   "cell_type": "code",
   "execution_count": 35,
   "id": "109c5362",
   "metadata": {},
   "outputs": [
    {
     "data": {
      "application/vnd.microsoft.datawrangler.viewer.v0+json": {
       "columns": [
        {
         "name": "Subscription_Status",
         "rawType": "object",
         "type": "string"
        },
        {
         "name": "count",
         "rawType": "int64",
         "type": "integer"
        }
       ],
       "ref": "91f57876-23f8-4742-b416-a90a035a0f14",
       "rows": [
        [
         "No",
         "2847"
        ],
        [
         "Yes",
         "1053"
        ]
       ],
       "shape": {
        "columns": 1,
        "rows": 2
       }
      },
      "text/plain": [
       "Subscription_Status\n",
       "No     2847\n",
       "Yes    1053\n",
       "Name: count, dtype: int64"
      ]
     },
     "execution_count": 35,
     "metadata": {},
     "output_type": "execute_result"
    }
   ],
   "source": [
    "df['Subscription_Status'].value_counts()\n"
   ]
  },
  {
   "cell_type": "code",
   "execution_count": 36,
   "id": "1258d527",
   "metadata": {},
   "outputs": [
    {
     "data": {
      "application/vnd.microsoft.datawrangler.viewer.v0+json": {
       "columns": [
        {
         "name": "Subscription_Status",
         "rawType": "object",
         "type": "string"
        },
        {
         "name": "Purchase_Amount_USD",
         "rawType": "float64",
         "type": "float"
        }
       ],
       "ref": "e7daf001-0a7c-451d-b7ae-ab39f3009f72",
       "rows": [
        [
         "No",
         "59.865121180189675"
        ],
        [
         "Yes",
         "59.49192782526116"
        ]
       ],
       "shape": {
        "columns": 1,
        "rows": 2
       }
      },
      "text/plain": [
       "Subscription_Status\n",
       "No     59.865121\n",
       "Yes    59.491928\n",
       "Name: Purchase_Amount_USD, dtype: float64"
      ]
     },
     "execution_count": 36,
     "metadata": {},
     "output_type": "execute_result"
    }
   ],
   "source": [
    "df.groupby('Subscription_Status')['Purchase_Amount_USD'].mean()\n"
   ]
  },
  {
   "cell_type": "code",
   "execution_count": 37,
   "id": "d6c91f1d",
   "metadata": {},
   "outputs": [
    {
     "data": {
      "application/vnd.microsoft.datawrangler.viewer.v0+json": {
       "columns": [
        {
         "name": "Color",
         "rawType": "object",
         "type": "string"
        },
        {
         "name": "count",
         "rawType": "int64",
         "type": "integer"
        }
       ],
       "ref": "5a55fb1f-f22f-46e0-9efc-231ff451010c",
       "rows": [
        [
         "Olive",
         "177"
        ],
        [
         "Yellow",
         "174"
        ],
        [
         "Silver",
         "173"
        ],
        [
         "Teal",
         "172"
        ],
        [
         "Green",
         "169"
        ],
        [
         "Black",
         "167"
        ],
        [
         "Cyan",
         "166"
        ],
        [
         "Violet",
         "166"
        ],
        [
         "Gray",
         "159"
        ],
        [
         "Maroon",
         "158"
        ],
        [
         "Orange",
         "154"
        ],
        [
         "Charcoal",
         "153"
        ],
        [
         "Pink",
         "153"
        ],
        [
         "Magenta",
         "152"
        ],
        [
         "Blue",
         "152"
        ],
        [
         "Purple",
         "151"
        ],
        [
         "Peach",
         "149"
        ],
        [
         "Red",
         "148"
        ],
        [
         "Beige",
         "147"
        ],
        [
         "Indigo",
         "147"
        ],
        [
         "Lavender",
         "147"
        ],
        [
         "Turquoise",
         "145"
        ],
        [
         "White",
         "142"
        ],
        [
         "Brown",
         "141"
        ],
        [
         "Gold",
         "138"
        ]
       ],
       "shape": {
        "columns": 1,
        "rows": 25
       }
      },
      "text/plain": [
       "Color\n",
       "Olive        177\n",
       "Yellow       174\n",
       "Silver       173\n",
       "Teal         172\n",
       "Green        169\n",
       "Black        167\n",
       "Cyan         166\n",
       "Violet       166\n",
       "Gray         159\n",
       "Maroon       158\n",
       "Orange       154\n",
       "Charcoal     153\n",
       "Pink         153\n",
       "Magenta      152\n",
       "Blue         152\n",
       "Purple       151\n",
       "Peach        149\n",
       "Red          148\n",
       "Beige        147\n",
       "Indigo       147\n",
       "Lavender     147\n",
       "Turquoise    145\n",
       "White        142\n",
       "Brown        141\n",
       "Gold         138\n",
       "Name: count, dtype: int64"
      ]
     },
     "execution_count": 37,
     "metadata": {},
     "output_type": "execute_result"
    }
   ],
   "source": [
    "df['Color'].value_counts()\n"
   ]
  },
  {
   "cell_type": "code",
   "execution_count": 38,
   "id": "eb9b1341",
   "metadata": {},
   "outputs": [
    {
     "data": {
      "application/vnd.microsoft.datawrangler.viewer.v0+json": {
       "columns": [
        {
         "name": "Previous_Purchases",
         "rawType": "int64",
         "type": "integer"
        },
        {
         "name": "Purchase_Amount_USD",
         "rawType": "float64",
         "type": "float"
        }
       ],
       "ref": "a3d50248-6e58-4721-b409-a26ea712f32f",
       "rows": [
        [
         "1",
         "58.46987951807229"
        ],
        [
         "2",
         "60.333333333333336"
        ],
        [
         "3",
         "58.56043956043956"
        ],
        [
         "4",
         "61.27472527472528"
        ],
        [
         "5",
         "64.25287356321839"
        ],
        [
         "6",
         "55.85057471264368"
        ],
        [
         "7",
         "61.2"
        ],
        [
         "8",
         "66.67164179104478"
        ],
        [
         "9",
         "63.784615384615385"
        ],
        [
         "10",
         "58.18421052631579"
        ],
        [
         "11",
         "59.5"
        ],
        [
         "12",
         "59.25316455696203"
        ],
        [
         "13",
         "55.88405797101449"
        ],
        [
         "14",
         "57.96739130434783"
        ],
        [
         "15",
         "55.863013698630134"
        ],
        [
         "16",
         "62.15714285714286"
        ],
        [
         "17",
         "61.46268656716418"
        ],
        [
         "18",
         "59.142857142857146"
        ],
        [
         "19",
         "57.47435897435897"
        ],
        [
         "20",
         "61.89156626506024"
        ],
        [
         "21",
         "57.979166666666664"
        ],
        [
         "22",
         "54.753846153846155"
        ],
        [
         "23",
         "57.9041095890411"
        ],
        [
         "24",
         "60.1978021978022"
        ],
        [
         "25",
         "61.278481012658226"
        ],
        [
         "26",
         "58.87012987012987"
        ],
        [
         "27",
         "57.756410256410255"
        ],
        [
         "28",
         "61.8875"
        ],
        [
         "29",
         "59.73913043478261"
        ],
        [
         "30",
         "59.353658536585364"
        ],
        [
         "31",
         "57.28865979381443"
        ],
        [
         "32",
         "61.53086419753087"
        ],
        [
         "33",
         "61.98780487804878"
        ],
        [
         "34",
         "54.050632911392405"
        ],
        [
         "35",
         "59.26984126984127"
        ],
        [
         "36",
         "62.23943661971831"
        ],
        [
         "37",
         "60.51282051282051"
        ],
        [
         "38",
         "65.14285714285714"
        ],
        [
         "39",
         "57.06172839506173"
        ],
        [
         "40",
         "54.207317073170735"
        ],
        [
         "41",
         "60.75714285714286"
        ],
        [
         "42",
         "58.855421686746986"
        ],
        [
         "43",
         "61.6875"
        ],
        [
         "44",
         "61.291666666666664"
        ],
        [
         "45",
         "57.566265060240966"
        ],
        [
         "46",
         "59.58974358974359"
        ],
        [
         "47",
         "62.65555555555556"
        ],
        [
         "48",
         "63.58888888888889"
        ],
        [
         "49",
         "56.5"
        ],
        [
         "50",
         "65.27272727272727"
        ]
       ],
       "shape": {
        "columns": 1,
        "rows": 50
       }
      },
      "text/plain": [
       "Previous_Purchases\n",
       "1     58.469880\n",
       "2     60.333333\n",
       "3     58.560440\n",
       "4     61.274725\n",
       "5     64.252874\n",
       "6     55.850575\n",
       "7     61.200000\n",
       "8     66.671642\n",
       "9     63.784615\n",
       "10    58.184211\n",
       "11    59.500000\n",
       "12    59.253165\n",
       "13    55.884058\n",
       "14    57.967391\n",
       "15    55.863014\n",
       "16    62.157143\n",
       "17    61.462687\n",
       "18    59.142857\n",
       "19    57.474359\n",
       "20    61.891566\n",
       "21    57.979167\n",
       "22    54.753846\n",
       "23    57.904110\n",
       "24    60.197802\n",
       "25    61.278481\n",
       "26    58.870130\n",
       "27    57.756410\n",
       "28    61.887500\n",
       "29    59.739130\n",
       "30    59.353659\n",
       "31    57.288660\n",
       "32    61.530864\n",
       "33    61.987805\n",
       "34    54.050633\n",
       "35    59.269841\n",
       "36    62.239437\n",
       "37    60.512821\n",
       "38    65.142857\n",
       "39    57.061728\n",
       "40    54.207317\n",
       "41    60.757143\n",
       "42    58.855422\n",
       "43    61.687500\n",
       "44    61.291667\n",
       "45    57.566265\n",
       "46    59.589744\n",
       "47    62.655556\n",
       "48    63.588889\n",
       "49    56.500000\n",
       "50    65.272727\n",
       "Name: Purchase_Amount_USD, dtype: float64"
      ]
     },
     "execution_count": 38,
     "metadata": {},
     "output_type": "execute_result"
    }
   ],
   "source": [
    "df.groupby('Previous_Purchases')['Purchase_Amount_USD'].mean()\n"
   ]
  },
  {
   "cell_type": "code",
   "execution_count": 39,
   "id": "6410d188",
   "metadata": {},
   "outputs": [
    {
     "data": {
      "application/vnd.microsoft.datawrangler.viewer.v0+json": {
       "columns": [
        {
         "name": "Preferred_Payment_Method",
         "rawType": "object",
         "type": "string"
        },
        {
         "name": "Annually",
         "rawType": "int64",
         "type": "integer"
        },
        {
         "name": "Bi-Weekly",
         "rawType": "int64",
         "type": "integer"
        },
        {
         "name": "Every 3 Months",
         "rawType": "int64",
         "type": "integer"
        },
        {
         "name": "Fortnightly",
         "rawType": "int64",
         "type": "integer"
        },
        {
         "name": "Monthly",
         "rawType": "int64",
         "type": "integer"
        },
        {
         "name": "Quarterly",
         "rawType": "int64",
         "type": "integer"
        },
        {
         "name": "Weekly",
         "rawType": "int64",
         "type": "integer"
        }
       ],
       "ref": "03807819-7208-4a95-94d5-805d21ec8f69",
       "rows": [
        [
         "Bank Transfer",
         "83",
         "88",
         "85",
         "83",
         "80",
         "109",
         "84"
        ],
        [
         "Cash",
         "82",
         "98",
         "94",
         "93",
         "98",
         "104",
         "101"
        ],
        [
         "Credit Card",
         "100",
         "79",
         "115",
         "94",
         "107",
         "72",
         "104"
        ],
        [
         "Debit Card",
         "101",
         "97",
         "92",
         "95",
         "80",
         "94",
         "77"
        ],
        [
         "PayPal",
         "103",
         "88",
         "100",
         "92",
         "97",
         "103",
         "94"
        ],
        [
         "Venmo",
         "103",
         "97",
         "98",
         "85",
         "91",
         "81",
         "79"
        ]
       ],
       "shape": {
        "columns": 7,
        "rows": 6
       }
      },
      "text/html": [
       "<div>\n",
       "<style scoped>\n",
       "    .dataframe tbody tr th:only-of-type {\n",
       "        vertical-align: middle;\n",
       "    }\n",
       "\n",
       "    .dataframe tbody tr th {\n",
       "        vertical-align: top;\n",
       "    }\n",
       "\n",
       "    .dataframe thead th {\n",
       "        text-align: right;\n",
       "    }\n",
       "</style>\n",
       "<table border=\"1\" class=\"dataframe\">\n",
       "  <thead>\n",
       "    <tr style=\"text-align: right;\">\n",
       "      <th>Frequency_of_Purchases</th>\n",
       "      <th>Annually</th>\n",
       "      <th>Bi-Weekly</th>\n",
       "      <th>Every 3 Months</th>\n",
       "      <th>Fortnightly</th>\n",
       "      <th>Monthly</th>\n",
       "      <th>Quarterly</th>\n",
       "      <th>Weekly</th>\n",
       "    </tr>\n",
       "    <tr>\n",
       "      <th>Preferred_Payment_Method</th>\n",
       "      <th></th>\n",
       "      <th></th>\n",
       "      <th></th>\n",
       "      <th></th>\n",
       "      <th></th>\n",
       "      <th></th>\n",
       "      <th></th>\n",
       "    </tr>\n",
       "  </thead>\n",
       "  <tbody>\n",
       "    <tr>\n",
       "      <th>Bank Transfer</th>\n",
       "      <td>83</td>\n",
       "      <td>88</td>\n",
       "      <td>85</td>\n",
       "      <td>83</td>\n",
       "      <td>80</td>\n",
       "      <td>109</td>\n",
       "      <td>84</td>\n",
       "    </tr>\n",
       "    <tr>\n",
       "      <th>Cash</th>\n",
       "      <td>82</td>\n",
       "      <td>98</td>\n",
       "      <td>94</td>\n",
       "      <td>93</td>\n",
       "      <td>98</td>\n",
       "      <td>104</td>\n",
       "      <td>101</td>\n",
       "    </tr>\n",
       "    <tr>\n",
       "      <th>Credit Card</th>\n",
       "      <td>100</td>\n",
       "      <td>79</td>\n",
       "      <td>115</td>\n",
       "      <td>94</td>\n",
       "      <td>107</td>\n",
       "      <td>72</td>\n",
       "      <td>104</td>\n",
       "    </tr>\n",
       "    <tr>\n",
       "      <th>Debit Card</th>\n",
       "      <td>101</td>\n",
       "      <td>97</td>\n",
       "      <td>92</td>\n",
       "      <td>95</td>\n",
       "      <td>80</td>\n",
       "      <td>94</td>\n",
       "      <td>77</td>\n",
       "    </tr>\n",
       "    <tr>\n",
       "      <th>PayPal</th>\n",
       "      <td>103</td>\n",
       "      <td>88</td>\n",
       "      <td>100</td>\n",
       "      <td>92</td>\n",
       "      <td>97</td>\n",
       "      <td>103</td>\n",
       "      <td>94</td>\n",
       "    </tr>\n",
       "    <tr>\n",
       "      <th>Venmo</th>\n",
       "      <td>103</td>\n",
       "      <td>97</td>\n",
       "      <td>98</td>\n",
       "      <td>85</td>\n",
       "      <td>91</td>\n",
       "      <td>81</td>\n",
       "      <td>79</td>\n",
       "    </tr>\n",
       "  </tbody>\n",
       "</table>\n",
       "</div>"
      ],
      "text/plain": [
       "Frequency_of_Purchases    Annually  Bi-Weekly  Every 3 Months  Fortnightly  \\\n",
       "Preferred_Payment_Method                                                     \n",
       "Bank Transfer                   83         88              85           83   \n",
       "Cash                            82         98              94           93   \n",
       "Credit Card                    100         79             115           94   \n",
       "Debit Card                     101         97              92           95   \n",
       "PayPal                         103         88             100           92   \n",
       "Venmo                          103         97              98           85   \n",
       "\n",
       "Frequency_of_Purchases    Monthly  Quarterly  Weekly  \n",
       "Preferred_Payment_Method                              \n",
       "Bank Transfer                  80        109      84  \n",
       "Cash                           98        104     101  \n",
       "Credit Card                   107         72     104  \n",
       "Debit Card                     80         94      77  \n",
       "PayPal                         97        103      94  \n",
       "Venmo                          91         81      79  "
      ]
     },
     "execution_count": 39,
     "metadata": {},
     "output_type": "execute_result"
    }
   ],
   "source": [
    "pd.crosstab(df['Preferred_Payment_Method'], df['Frequency_of_Purchases'])\n"
   ]
  },
  {
   "cell_type": "code",
   "execution_count": 40,
   "id": "046d2e5d",
   "metadata": {},
   "outputs": [
    {
     "data": {
      "application/vnd.microsoft.datawrangler.viewer.v0+json": {
       "columns": [
        {
         "name": "Category",
         "rawType": "object",
         "type": "string"
        },
        {
         "name": "Annually",
         "rawType": "int64",
         "type": "integer"
        },
        {
         "name": "Bi-Weekly",
         "rawType": "int64",
         "type": "integer"
        },
        {
         "name": "Every 3 Months",
         "rawType": "int64",
         "type": "integer"
        },
        {
         "name": "Fortnightly",
         "rawType": "int64",
         "type": "integer"
        },
        {
         "name": "Monthly",
         "rawType": "int64",
         "type": "integer"
        },
        {
         "name": "Quarterly",
         "rawType": "int64",
         "type": "integer"
        },
        {
         "name": "Weekly",
         "rawType": "int64",
         "type": "integer"
        }
       ],
       "ref": "c5b75489-eef0-4306-89e1-d75c78fc4edf",
       "rows": [
        [
         "Accessories",
         "184",
         "180",
         "180",
         "170",
         "171",
         "189",
         "166"
        ],
        [
         "Clothing",
         "258",
         "247",
         "265",
         "223",
         "263",
         "239",
         "242"
        ],
        [
         "Footwear",
         "87",
         "80",
         "92",
         "96",
         "75",
         "83",
         "86"
        ],
        [
         "Outerwear",
         "43",
         "40",
         "47",
         "53",
         "44",
         "52",
         "45"
        ]
       ],
       "shape": {
        "columns": 7,
        "rows": 4
       }
      },
      "text/html": [
       "<div>\n",
       "<style scoped>\n",
       "    .dataframe tbody tr th:only-of-type {\n",
       "        vertical-align: middle;\n",
       "    }\n",
       "\n",
       "    .dataframe tbody tr th {\n",
       "        vertical-align: top;\n",
       "    }\n",
       "\n",
       "    .dataframe thead th {\n",
       "        text-align: right;\n",
       "    }\n",
       "</style>\n",
       "<table border=\"1\" class=\"dataframe\">\n",
       "  <thead>\n",
       "    <tr style=\"text-align: right;\">\n",
       "      <th>Frequency_of_Purchases</th>\n",
       "      <th>Annually</th>\n",
       "      <th>Bi-Weekly</th>\n",
       "      <th>Every 3 Months</th>\n",
       "      <th>Fortnightly</th>\n",
       "      <th>Monthly</th>\n",
       "      <th>Quarterly</th>\n",
       "      <th>Weekly</th>\n",
       "    </tr>\n",
       "    <tr>\n",
       "      <th>Category</th>\n",
       "      <th></th>\n",
       "      <th></th>\n",
       "      <th></th>\n",
       "      <th></th>\n",
       "      <th></th>\n",
       "      <th></th>\n",
       "      <th></th>\n",
       "    </tr>\n",
       "  </thead>\n",
       "  <tbody>\n",
       "    <tr>\n",
       "      <th>Accessories</th>\n",
       "      <td>184</td>\n",
       "      <td>180</td>\n",
       "      <td>180</td>\n",
       "      <td>170</td>\n",
       "      <td>171</td>\n",
       "      <td>189</td>\n",
       "      <td>166</td>\n",
       "    </tr>\n",
       "    <tr>\n",
       "      <th>Clothing</th>\n",
       "      <td>258</td>\n",
       "      <td>247</td>\n",
       "      <td>265</td>\n",
       "      <td>223</td>\n",
       "      <td>263</td>\n",
       "      <td>239</td>\n",
       "      <td>242</td>\n",
       "    </tr>\n",
       "    <tr>\n",
       "      <th>Footwear</th>\n",
       "      <td>87</td>\n",
       "      <td>80</td>\n",
       "      <td>92</td>\n",
       "      <td>96</td>\n",
       "      <td>75</td>\n",
       "      <td>83</td>\n",
       "      <td>86</td>\n",
       "    </tr>\n",
       "    <tr>\n",
       "      <th>Outerwear</th>\n",
       "      <td>43</td>\n",
       "      <td>40</td>\n",
       "      <td>47</td>\n",
       "      <td>53</td>\n",
       "      <td>44</td>\n",
       "      <td>52</td>\n",
       "      <td>45</td>\n",
       "    </tr>\n",
       "  </tbody>\n",
       "</table>\n",
       "</div>"
      ],
      "text/plain": [
       "Frequency_of_Purchases  Annually  Bi-Weekly  Every 3 Months  Fortnightly  \\\n",
       "Category                                                                   \n",
       "Accessories                  184        180             180          170   \n",
       "Clothing                     258        247             265          223   \n",
       "Footwear                      87         80              92           96   \n",
       "Outerwear                     43         40              47           53   \n",
       "\n",
       "Frequency_of_Purchases  Monthly  Quarterly  Weekly  \n",
       "Category                                            \n",
       "Accessories                 171        189     166  \n",
       "Clothing                    263        239     242  \n",
       "Footwear                     75         83      86  \n",
       "Outerwear                    44         52      45  "
      ]
     },
     "execution_count": 40,
     "metadata": {},
     "output_type": "execute_result"
    }
   ],
   "source": [
    "pd.crosstab(df['Category'], df['Frequency_of_Purchases'])\n"
   ]
  },
  {
   "cell_type": "code",
   "execution_count": 46,
   "id": "4e85f85a",
   "metadata": {},
   "outputs": [
    {
     "data": {
      "application/vnd.microsoft.datawrangler.viewer.v0+json": {
       "columns": [
        {
         "name": "index",
         "rawType": "int64",
         "type": "integer"
        },
        {
         "name": "Customer_ID",
         "rawType": "int64",
         "type": "integer"
        },
        {
         "name": "Purchase_Amount_USD",
         "rawType": "int64",
         "type": "integer"
        }
       ],
       "ref": "91016855-86b3-41cc-828d-ac0b335a7a7e",
       "rows": [
        [
         "0",
         "1",
         "53"
        ],
        [
         "1",
         "2",
         "64"
        ],
        [
         "2",
         "3",
         "73"
        ],
        [
         "3",
         "4",
         "90"
        ],
        [
         "4",
         "5",
         "49"
        ],
        [
         "5",
         "6",
         "20"
        ],
        [
         "6",
         "7",
         "85"
        ],
        [
         "7",
         "8",
         "34"
        ],
        [
         "8",
         "9",
         "97"
        ],
        [
         "9",
         "10",
         "31"
        ],
        [
         "10",
         "11",
         "34"
        ],
        [
         "11",
         "12",
         "68"
        ],
        [
         "12",
         "13",
         "72"
        ],
        [
         "13",
         "14",
         "51"
        ],
        [
         "14",
         "15",
         "53"
        ],
        [
         "15",
         "16",
         "81"
        ],
        [
         "16",
         "17",
         "36"
        ],
        [
         "17",
         "18",
         "38"
        ],
        [
         "18",
         "19",
         "48"
        ],
        [
         "19",
         "20",
         "90"
        ],
        [
         "20",
         "21",
         "51"
        ],
        [
         "21",
         "22",
         "62"
        ],
        [
         "22",
         "23",
         "37"
        ],
        [
         "23",
         "24",
         "88"
        ],
        [
         "24",
         "25",
         "22"
        ],
        [
         "25",
         "26",
         "25"
        ],
        [
         "26",
         "27",
         "20"
        ],
        [
         "27",
         "28",
         "56"
        ],
        [
         "28",
         "29",
         "94"
        ],
        [
         "29",
         "30",
         "48"
        ],
        [
         "30",
         "31",
         "31"
        ],
        [
         "31",
         "32",
         "79"
        ],
        [
         "32",
         "33",
         "67"
        ],
        [
         "33",
         "34",
         "38"
        ],
        [
         "34",
         "35",
         "91"
        ],
        [
         "35",
         "36",
         "33"
        ],
        [
         "36",
         "37",
         "69"
        ],
        [
         "37",
         "38",
         "45"
        ],
        [
         "38",
         "39",
         "37"
        ],
        [
         "39",
         "40",
         "60"
        ],
        [
         "40",
         "41",
         "76"
        ],
        [
         "41",
         "42",
         "39"
        ],
        [
         "42",
         "43",
         "100"
        ],
        [
         "43",
         "44",
         "69"
        ],
        [
         "44",
         "45",
         "53"
        ],
        [
         "45",
         "46",
         "21"
        ],
        [
         "46",
         "47",
         "43"
        ],
        [
         "47",
         "48",
         "54"
        ],
        [
         "48",
         "49",
         "55"
        ],
        [
         "49",
         "50",
         "30"
        ]
       ],
       "shape": {
        "columns": 2,
        "rows": 3900
       }
      },
      "text/html": [
       "<div>\n",
       "<style scoped>\n",
       "    .dataframe tbody tr th:only-of-type {\n",
       "        vertical-align: middle;\n",
       "    }\n",
       "\n",
       "    .dataframe tbody tr th {\n",
       "        vertical-align: top;\n",
       "    }\n",
       "\n",
       "    .dataframe thead th {\n",
       "        text-align: right;\n",
       "    }\n",
       "</style>\n",
       "<table border=\"1\" class=\"dataframe\">\n",
       "  <thead>\n",
       "    <tr style=\"text-align: center;\">\n",
       "      <th></th>\n",
       "      <th>Customer_ID</th>\n",
       "      <th>Purchase_Amount_USD</th>\n",
       "    </tr>\n",
       "  </thead>\n",
       "  <tbody>\n",
       "    <tr>\n",
       "      <th>0</th>\n",
       "      <td>1</td>\n",
       "      <td>53</td>\n",
       "    </tr>\n",
       "    <tr>\n",
       "      <th>1</th>\n",
       "      <td>2</td>\n",
       "      <td>64</td>\n",
       "    </tr>\n",
       "    <tr>\n",
       "      <th>2</th>\n",
       "      <td>3</td>\n",
       "      <td>73</td>\n",
       "    </tr>\n",
       "    <tr>\n",
       "      <th>3</th>\n",
       "      <td>4</td>\n",
       "      <td>90</td>\n",
       "    </tr>\n",
       "    <tr>\n",
       "      <th>4</th>\n",
       "      <td>5</td>\n",
       "      <td>49</td>\n",
       "    </tr>\n",
       "    <tr>\n",
       "      <th>...</th>\n",
       "      <td>...</td>\n",
       "      <td>...</td>\n",
       "    </tr>\n",
       "    <tr>\n",
       "      <th>3895</th>\n",
       "      <td>3896</td>\n",
       "      <td>28</td>\n",
       "    </tr>\n",
       "    <tr>\n",
       "      <th>3896</th>\n",
       "      <td>3897</td>\n",
       "      <td>49</td>\n",
       "    </tr>\n",
       "    <tr>\n",
       "      <th>3897</th>\n",
       "      <td>3898</td>\n",
       "      <td>33</td>\n",
       "    </tr>\n",
       "    <tr>\n",
       "      <th>3898</th>\n",
       "      <td>3899</td>\n",
       "      <td>77</td>\n",
       "    </tr>\n",
       "    <tr>\n",
       "      <th>3899</th>\n",
       "      <td>3900</td>\n",
       "      <td>81</td>\n",
       "    </tr>\n",
       "  </tbody>\n",
       "</table>\n",
       "<p>3900 rows × 2 columns</p>\n",
       "</div>"
      ],
      "text/plain": [
       "      Customer_ID  Purchase_Amount_USD\n",
       "0           1              53         \n",
       "1           2              64         \n",
       "2           3              73         \n",
       "3           4              90         \n",
       "4           5              49         \n",
       "...           ...                  ...\n",
       "3895     3896              28         \n",
       "3896     3897              49         \n",
       "3897     3898              33         \n",
       "3898     3899              77         \n",
       "3899     3900              81         \n",
       "\n",
       "[3900 rows x 2 columns]"
      ]
     },
     "execution_count": 46,
     "metadata": {},
     "output_type": "execute_result"
    }
   ],
   "source": [
    "x=df.groupby('Customer_ID')['Purchase_Amount_USD'].sum().reset_index()\n",
    "x"
   ]
  },
  {
   "cell_type": "code",
   "execution_count": 47,
   "id": "99429d52",
   "metadata": {},
   "outputs": [],
   "source": [
    "x['Segment'] = pd.qcut(x['Purchase_Amount_USD'], 4, \n",
    "                                  labels=['Low Value', 'Mid-Low Value', 'Mid-High Value', 'High Value'])"
   ]
  },
  {
   "cell_type": "code",
   "execution_count": 48,
   "id": "5c16df60",
   "metadata": {},
   "outputs": [
    {
     "data": {
      "application/vnd.microsoft.datawrangler.viewer.v0+json": {
       "columns": [
        {
         "name": "index",
         "rawType": "int64",
         "type": "integer"
        },
        {
         "name": "Customer_ID",
         "rawType": "int64",
         "type": "integer"
        },
        {
         "name": "Purchase_Amount_USD",
         "rawType": "int64",
         "type": "integer"
        },
        {
         "name": "Segment",
         "rawType": "category",
         "type": "unknown"
        }
       ],
       "ref": "74ba06ae-715a-453a-b7c1-4995f6dfa370",
       "rows": [
        [
         "0",
         "1",
         "53",
         "Mid-Low Value"
        ],
        [
         "1",
         "2",
         "64",
         "Mid-High Value"
        ],
        [
         "2",
         "3",
         "73",
         "Mid-High Value"
        ],
        [
         "3",
         "4",
         "90",
         "High Value"
        ],
        [
         "4",
         "5",
         "49",
         "Mid-Low Value"
        ],
        [
         "5",
         "6",
         "20",
         "Low Value"
        ],
        [
         "6",
         "7",
         "85",
         "High Value"
        ],
        [
         "7",
         "8",
         "34",
         "Low Value"
        ],
        [
         "8",
         "9",
         "97",
         "High Value"
        ],
        [
         "9",
         "10",
         "31",
         "Low Value"
        ],
        [
         "10",
         "11",
         "34",
         "Low Value"
        ],
        [
         "11",
         "12",
         "68",
         "Mid-High Value"
        ],
        [
         "12",
         "13",
         "72",
         "Mid-High Value"
        ],
        [
         "13",
         "14",
         "51",
         "Mid-Low Value"
        ],
        [
         "14",
         "15",
         "53",
         "Mid-Low Value"
        ],
        [
         "15",
         "16",
         "81",
         "Mid-High Value"
        ],
        [
         "16",
         "17",
         "36",
         "Low Value"
        ],
        [
         "17",
         "18",
         "38",
         "Low Value"
        ],
        [
         "18",
         "19",
         "48",
         "Mid-Low Value"
        ],
        [
         "19",
         "20",
         "90",
         "High Value"
        ],
        [
         "20",
         "21",
         "51",
         "Mid-Low Value"
        ],
        [
         "21",
         "22",
         "62",
         "Mid-High Value"
        ],
        [
         "22",
         "23",
         "37",
         "Low Value"
        ],
        [
         "23",
         "24",
         "88",
         "High Value"
        ],
        [
         "24",
         "25",
         "22",
         "Low Value"
        ],
        [
         "25",
         "26",
         "25",
         "Low Value"
        ],
        [
         "26",
         "27",
         "20",
         "Low Value"
        ],
        [
         "27",
         "28",
         "56",
         "Mid-Low Value"
        ],
        [
         "28",
         "29",
         "94",
         "High Value"
        ],
        [
         "29",
         "30",
         "48",
         "Mid-Low Value"
        ],
        [
         "30",
         "31",
         "31",
         "Low Value"
        ],
        [
         "31",
         "32",
         "79",
         "Mid-High Value"
        ],
        [
         "32",
         "33",
         "67",
         "Mid-High Value"
        ],
        [
         "33",
         "34",
         "38",
         "Low Value"
        ],
        [
         "34",
         "35",
         "91",
         "High Value"
        ],
        [
         "35",
         "36",
         "33",
         "Low Value"
        ],
        [
         "36",
         "37",
         "69",
         "Mid-High Value"
        ],
        [
         "37",
         "38",
         "45",
         "Mid-Low Value"
        ],
        [
         "38",
         "39",
         "37",
         "Low Value"
        ],
        [
         "39",
         "40",
         "60",
         "Mid-Low Value"
        ],
        [
         "40",
         "41",
         "76",
         "Mid-High Value"
        ],
        [
         "41",
         "42",
         "39",
         "Low Value"
        ],
        [
         "42",
         "43",
         "100",
         "High Value"
        ],
        [
         "43",
         "44",
         "69",
         "Mid-High Value"
        ],
        [
         "44",
         "45",
         "53",
         "Mid-Low Value"
        ],
        [
         "45",
         "46",
         "21",
         "Low Value"
        ],
        [
         "46",
         "47",
         "43",
         "Mid-Low Value"
        ],
        [
         "47",
         "48",
         "54",
         "Mid-Low Value"
        ],
        [
         "48",
         "49",
         "55",
         "Mid-Low Value"
        ],
        [
         "49",
         "50",
         "30",
         "Low Value"
        ]
       ],
       "shape": {
        "columns": 3,
        "rows": 3900
       }
      },
      "text/html": [
       "<div>\n",
       "<style scoped>\n",
       "    .dataframe tbody tr th:only-of-type {\n",
       "        vertical-align: middle;\n",
       "    }\n",
       "\n",
       "    .dataframe tbody tr th {\n",
       "        vertical-align: top;\n",
       "    }\n",
       "\n",
       "    .dataframe thead th {\n",
       "        text-align: right;\n",
       "    }\n",
       "</style>\n",
       "<table border=\"1\" class=\"dataframe\">\n",
       "  <thead>\n",
       "    <tr style=\"text-align: center;\">\n",
       "      <th></th>\n",
       "      <th>Customer_ID</th>\n",
       "      <th>Purchase_Amount_USD</th>\n",
       "      <th>Segment</th>\n",
       "    </tr>\n",
       "  </thead>\n",
       "  <tbody>\n",
       "    <tr>\n",
       "      <th>0</th>\n",
       "      <td>1</td>\n",
       "      <td>53</td>\n",
       "      <td>Mid-Low Value</td>\n",
       "    </tr>\n",
       "    <tr>\n",
       "      <th>1</th>\n",
       "      <td>2</td>\n",
       "      <td>64</td>\n",
       "      <td>Mid-High Value</td>\n",
       "    </tr>\n",
       "    <tr>\n",
       "      <th>2</th>\n",
       "      <td>3</td>\n",
       "      <td>73</td>\n",
       "      <td>Mid-High Value</td>\n",
       "    </tr>\n",
       "    <tr>\n",
       "      <th>3</th>\n",
       "      <td>4</td>\n",
       "      <td>90</td>\n",
       "      <td>High Value</td>\n",
       "    </tr>\n",
       "    <tr>\n",
       "      <th>4</th>\n",
       "      <td>5</td>\n",
       "      <td>49</td>\n",
       "      <td>Mid-Low Value</td>\n",
       "    </tr>\n",
       "    <tr>\n",
       "      <th>...</th>\n",
       "      <td>...</td>\n",
       "      <td>...</td>\n",
       "      <td>...</td>\n",
       "    </tr>\n",
       "    <tr>\n",
       "      <th>3895</th>\n",
       "      <td>3896</td>\n",
       "      <td>28</td>\n",
       "      <td>Low Value</td>\n",
       "    </tr>\n",
       "    <tr>\n",
       "      <th>3896</th>\n",
       "      <td>3897</td>\n",
       "      <td>49</td>\n",
       "      <td>Mid-Low Value</td>\n",
       "    </tr>\n",
       "    <tr>\n",
       "      <th>3897</th>\n",
       "      <td>3898</td>\n",
       "      <td>33</td>\n",
       "      <td>Low Value</td>\n",
       "    </tr>\n",
       "    <tr>\n",
       "      <th>3898</th>\n",
       "      <td>3899</td>\n",
       "      <td>77</td>\n",
       "      <td>Mid-High Value</td>\n",
       "    </tr>\n",
       "    <tr>\n",
       "      <th>3899</th>\n",
       "      <td>3900</td>\n",
       "      <td>81</td>\n",
       "      <td>Mid-High Value</td>\n",
       "    </tr>\n",
       "  </tbody>\n",
       "</table>\n",
       "<p>3900 rows × 3 columns</p>\n",
       "</div>"
      ],
      "text/plain": [
       "      Customer_ID  Purchase_Amount_USD     Segment    \n",
       "0           1              53            Mid-Low Value\n",
       "1           2              64           Mid-High Value\n",
       "2           3              73           Mid-High Value\n",
       "3           4              90               High Value\n",
       "4           5              49            Mid-Low Value\n",
       "...           ...                  ...             ...\n",
       "3895     3896              28                Low Value\n",
       "3896     3897              49            Mid-Low Value\n",
       "3897     3898              33                Low Value\n",
       "3898     3899              77           Mid-High Value\n",
       "3899     3900              81           Mid-High Value\n",
       "\n",
       "[3900 rows x 3 columns]"
      ]
     },
     "execution_count": 48,
     "metadata": {},
     "output_type": "execute_result"
    }
   ],
   "source": [
    "x"
   ]
  },
  {
   "cell_type": "code",
   "execution_count": null,
   "id": "535286a4",
   "metadata": {},
   "outputs": [],
   "source": []
  }
 ],
 "metadata": {
  "kernelspec": {
   "display_name": "Python 3",
   "language": "python",
   "name": "python3"
  },
  "language_info": {
   "codemirror_mode": {
    "name": "ipython",
    "version": 3
   },
   "file_extension": ".py",
   "mimetype": "text/x-python",
   "name": "python",
   "nbconvert_exporter": "python",
   "pygments_lexer": "ipython3",
   "version": "3.12.8"
  }
 },
 "nbformat": 4,
 "nbformat_minor": 5
}
